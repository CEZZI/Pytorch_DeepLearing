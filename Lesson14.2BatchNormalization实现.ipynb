{
 "cells": [
  {
   "cell_type": "markdown",
   "metadata": {},
   "source": [
    "# Lesson 14.2 Batch Normalization在PyTorch中的实\n",
    "\n",
    "## 一、nn.BatchNorm基本使用方法\n",
    "\n",
    "### 1.nn.BatchNorm类介绍\n",
    "\n",
    "nn.BatchNorm1d类主要用于处理2d数据，nn.BatchNorm2d则主要用来处理3d数据。简单来说，目前我们所使用的面板数据（二维表格数据）都属于2d数据，使用nn.BatchNorm1d处理即可。而后续在处理图像数据时，则需要视情况和使用nn.BatchNorm2d类。\n",
    "\n",
    "首先我们解释其中三个核心参数：  \n",
    "- `num_features`：输入数据的特征数量（假设为n），也就是前一层神经元数量或原始数据集特征数量，根据此前的论述，BN层最终构建的是一个n*n的对角矩阵，对角线元素包含$\\gamma$，并且截距项为$\\beta$；\n",
    "- `eps`：方差分母修正项，为了防止分母为0；\n",
    "- `affine`：是否进行仿射变换，需要注意的是，此时进行仿射变换时将使用无偏估计进行期望和方差的计算，并且初始条件下$\\gamma=1，\\beta=0$，当参数取值为True时，会显式设置$\\gamma和\\beta$参数并带入进行梯度下降迭代计算，取值为False时，参数不显示，实际的数据归一化过程就是对原数据进行无偏估计下的Z-Score变换。"
   ]
  },
  {
   "cell_type": "code",
   "execution_count": 1,
   "metadata": {},
   "outputs": [
    {
     "name": "stdout",
     "output_type": "stream",
     "text": [
      "\u001b[1;31mInit signature:\u001b[0m\n",
      "\u001b[0mnn\u001b[0m\u001b[1;33m.\u001b[0m\u001b[0mBatchNorm1d\u001b[0m\u001b[1;33m(\u001b[0m\u001b[1;33m\n",
      "\u001b[0m    \u001b[0mnum_features\u001b[0m\u001b[1;33m:\u001b[0m \u001b[0mint\u001b[0m\u001b[1;33m,\u001b[0m\u001b[1;33m\n",
      "\u001b[0m    \u001b[0meps\u001b[0m\u001b[1;33m:\u001b[0m \u001b[0mfloat\u001b[0m \u001b[1;33m=\u001b[0m \u001b[1;36m1e-05\u001b[0m\u001b[1;33m,\u001b[0m\u001b[1;33m\n",
      "\u001b[0m    \u001b[0mmomentum\u001b[0m\u001b[1;33m:\u001b[0m \u001b[0mfloat\u001b[0m \u001b[1;33m=\u001b[0m \u001b[1;36m0.1\u001b[0m\u001b[1;33m,\u001b[0m\u001b[1;33m\n",
      "\u001b[0m    \u001b[0maffine\u001b[0m\u001b[1;33m:\u001b[0m \u001b[0mbool\u001b[0m \u001b[1;33m=\u001b[0m \u001b[1;32mTrue\u001b[0m\u001b[1;33m,\u001b[0m\u001b[1;33m\n",
      "\u001b[0m    \u001b[0mtrack_running_stats\u001b[0m\u001b[1;33m:\u001b[0m \u001b[0mbool\u001b[0m \u001b[1;33m=\u001b[0m \u001b[1;32mTrue\u001b[0m\u001b[1;33m,\u001b[0m\u001b[1;33m\n",
      "\u001b[0m    \u001b[0mdevice\u001b[0m\u001b[1;33m=\u001b[0m\u001b[1;32mNone\u001b[0m\u001b[1;33m,\u001b[0m\u001b[1;33m\n",
      "\u001b[0m    \u001b[0mdtype\u001b[0m\u001b[1;33m=\u001b[0m\u001b[1;32mNone\u001b[0m\u001b[1;33m,\u001b[0m\u001b[1;33m\n",
      "\u001b[0m\u001b[1;33m)\u001b[0m \u001b[1;33m->\u001b[0m \u001b[1;32mNone\u001b[0m\u001b[1;33m\u001b[0m\u001b[1;33m\u001b[0m\u001b[0m\n",
      "\u001b[1;31mDocstring:\u001b[0m     \n",
      "Applies Batch Normalization over a 2D or 3D input as described in the paper\n",
      "`Batch Normalization: Accelerating Deep Network Training by Reducing\n",
      "Internal Covariate Shift <https://arxiv.org/abs/1502.03167>`__ .\n",
      "\n",
      ".. math::\n",
      "\n",
      "    y = \\frac{x - \\mathrm{E}[x]}{\\sqrt{\\mathrm{Var}[x] + \\epsilon}} * \\gamma + \\beta\n",
      "\n",
      "The mean and standard-deviation are calculated per-dimension over\n",
      "the mini-batches and :math:`\\gamma` and :math:`\\beta` are learnable parameter vectors\n",
      "of size `C` (where `C` is the number of features or channels of the input). By default, the\n",
      "elements of :math:`\\gamma` are set to 1 and the elements of :math:`\\beta` are set to 0. The\n",
      "standard-deviation is calculated via the biased estimator, equivalent to `torch.var(input, unbiased=False)`.\n",
      "\n",
      "Also by default, during training this layer keeps running estimates of its\n",
      "computed mean and variance, which are then used for normalization during\n",
      "evaluation. The running estimates are kept with a default :attr:`momentum`\n",
      "of 0.1.\n",
      "\n",
      "If :attr:`track_running_stats` is set to ``False``, this layer then does not\n",
      "keep running estimates, and batch statistics are instead used during\n",
      "evaluation time as well.\n",
      "\n",
      ".. note::\n",
      "    This :attr:`momentum` argument is different from one used in optimizer\n",
      "    classes and the conventional notion of momentum. Mathematically, the\n",
      "    update rule for running statistics here is\n",
      "    :math:`\\hat{x}_\\text{new} = (1 - \\text{momentum}) \\times \\hat{x} + \\text{momentum} \\times x_t`,\n",
      "    where :math:`\\hat{x}` is the estimated statistic and :math:`x_t` is the\n",
      "    new observed value.\n",
      "\n",
      "Because the Batch Normalization is done over the `C` dimension, computing statistics\n",
      "on `(N, L)` slices, it's common terminology to call this Temporal Batch Normalization.\n",
      "\n",
      "Args:\n",
      "    num_features: number of features or channels :math:`C` of the input\n",
      "    eps: a value added to the denominator for numerical stability.\n",
      "        Default: 1e-5\n",
      "    momentum: the value used for the running_mean and running_var\n",
      "        computation. Can be set to ``None`` for cumulative moving average\n",
      "        (i.e. simple average). Default: 0.1\n",
      "    affine: a boolean value that when set to ``True``, this module has\n",
      "        learnable affine parameters. Default: ``True``\n",
      "    track_running_stats: a boolean value that when set to ``True``, this\n",
      "        module tracks the running mean and variance, and when set to ``False``,\n",
      "        this module does not track such statistics, and initializes statistics\n",
      "        buffers :attr:`running_mean` and :attr:`running_var` as ``None``.\n",
      "        When these buffers are ``None``, this module always uses batch statistics.\n",
      "        in both training and eval modes. Default: ``True``\n",
      "\n",
      "Shape:\n",
      "    - Input: :math:`(N, C)` or :math:`(N, C, L)`, where :math:`N` is the batch size,\n",
      "      :math:`C` is the number of features or channels, and :math:`L` is the sequence length\n",
      "    - Output: :math:`(N, C)` or :math:`(N, C, L)` (same shape as input)\n",
      "\n",
      "Examples::\n",
      "\n",
      "    >>> # With Learnable Parameters\n",
      "    >>> m = nn.BatchNorm1d(100)\n",
      "    >>> # Without Learnable Parameters\n",
      "    >>> m = nn.BatchNorm1d(100, affine=False)\n",
      "    >>> input = torch.randn(20, 100)\n",
      "    >>> output = m(input)\n",
      "\u001b[1;31mInit docstring:\u001b[0m Initializes internal Module state, shared by both nn.Module and ScriptModule.\n",
      "\u001b[1;31mFile:\u001b[0m           c:\\users\\hp\\python\\python310\\lib\\site-packages\\torch\\nn\\modules\\batchnorm.py\n",
      "\u001b[1;31mType:\u001b[0m           type\n",
      "\u001b[1;31mSubclasses:\u001b[0m     \n"
     ]
    }
   ],
   "source": [
    "# 查看帮助\n",
    "nn.BatchNorm1d?"
   ]
  },
  {
   "cell_type": "code",
   "execution_count": 2,
   "metadata": {},
   "outputs": [
    {
     "data": {
      "text/plain": [
       "tensor([[0., 1., 2.],\n",
       "        [3., 4., 5.],\n",
       "        [6., 7., 8.]])"
      ]
     },
     "execution_count": 2,
     "metadata": {},
     "output_type": "execute_result"
    },
    {
     "data": {
      "text/plain": [
       "tensor([[-1.2247, -1.2247, -1.2247],\n",
       "        [ 0.0000,  0.0000,  0.0000],\n",
       "        [ 1.2247,  1.2247,  1.2247]], grad_fn=<NativeBatchNormBackward0>)"
      ]
     },
     "execution_count": 2,
     "metadata": {},
     "output_type": "execute_result"
    },
    {
     "data": {
      "text/plain": [
       "tensor([[-1., -1., -1.],\n",
       "        [ 0.,  0.,  0.],\n",
       "        [ 1.,  1.,  1.]])"
      ]
     },
     "execution_count": 2,
     "metadata": {},
     "output_type": "execute_result"
    }
   ],
   "source": [
    "# 简单尝试\n",
    "f = torch.arange(9).reshape(3, 3).float()\n",
    "f\n",
    "\n",
    "# 实例化一个BN类\n",
    "bn1 = nn.BatchNorm1d(3)\n",
    "\n",
    "bn1(f)\n",
    "\n",
    "# Z-Score计算结果\n",
    "(f - torch.mean(f, 0)) / torch.sqrt(torch.var(f, 0))"
   ]
  },
  {
   "cell_type": "code",
   "execution_count": 3,
   "metadata": {},
   "outputs": [
    {
     "data": {
      "text/plain": [
       "tensor([1., 2.])"
      ]
     },
     "execution_count": 3,
     "metadata": {},
     "output_type": "execute_result"
    }
   ],
   "source": [
    "t = torch.tensor([1., 2])\n",
    "t"
   ]
  },
  {
   "cell_type": "code",
   "execution_count": 4,
   "metadata": {},
   "outputs": [
    {
     "data": {
      "text/plain": [
       "tensor(0.5000)"
      ]
     },
     "execution_count": 4,
     "metadata": {},
     "output_type": "execute_result"
    }
   ],
   "source": [
    "# 整体方差的无偏估计\n",
    "torch.var(t)"
   ]
  },
  {
   "cell_type": "code",
   "execution_count": 5,
   "metadata": {},
   "outputs": [
    {
     "data": {
      "text/plain": [
       "tensor([6., 6., 6.])"
      ]
     },
     "execution_count": 5,
     "metadata": {},
     "output_type": "execute_result"
    }
   ],
   "source": [
    "torch.var(f, 0, unbiased=False)"
   ]
  },
  {
   "cell_type": "code",
   "execution_count": 6,
   "metadata": {},
   "outputs": [
    {
     "data": {
      "text/plain": [
       "tensor([[-1.2247, -1.2247, -1.2247],\n",
       "        [ 0.0000,  0.0000,  0.0000],\n",
       "        [ 1.2247,  1.2247,  1.2247]])"
      ]
     },
     "execution_count": 6,
     "metadata": {},
     "output_type": "execute_result"
    }
   ],
   "source": [
    "# 样本方差计算结果\n",
    "(f - torch.mean(f, 0)) / torch.sqrt(torch.var(f, 0, unbiased=False))"
   ]
  },
  {
   "cell_type": "markdown",
   "metadata": {},
   "source": [
    "> 注，torch.var中可通过设置unbiased参数来进行样本方差计算"
   ]
  },
  {
   "cell_type": "code",
   "execution_count": 7,
   "metadata": {},
   "outputs": [
    {
     "data": {
      "text/plain": [
       "[Parameter containing:\n",
       " tensor([1., 1., 1.], requires_grad=True),\n",
       " Parameter containing:\n",
       " tensor([0., 0., 0.], requires_grad=True)]"
      ]
     },
     "execution_count": 7,
     "metadata": {},
     "output_type": "execute_result"
    }
   ],
   "source": [
    "# 查看bn1的参数情况\n",
    "list(bn1.parameters())"
   ]
  },
  {
   "cell_type": "markdown",
   "metadata": {},
   "source": [
    "据此也可确认在迭代开始之前，$\\gamma和\\beta$的初始值。同时，根据参数的可微性，我们也能看出其最终也是需要通过反向传播计算梯度，然后利用梯度下降进行求解的。\n",
    "\n",
    "当然，此处如果我们将affine参数设置为False，则无法查看参数，并且归一化过程就是简单的在无偏估计下对数据进行Z-Score归一化。"
   ]
  },
  {
   "cell_type": "code",
   "execution_count": 8,
   "metadata": {},
   "outputs": [],
   "source": [
    "bn2 = nn.BatchNorm1d(3, affine=False)"
   ]
  },
  {
   "cell_type": "code",
   "execution_count": 9,
   "metadata": {},
   "outputs": [
    {
     "data": {
      "text/plain": [
       "[]"
      ]
     },
     "execution_count": 9,
     "metadata": {},
     "output_type": "execute_result"
    }
   ],
   "source": [
    "list(bn2.parameters())       # 此时无法查看bn2参数"
   ]
  },
  {
   "cell_type": "code",
   "execution_count": 10,
   "metadata": {},
   "outputs": [
    {
     "data": {
      "text/plain": [
       "tensor([[-1.2247, -1.2247, -1.2247],\n",
       "        [ 0.0000,  0.0000,  0.0000],\n",
       "        [ 1.2247,  1.2247,  1.2247]])"
      ]
     },
     "execution_count": 10,
     "metadata": {},
     "output_type": "execute_result"
    }
   ],
   "source": [
    "bn2(f)                       \n",
    "# 处理后的数据也不是可微的，无法进行反向传播，因此也无法修改BN参数"
   ]
  },
  {
   "cell_type": "markdown",
   "metadata": {},
   "source": [
    "- 训练数据均值与方差的迭代计算\n",
    "\n",
    "  - 针对测试集计算的均值和方差就是真实计算出的训练数据的均值和方差，而不是一个估计的结果。\n",
    "\n",
    "- nn.BatchNorm1d(3) 实例化\n",
    "- 属性`.running_mean`\n",
    "- `.running_var`"
   ]
  },
  {
   "cell_type": "code",
   "execution_count": 11,
   "metadata": {},
   "outputs": [
    {
     "data": {
      "text/plain": [
       "tensor([[0., 1., 2.],\n",
       "        [3., 4., 5.],\n",
       "        [6., 7., 8.]])"
      ]
     },
     "execution_count": 11,
     "metadata": {},
     "output_type": "execute_result"
    }
   ],
   "source": [
    "f = torch.arange(9).reshape(3, 3).float()\n",
    "f"
   ]
  },
  {
   "cell_type": "code",
   "execution_count": 12,
   "metadata": {},
   "outputs": [],
   "source": [
    "bn1 = nn.BatchNorm1d(3)  # 实例化\n"
   ]
  },
  {
   "cell_type": "code",
   "execution_count": 15,
   "metadata": {},
   "outputs": [
    {
     "data": {
      "text/plain": [
       "tensor([0., 0., 0.])"
      ]
     },
     "execution_count": 15,
     "metadata": {},
     "output_type": "execute_result"
    },
    {
     "data": {
      "text/plain": [
       "tensor([1., 1., 1.])"
      ]
     },
     "execution_count": 15,
     "metadata": {},
     "output_type": "execute_result"
    }
   ],
   "source": [
    "bn1.running_mean\n",
    "bn1.running_var"
   ]
  },
  {
   "cell_type": "code",
   "execution_count": 16,
   "metadata": {},
   "outputs": [
    {
     "data": {
      "text/plain": [
       "tensor([[-1.2247, -1.2247, -1.2247],\n",
       "        [ 0.0000,  0.0000,  0.0000],\n",
       "        [ 1.2247,  1.2247,  1.2247]], grad_fn=<NativeBatchNormBackward0>)"
      ]
     },
     "execution_count": 16,
     "metadata": {},
     "output_type": "execute_result"
    }
   ],
   "source": [
    "bn1(f)"
   ]
  },
  {
   "cell_type": "code",
   "execution_count": 18,
   "metadata": {},
   "outputs": [
    {
     "data": {
      "text/plain": [
       "tensor([3., 4., 5.])"
      ]
     },
     "execution_count": 18,
     "metadata": {},
     "output_type": "execute_result"
    }
   ],
   "source": [
    "f.mean(0)"
   ]
  },
  {
   "cell_type": "code",
   "execution_count": 19,
   "metadata": {},
   "outputs": [
    {
     "data": {
      "text/plain": [
       "tensor([0.3000, 0.4000, 0.5000])"
      ]
     },
     "execution_count": 19,
     "metadata": {},
     "output_type": "execute_result"
    }
   ],
   "source": [
    "bn1.running_mean"
   ]
  },
  {
   "cell_type": "markdown",
   "metadata": {},
   "source": [
    "&emsp;&emsp;BN层在每一次进行归一化时，都会通过“某种”方法累计输入数据集的均值和方差，在每一次处理完一批数据之后，我们都可以通过调用BN层的running_mean和running_var查看BN层所累计的均值和方差结果："
   ]
  },
  {
   "cell_type": "code",
   "execution_count": 21,
   "metadata": {},
   "outputs": [
    {
     "data": {
      "text/plain": [
       "tensor([0.3000, 0.4000, 0.5000])"
      ]
     },
     "execution_count": 21,
     "metadata": {},
     "output_type": "execute_result"
    },
    {
     "data": {
      "text/plain": [
       "tensor([1.8000, 1.8000, 1.8000])"
      ]
     },
     "execution_count": 21,
     "metadata": {},
     "output_type": "execute_result"
    }
   ],
   "source": [
    "bn1.running_mean\n",
    "bn1.running_var"
   ]
  },
  {
   "cell_type": "markdown",
   "metadata": {},
   "source": [
    "不过值得注意的是，BN层并不是记录输入数据集的均值和方差，而是采用了一种类似动量法的方法在累计每一个小批数据的统计量。这种累计过程如下：首先，当我们每次实例化一个BN层之后，都会获得一组原始的running_mean和running_var"
   ]
  },
  {
   "cell_type": "code",
   "execution_count": 23,
   "metadata": {},
   "outputs": [
    {
     "data": {
      "text/plain": [
       "tensor([0., 0., 0.])"
      ]
     },
     "execution_count": 23,
     "metadata": {},
     "output_type": "execute_result"
    },
    {
     "data": {
      "text/plain": [
       "tensor([1., 1., 1.])"
      ]
     },
     "execution_count": 23,
     "metadata": {},
     "output_type": "execute_result"
    }
   ],
   "source": [
    "bn2 = nn.BatchNorm1d(3)\n",
    "bn2.running_mean\n",
    "bn2.running_var"
   ]
  },
  {
   "cell_type": "markdown",
   "metadata": {},
   "source": [
    "初始条件下，running_mean取值为0，running_var取值为1。而当我们在使用BN层进行每一次归一化数据时，BN层的running_mean和running_var将按照如下公式进行调整：\n",
    "$$running\\_mean = (1-momentum) * running\\_mean + momentum * sample\\_mean$$\n",
    "\n",
    "$$running\\_var = (1-momentum) * running\\_var + momentum * sample\\_var$$\n",
    "\n",
    "&emsp;&emsp;其中，𝑚𝑜𝑚𝑒𝑛𝑡𝑢𝑚是BN层实例化过程中的可选参数，默认值为0.1，sample表示当前输入的小批数据。上述过程可简单理解为BN层每每次归一化一批数据，都会针对围绕已经记录的running_mean/var和小批数据的sample_mean/var进行加权求和，在momentum取值为0.1的情况下，原running_mean/var权重是sample_mean/var的九倍，也就是说，当前数据归一化完成后，running_mean/var会朝向sample_mean/var小幅移动。\n",
    "\n",
    "例如，bn2迭代一轮（训练一批数据）后，bn2的running_mean/var取值结果如下："
   ]
  },
  {
   "cell_type": "code",
   "execution_count": 24,
   "metadata": {},
   "outputs": [
    {
     "data": {
      "text/plain": [
       "tensor([[-1.2247, -1.2247, -1.2247],\n",
       "        [ 0.0000,  0.0000,  0.0000],\n",
       "        [ 1.2247,  1.2247,  1.2247]], grad_fn=<NativeBatchNormBackward0>)"
      ]
     },
     "execution_count": 24,
     "metadata": {},
     "output_type": "execute_result"
    }
   ],
   "source": [
    "bn2(f)"
   ]
  },
  {
   "cell_type": "code",
   "execution_count": 25,
   "metadata": {},
   "outputs": [
    {
     "data": {
      "text/plain": [
       "tensor([0.3000, 0.4000, 0.5000])"
      ]
     },
     "execution_count": 25,
     "metadata": {},
     "output_type": "execute_result"
    },
    {
     "data": {
      "text/plain": [
       "tensor([1.8000, 1.8000, 1.8000])"
      ]
     },
     "execution_count": 25,
     "metadata": {},
     "output_type": "execute_result"
    }
   ],
   "source": [
    "bn2.running_mean\n",
    "bn2.running_var"
   ]
  },
  {
   "cell_type": "code",
   "execution_count": 26,
   "metadata": {},
   "outputs": [],
   "source": [
    "bn3 = nn.BatchNorm1d(3)"
   ]
  },
  {
   "cell_type": "code",
   "execution_count": 27,
   "metadata": {},
   "outputs": [
    {
     "data": {
      "text/plain": [
       "tensor([3., 4., 5.])"
      ]
     },
     "execution_count": 27,
     "metadata": {},
     "output_type": "execute_result"
    }
   ],
   "source": [
    "torch.mean(f, 0)"
   ]
  },
  {
   "cell_type": "code",
   "execution_count": 28,
   "metadata": {},
   "outputs": [
    {
     "data": {
      "text/plain": [
       "tensor([0.3000, 0.4000, 0.5000])"
      ]
     },
     "execution_count": 28,
     "metadata": {},
     "output_type": "execute_result"
    }
   ],
   "source": [
    "bn3.running_mean * 0.9 + 0.1 * torch.mean(f, 0)"
   ]
  },
  {
   "cell_type": "code",
   "execution_count": 29,
   "metadata": {},
   "outputs": [
    {
     "data": {
      "text/plain": [
       "tensor([1.8000, 1.8000, 1.8000])"
      ]
     },
     "execution_count": 29,
     "metadata": {},
     "output_type": "execute_result"
    }
   ],
   "source": [
    "bn3.running_var * 0.9 + 0.1 * torch.var(f, 0)"
   ]
  },
  {
   "cell_type": "markdown",
   "metadata": {},
   "source": [
    "当然，在这种设置下，如果同一批数据，当迭代很多轮之后，running_mean/var就会最终取到sample_mean/var。"
   ]
  },
  {
   "cell_type": "code",
   "execution_count": 31,
   "metadata": {},
   "outputs": [],
   "source": [
    "bn3 = nn.BatchNorm1d(3)"
   ]
  },
  {
   "cell_type": "code",
   "execution_count": 33,
   "metadata": {},
   "outputs": [],
   "source": [
    "mean_l = []\n",
    "var_l = []\n",
    "\n",
    "for i in range(50):\n",
    "    temp = bn3(f)\n",
    "    mean_l.append(bn3.running_mean.clone().tolist())\n",
    "    var_l.append(bn3.running_var.clone().tolist())"
   ]
  },
  {
   "cell_type": "code",
   "execution_count": 34,
   "metadata": {},
   "outputs": [
    {
     "data": {
      "text/plain": [
       "tensor([2.9845, 3.9794, 4.9742])"
      ]
     },
     "execution_count": 34,
     "metadata": {},
     "output_type": "execute_result"
    },
    {
     "data": {
      "text/plain": [
       "tensor([3., 4., 5.])"
      ]
     },
     "execution_count": 34,
     "metadata": {},
     "output_type": "execute_result"
    }
   ],
   "source": [
    "# 查看同一批数据迭代50轮之后BN层记录的统计量和数据真实统计量之间区别#\n",
    "\n",
    "bn3.running_mean\n",
    "torch.mean(f, 0)"
   ]
  },
  {
   "cell_type": "code",
   "execution_count": 35,
   "metadata": {},
   "outputs": [
    {
     "data": {
      "text/plain": [
       "tensor([8.9588, 8.9588, 8.9588])"
      ]
     },
     "execution_count": 35,
     "metadata": {},
     "output_type": "execute_result"
    },
    {
     "data": {
      "text/plain": [
       "tensor([9., 9., 9.])"
      ]
     },
     "execution_count": 35,
     "metadata": {},
     "output_type": "execute_result"
    }
   ],
   "source": [
    "bn3.running_var\n",
    "torch.var(f, 0)"
   ]
  },
  {
   "cell_type": "markdown",
   "metadata": {},
   "source": [
    "能够看出，已经非常接近了，当然，我们也可以通过绘制图像来可视化呈现BN层记录的统计量的变化情况。此处我们查看数据集第二列均值在BN层统计结果中的变化情况"
   ]
  },
  {
   "cell_type": "code",
   "execution_count": 37,
   "metadata": {},
   "outputs": [
    {
     "data": {
      "text/plain": [
       "[<matplotlib.lines.Line2D at 0x2ca1a442410>,\n",
       " <matplotlib.lines.Line2D at 0x2ca1a442470>]"
      ]
     },
     "execution_count": 37,
     "metadata": {},
     "output_type": "execute_result"
    },
    {
     "data": {
      "image/png": "[encoded data removed]",
      "text/plain": [
       "<Figure size 432x288 with 1 Axes>"
      ]
     },
     "metadata": {
      "needs_background": "light"
     },
     "output_type": "display_data"
    }
   ],
   "source": [
    "#————————————————————————————mean可视化————————————————————————————\n",
    "\n",
    "mean_t = torch.tensor(mean_l)\n",
    "\n",
    "plt.plot(range(50), mean_t[:, 1], torch.full_like(mean_t[:, 1], torch.mean(f, 0)[1]))"
   ]
  },
  {
   "cell_type": "markdown",
   "metadata": {},
   "source": [
    "当然，如果是小批量输入数据，即每次输入原数据的一部分时，经过多轮epoch迭代，BN最终也将累计记录到整体均值和方差。"
   ]
  },
  {
   "cell_type": "code",
   "execution_count": 39,
   "metadata": {},
   "outputs": [
    {
     "data": {
      "text/plain": [
       "<torch._C.Generator at 0x2ca0c21efd0>"
      ]
     },
     "execution_count": 39,
     "metadata": {},
     "output_type": "execute_result"
    },
    {
     "data": {
      "text/plain": [
       "<matplotlib.collections.PathCollection at 0x2ca1a7afb20>"
      ]
     },
     "execution_count": 39,
     "metadata": {},
     "output_type": "execute_result"
    },
    {
     "data": {
      "image/png": "[encoded data removed]",
      "text/plain": [
       "<Figure size 432x288 with 1 Axes>"
      ]
     },
     "metadata": {
      "needs_background": "light"
     },
     "output_type": "display_data"
    }
   ],
   "source": [
    "#————————————————————————————分类数据————————————————————————————\n",
    "# 设置随机数种子\n",
    "torch.manual_seed(420)   \n",
    "\n",
    "features, labels = tensorGenCla()\n",
    "plt.scatter(features[:, 0], features[:, 1], c = labels)"
   ]
  },
  {
   "cell_type": "code",
   "execution_count": 41,
   "metadata": {},
   "outputs": [
    {
     "data": {
      "text/plain": [
       "(tensor([[ 4.1332e+00,  2.9771e+00],\n",
       "         [ 3.0841e+00, -2.9221e+00],\n",
       "         [ 6.2952e-01, -6.7642e-03],\n",
       "         ...,\n",
       "         [ 1.5481e+00,  4.7542e+00],\n",
       "         [-5.0916e+00, -8.8707e+00],\n",
       "         [-2.2565e+00, -3.2018e+00]]),\n",
       " tensor([[2],\n",
       "         [1],\n",
       "         [1],\n",
       "         ...,\n",
       "         [2],\n",
       "         [0],\n",
       "         [0]]))"
      ]
     },
     "execution_count": 41,
     "metadata": {},
     "output_type": "execute_result"
    }
   ],
   "source": [
    "# 进行数据集切分与加载\n",
    "train_loader, test_loader = split_loader(features, labels)\n",
    "\n",
    "train_loader.dataset[:]"
   ]
  },
  {
   "cell_type": "code",
   "execution_count": 42,
   "metadata": {},
   "outputs": [
    {
     "data": {
      "text/plain": [
       "tensor([[ 4.1332e+00,  2.9771e+00],\n",
       "        [ 3.0841e+00, -2.9221e+00],\n",
       "        [ 6.2952e-01, -6.7642e-03],\n",
       "        ...,\n",
       "        [ 1.5481e+00,  4.7542e+00],\n",
       "        [-5.0916e+00, -8.8707e+00],\n",
       "        [-2.2565e+00, -3.2018e+00]])"
      ]
     },
     "execution_count": 42,
     "metadata": {},
     "output_type": "execute_result"
    }
   ],
   "source": [
    "# 训练集特征\n",
    "features_train = train_loader.dataset[:][0]\n",
    "features_train"
   ]
  },
  {
   "cell_type": "code",
   "execution_count": 43,
   "metadata": {},
   "outputs": [
    {
     "data": {
      "text/plain": [
       "tensor([0.1634, 0.0689])"
      ]
     },
     "execution_count": 43,
     "metadata": {},
     "output_type": "execute_result"
    },
    {
     "data": {
      "text/plain": [
       "tensor([15.0641, 14.1290])"
      ]
     },
     "execution_count": 43,
     "metadata": {},
     "output_type": "execute_result"
    }
   ],
   "source": [
    "# 查看训练集特征的均值和方差\n",
    "torch.mean(features_train, 0)\n",
    "torch.var(features_train, 0)"
   ]
  },
  {
   "cell_type": "code",
   "execution_count": 44,
   "metadata": {},
   "outputs": [],
   "source": [
    "# 实例化一个BN类\n",
    "bn4 = nn.BatchNorm1d(2)"
   ]
  },
  {
   "cell_type": "code",
   "execution_count": 45,
   "metadata": {},
   "outputs": [
    {
     "data": {
      "text/plain": [
       "tensor([0., 0.])"
      ]
     },
     "execution_count": 45,
     "metadata": {},
     "output_type": "execute_result"
    },
    {
     "data": {
      "text/plain": [
       "tensor([1., 1.])"
      ]
     },
     "execution_count": 45,
     "metadata": {},
     "output_type": "execute_result"
    }
   ],
   "source": [
    "bn4.running_mean\n",
    "bn4.running_var"
   ]
  },
  {
   "cell_type": "code",
   "execution_count": 46,
   "metadata": {},
   "outputs": [
    {
     "name": "stdout",
     "output_type": "stream",
     "text": [
      "tensor([[ 7.7108,  7.2302],\n",
      "        [ 1.8754, -2.8959],\n",
      "        [-6.2852, -2.2107],\n",
      "        [-1.9569,  1.4654],\n",
      "        [-4.6756, -5.5366],\n",
      "        [-6.5001, -2.7485],\n",
      "        [-5.5745, -4.3031],\n",
      "        [-4.5702, -6.0784],\n",
      "        [ 6.2697,  4.4720],\n",
      "        [ 2.2679,  4.9896]])\n"
     ]
    }
   ],
   "source": [
    "# 打印一个批次的数据\n",
    "for X, y in train_loader:\n",
    "    print(X)\n",
    "    break"
   ]
  },
  {
   "cell_type": "code",
   "execution_count": 48,
   "metadata": {},
   "outputs": [],
   "source": [
    "# 悉心小批次数据归一化计算\n",
    "for X,y in train_loader:\n",
    "    temp = bn4(X)"
   ]
  },
  {
   "cell_type": "code",
   "execution_count": 49,
   "metadata": {},
   "outputs": [
    {
     "data": {
      "text/plain": [
       "tensor([-0.1321, -0.2786])"
      ]
     },
     "execution_count": 49,
     "metadata": {},
     "output_type": "execute_result"
    },
    {
     "data": {
      "text/plain": [
       "tensor([18.8896, 13.2366])"
      ]
     },
     "execution_count": 49,
     "metadata": {},
     "output_type": "execute_result"
    }
   ],
   "source": [
    "bn4.running_mean\n",
    "bn4.running_var\n",
    "\n",
    "# 只遍历了一次数据，没有特别接近原始结果\n"
   ]
  },
  {
   "cell_type": "code",
   "execution_count": 50,
   "metadata": {},
   "outputs": [
    {
     "data": {
      "text/plain": [
       "tensor([0., 0.])"
      ]
     },
     "execution_count": 50,
     "metadata": {},
     "output_type": "execute_result"
    },
    {
     "data": {
      "text/plain": [
       "tensor([1., 1.])"
      ]
     },
     "execution_count": 50,
     "metadata": {},
     "output_type": "execute_result"
    }
   ],
   "source": [
    "#————————————————————————————增加遍历次数————————————————————————————\n",
    "\n",
    "# 实例化\n",
    "bn4 = nn.BatchNorm1d(2)\n",
    "\n",
    "bn4.running_mean\n",
    "bn4.running_var"
   ]
  },
  {
   "cell_type": "code",
   "execution_count": 51,
   "metadata": {},
   "outputs": [
    {
     "data": {
      "text/plain": [
       "<torch._C.Generator at 0x2ca0c21efd0>"
      ]
     },
     "execution_count": 51,
     "metadata": {},
     "output_type": "execute_result"
    }
   ],
   "source": [
    "# 执行小批次数据归一化，遍历5次数据\n",
    "torch.manual_seed(22)\n",
    "\n",
    "for epochs in range(5):\n",
    "    for X,y in train_loader:\n",
    "        temp = bn4(X)"
   ]
  },
  {
   "cell_type": "code",
   "execution_count": 53,
   "metadata": {},
   "outputs": [
    {
     "data": {
      "text/plain": [
       "tensor([0.1634, 0.0689])"
      ]
     },
     "execution_count": 53,
     "metadata": {},
     "output_type": "execute_result"
    },
    {
     "data": {
      "text/plain": [
       "tensor([15.0641, 14.1290])"
      ]
     },
     "execution_count": 53,
     "metadata": {},
     "output_type": "execute_result"
    }
   ],
   "source": [
    "# 查看训练集特征的均值和方差\n",
    "torch.mean(features_train, 0)\n",
    "torch.var(features_train, 0)\n",
    "\n"
   ]
  },
  {
   "cell_type": "code",
   "execution_count": 52,
   "metadata": {},
   "outputs": [
    {
     "data": {
      "text/plain": [
       "tensor([ 0.0182, -0.1532])"
      ]
     },
     "execution_count": 52,
     "metadata": {},
     "output_type": "execute_result"
    },
    {
     "data": {
      "text/plain": [
       "tensor([15.6158, 13.7330])"
      ]
     },
     "execution_count": 52,
     "metadata": {},
     "output_type": "execute_result"
    }
   ],
   "source": [
    "bn4.running_mean\n",
    "bn4.running_var\n",
    "\n",
    "# BN记录结果朝向整体真实结果靠拢"
   ]
  },
  {
   "cell_type": "markdown",
   "metadata": {},
   "source": [
    "- 迭代记录的原因\n",
    "一是面对超大规模数据时候求解均值或方差可能无法直接进行求解，尤其是如果数据是分布式存储的话一次性求解均值和方差就会更加困难\n",
    "二迭代计算是深度学习求解参数的基本过程，所有深度学习框架为了更好地满足迭代计算，都进行了许多精巧的设计，从而使得迭代计算更加高效和平稳，而在计算训练集整体均值时，如果借助神经网络向前传播的过程进行迭代记录，便能够在控制边际成本的情况下快速达成目标。"
   ]
  },
  {
   "cell_type": "markdown",
   "metadata": {},
   "source": [
    "- momentum参数设置\n",
    "  - 数据量较小，d\n",
    "\n",
    "&emsp;&emsp;当每一个小批数据数据量比较小时，我们应该将历史数据比重调高，也就是降低momentum取值，以减少局部规律对获取总体规律的影响，当然，此时我们也需要增加遍历数据的次数epochs；而反之则可以考虑增大momentum取值。\n",
    "\n",
    "- track_running_stats参数\n",
    "\n",
    "&emsp;&emsp;对于BN来说，最后一个参数就是track_running_stats，默认取值为True。当此参数为True时，BN层会在每次迭代过程中会结合历史记录更新running_mean/var，当track_running_stats=False时，BN层将running_mean/var为None，并且在进行预测时会根据输入的小批数据进行均值和方差计算。在大多数情况下，并不推荐修改该参数的默认取值。"
   ]
  },
  {
   "cell_type": "markdown",
   "metadata": {},
   "source": [
    "注意，迭代过程需要设置随机数种子，否则每一轮迭代都将创建不同的小批数据，也将影响最终BN层记录结果"
   ]
  },
  {
   "cell_type": "code",
   "execution_count": 54,
   "metadata": {},
   "outputs": [
    {
     "name": "stdout",
     "output_type": "stream",
     "text": [
      "tensor([[ 1.5059,  0.6382],\n",
      "        [-1.1789,  1.9937],\n",
      "        [-1.9199, -0.2509],\n",
      "        [-3.4746, -4.9443],\n",
      "        [-5.6430, -0.3518],\n",
      "        [-2.0013, -6.8168],\n",
      "        [ 2.1244,  5.0391],\n",
      "        [ 2.9347,  1.9303],\n",
      "        [-7.0042, -1.6217],\n",
      "        [-3.3304, -2.1655]])\n",
      "tensor([[-2.9819, -2.2951],\n",
      "        [ 0.8349, -1.6188],\n",
      "        [-6.9765, -6.8024],\n",
      "        [ 1.4358, -6.1974],\n",
      "        [-1.9199, -0.2509],\n",
      "        [ 0.9648,  0.0188],\n",
      "        [-1.9294,  2.7166],\n",
      "        [ 1.3263,  4.7751],\n",
      "        [-0.9331, -0.5933],\n",
      "        [-1.3452, -3.6203]])\n"
     ]
    }
   ],
   "source": [
    "# 两次调用train_loader，生成两类不同小批数据\n",
    "for epochs in range(2):\n",
    "    for X, y in train_loader:\n",
    "        print(X)\n",
    "        break\n",
    "# 两次产生的数据不一样"
   ]
  },
  {
   "cell_type": "markdown",
   "metadata": {},
   "source": [
    "### 2.model.train()与model.eval()\n",
    "\n",
    "- 伴随向前传播调整running_mean/var\n",
    "\n",
    "BN层的running_mean/var是伴随向前传播同步调整的。也就是说，在track_running_stats开启时，只要进行一次向前传播，就会更新一次running_mean/var，这明显是不合适的。\n",
    "\n",
    "但是我们也知道，只要要进行测试集的测试，就一定需要模型执行测试数据的向前传播以得出模型结果，此时应该怎么办呢？"
   ]
  },
  {
   "cell_type": "markdown",
   "metadata": {},
   "source": [
    "- model.train()与model.eval()\n",
    "  - `model.train()`表示开启模型训练模式，在默认情况下，我们实例化的每一个模型都是出于训练模式的\n",
    "  - `model.eval()`则表示将模型转化为测试模式\n",
    "  "
   ]
  },
  {
   "cell_type": "code",
   "execution_count": 55,
   "metadata": {},
   "outputs": [],
   "source": [
    "bn5 = nn.BatchNorm1d(3) #实例化"
   ]
  },
  {
   "cell_type": "code",
   "execution_count": 56,
   "metadata": {},
   "outputs": [
    {
     "data": {
      "text/plain": [
       "BatchNorm1d(3, eps=1e-05, momentum=0.1, affine=True, track_running_stats=True)"
      ]
     },
     "execution_count": 56,
     "metadata": {},
     "output_type": "execute_result"
    }
   ],
   "source": [
    "bn5.train()  # 进入到训练模式"
   ]
  },
  {
   "cell_type": "code",
   "execution_count": 57,
   "metadata": {},
   "outputs": [
    {
     "name": "stdout",
     "output_type": "stream",
     "text": [
      "\u001b[1;31mSignature:\u001b[0m \u001b[0mbn5\u001b[0m\u001b[1;33m.\u001b[0m\u001b[0mtrain\u001b[0m\u001b[1;33m(\u001b[0m\u001b[0mmode\u001b[0m\u001b[1;33m:\u001b[0m \u001b[0mbool\u001b[0m \u001b[1;33m=\u001b[0m \u001b[1;32mTrue\u001b[0m\u001b[1;33m)\u001b[0m \u001b[1;33m->\u001b[0m \u001b[1;33m~\u001b[0m\u001b[0mT\u001b[0m\u001b[1;33m\u001b[0m\u001b[1;33m\u001b[0m\u001b[0m\n",
      "\u001b[1;31mDocstring:\u001b[0m\n",
      "Sets the module in training mode.\n",
      "\n",
      "This has any effect only on certain modules. See documentations of\n",
      "particular modules for details of their behaviors in training/evaluation\n",
      "mode, if they are affected, e.g. :class:`Dropout`, :class:`BatchNorm`,\n",
      "etc.\n",
      "\n",
      "Args:\n",
      "    mode (bool): whether to set training mode (``True``) or evaluation\n",
      "                 mode (``False``). Default: ``True``.\n",
      "\n",
      "Returns:\n",
      "    Module: self\n",
      "\u001b[1;31mFile:\u001b[0m      c:\\users\\hp\\python\\python310\\lib\\site-packages\\torch\\nn\\modules\\module.py\n",
      "\u001b[1;31mType:\u001b[0m      method\n"
     ]
    }
   ],
   "source": [
    "bn5.train?"
   ]
  },
  {
   "cell_type": "code",
   "execution_count": 58,
   "metadata": {},
   "outputs": [
    {
     "data": {
      "text/plain": [
       "tensor([[0., 1., 2.],\n",
       "        [3., 4., 5.],\n",
       "        [6., 7., 8.]])"
      ]
     },
     "execution_count": 58,
     "metadata": {},
     "output_type": "execute_result"
    }
   ],
   "source": [
    "f"
   ]
  },
  {
   "cell_type": "code",
   "execution_count": 60,
   "metadata": {},
   "outputs": [
    {
     "data": {
      "text/plain": [
       "BatchNorm1d(3, eps=1e-05, momentum=0.1, affine=True, track_running_stats=True)"
      ]
     },
     "execution_count": 60,
     "metadata": {},
     "output_type": "execute_result"
    },
    {
     "data": {
      "text/plain": [
       "tensor([0., 0., 0.])"
      ]
     },
     "execution_count": 60,
     "metadata": {},
     "output_type": "execute_result"
    },
    {
     "data": {
      "text/plain": [
       "tensor([1., 1., 1.])"
      ]
     },
     "execution_count": 60,
     "metadata": {},
     "output_type": "execute_result"
    }
   ],
   "source": [
    "# 进入训练模式\n",
    "bn5 = nn.BatchNorm1d(3)\n",
    "bn5.train()\n",
    "bn5.running_mean\n",
    "bn5.running_var"
   ]
  },
  {
   "cell_type": "code",
   "execution_count": 61,
   "metadata": {},
   "outputs": [
    {
     "data": {
      "text/plain": [
       "tensor([[-1.2247, -1.2247, -1.2247],\n",
       "        [ 0.0000,  0.0000,  0.0000],\n",
       "        [ 1.2247,  1.2247,  1.2247]], grad_fn=<NativeBatchNormBackward0>)"
      ]
     },
     "execution_count": 61,
     "metadata": {},
     "output_type": "execute_result"
    }
   ],
   "source": [
    "bn5(f)                      # 对输入数据的统计量无偏估计"
   ]
  },
  {
   "cell_type": "code",
   "execution_count": 62,
   "metadata": {},
   "outputs": [
    {
     "data": {
      "text/plain": [
       "tensor([0.3000, 0.4000, 0.5000])"
      ]
     },
     "execution_count": 62,
     "metadata": {},
     "output_type": "execute_result"
    },
    {
     "data": {
      "text/plain": [
       "tensor([1.8000, 1.8000, 1.8000])"
      ]
     },
     "execution_count": 62,
     "metadata": {},
     "output_type": "execute_result"
    }
   ],
   "source": [
    "bn5.running_mean            # 并且更新记录的统计结果\n",
    "bn5.running_var"
   ]
  },
  {
   "cell_type": "code",
   "execution_count": 63,
   "metadata": {},
   "outputs": [
    {
     "data": {
      "text/plain": [
       "BatchNorm1d(3, eps=1e-05, momentum=0.1, affine=True, track_running_stats=True)"
      ]
     },
     "execution_count": 63,
     "metadata": {},
     "output_type": "execute_result"
    },
    {
     "data": {
      "text/plain": [
       "tensor([0., 0., 0.])"
      ]
     },
     "execution_count": 63,
     "metadata": {},
     "output_type": "execute_result"
    },
    {
     "data": {
      "text/plain": [
       "tensor([1., 1., 1.])"
      ]
     },
     "execution_count": 63,
     "metadata": {},
     "output_type": "execute_result"
    },
    {
     "data": {
      "text/plain": [
       "tensor([[0.0000, 1.0000, 2.0000],\n",
       "        [3.0000, 4.0000, 5.0000],\n",
       "        [6.0000, 7.0000, 8.0000]], grad_fn=<NativeBatchNormBackward0>)"
      ]
     },
     "execution_count": 63,
     "metadata": {},
     "output_type": "execute_result"
    }
   ],
   "source": [
    "#————————————————————————————重新实例化bn5————————————————————————————\n",
    "\n",
    "bn5 = nn.BatchNorm1d(3)\n",
    "bn5.eval()                 # 进入测试模式\n",
    "bn5.running_mean\n",
    "bn5.running_var\n",
    "\n",
    "bn5(f)\n",
    "\n",
    "# 不同于训练模式下的bn5(f)"
   ]
  },
  {
   "cell_type": "markdown",
   "metadata": {},
   "source": [
    "注意该结果的解读，此时是以running_mean/var作为均值和方差对数据集进行归一化处理，并且，此时的$\\gamma和\\beta$分别是1和0。"
   ]
  },
  {
   "cell_type": "code",
   "execution_count": 64,
   "metadata": {},
   "outputs": [
    {
     "data": {
      "text/plain": [
       "[Parameter containing:\n",
       " tensor([1., 1., 1.], requires_grad=True),\n",
       " Parameter containing:\n",
       " tensor([0., 0., 0.], requires_grad=True)]"
      ]
     },
     "execution_count": 64,
     "metadata": {},
     "output_type": "execute_result"
    }
   ],
   "source": [
    "list(bn5.parameters())"
   ]
  },
  {
   "cell_type": "markdown",
   "metadata": {},
   "source": [
    "因此最终处理结果还是原始数据本身。另外，在测试模式下，BN层也不会再记录running_mean/var。"
   ]
  },
  {
   "cell_type": "code",
   "execution_count": 65,
   "metadata": {},
   "outputs": [
    {
     "data": {
      "text/plain": [
       "tensor([0., 0., 0.])"
      ]
     },
     "execution_count": 65,
     "metadata": {},
     "output_type": "execute_result"
    },
    {
     "data": {
      "text/plain": [
       "tensor([1., 1., 1.])"
      ]
     },
     "execution_count": 65,
     "metadata": {},
     "output_type": "execute_result"
    }
   ],
   "source": [
    "bn5.running_mean\n",
    "bn5.running_var"
   ]
  },
  {
   "cell_type": "markdown",
   "metadata": {},
   "source": [
    "在训练模式下，BN处于另一种完全不同的行为模式。\n",
    ".training属性来查看模型处于训练模式还是测试模式"
   ]
  },
  {
   "cell_type": "markdown",
   "metadata": {},
   "source": [
    "## 二、利用nn.BatchNorm构建带BN的神经网络\n",
    "\n",
    "BN本质上是一种自适应的数据分布调整算法，同时我们也知道，数据分布的调整并不影响，因此我们可以在任何需要的位置都进行BN归一化。\n",
    "\n",
    "另外，根据Glorot条件，我们知道在模型构建过程中需要力求各梯度计算的有效性和平稳性，因此我们可以考虑在每一个线性层前面或者后面进行数据归一化处理。\n",
    "\n",
    "实际模型构建过程中，在模型中添加BN层和添加线性层类似，我们只需要在自定义模型类的init方法中添加BN层，并在向前传播方法中确定BN层的调用方法即可。\n",
    "\n",
    "- BN层一般放在激活层前，其实放在前后都行\n",
    "\n",
    "而在具体BN层位置选择方面，是放在线性层前面还是放在线性层后面，目前业内没有定论，既没有理论论证BN层的最佳位置，也没有严谨的实验证明在哪个位置放置BN层效果最好。因此我们大可根据自己的习惯，以及自身经验的判断选择BN层的位置。当然，为了实验方便，我们会同时创建可以前置或者后置BN层的模型。（这里我们将放在隐藏层前面（也就是线性层后面）称为BN层前置，放在隐藏层后面称为BN层后置。）"
   ]
  },
  {
   "cell_type": "markdown",
   "metadata": {},
   "source": [
    "### 1.构建模型类\n",
    "\n",
    "我们创建一个同时能够调整激活函数、可选是否包含BN层、以及BN层放置位置的模型，当然，该模型仍然是分层创建，在包含了上述参数后相当于此前模型的一个集成。我们先从简单入手，创建一个两层神经网络、BN层可选、激活函数可选的模型。"
   ]
  },
  {
   "cell_type": "code",
   "execution_count": 66,
   "metadata": {},
   "outputs": [],
   "source": [
    "class net_class1(nn.Module):\n",
    "    def __init__(self,act_fun = torch.relu,in_features=2,n_hidden=4,out_features=1,bias=True,BN_model=None,momentum = 0.1):\n",
    "        super(net_class1,self).__init__()\n",
    "        self.linear1 = nn.Linear(in_features,n_hidden,bias=bias)\n",
    "        self.normalize1 = nn.BatchNorm1d(n_hidden,momentum=momentum)\n",
    "        self.linear2 = nn.Linear(n_hidden,out_features,bias=bias)\n",
    "        # 添加两个属性\n",
    "        self.BN_model = BN_model  # 是否对数据进行初始化\n",
    "        self.act_fun = act_fun   # 激活函数\n",
    "\n",
    "    def forward(self,x):\n",
    "        if self.BN_model == None:  # 默认为None，不带BN层\n",
    "            z1 = self.linear1(x)\n",
    "            p1 = self.act_fun(z1)\n",
    "            out = self.linear2(p1)\n",
    "        elif self.BN_model == 'pre':   # BN层在激活函数的前面\n",
    "            z1 = self.normalize1(self.linear1(x))\n",
    "            p1 = self.act_fun(z1)\n",
    "            out = self.linear2(p1)\n",
    "        elif self.BN_model == 'post':  # BN层在激活函数的后面\n",
    "            z1 = self.linear1(x)\n",
    "            p1 = self.act_fun(z1)\n",
    "            out = self.linear2(self.normalize1(p1))\n",
    "        return out\n",
    "        \n"
   ]
  },
  {
   "cell_type": "code",
   "execution_count": 67,
   "metadata": {},
   "outputs": [
    {
     "data": {
      "text/plain": [
       "<torch._C.Generator at 0x2ca0c21efd0>"
      ]
     },
     "execution_count": 67,
     "metadata": {},
     "output_type": "execute_result"
    }
   ],
   "source": [
    "#————————————————————————————测试模型性能————————————————————————————\n",
    "\n",
    "# 设置随机数种子\n",
    "torch.manual_seed(420)  \n",
    "\n",
    "# 创建最高项为2的多项式回归数据集\n",
    "features, labels = tensorGenReg(w=[2, -1], bias=False, deg=2)\n",
    "\n",
    "# 进行数据集切分与加载\n",
    "train_loader, test_loader = split_loader(features, labels)"
   ]
  },
  {
   "cell_type": "code",
   "execution_count": 68,
   "metadata": {},
   "outputs": [
    {
     "data": {
      "text/plain": [
       "<torch._C.Generator at 0x2ca0c21efd0>"
      ]
     },
     "execution_count": 68,
     "metadata": {},
     "output_type": "execute_result"
    }
   ],
   "source": [
    "# 实例化一个前置BN层的神经网络\n",
    "import torch\n",
    "\n",
    "\n",
    "torch.manual_seed(24)\n",
    "relu_model1_norm = net_class1(BN_model='pre')\n",
    "# 两层的前置BN层的神经网络,激活函数为relu\n"
   ]
  },
  {
   "cell_type": "code",
   "execution_count": 69,
   "metadata": {},
   "outputs": [
    {
     "data": {
      "text/plain": [
       "net_class1(\n",
       "  (linear1): Linear(in_features=2, out_features=4, bias=True)\n",
       "  (normalize1): BatchNorm1d(4, eps=1e-05, momentum=0.1, affine=True, track_running_stats=True)\n",
       "  (linear2): Linear(in_features=4, out_features=1, bias=True)\n",
       ")"
      ]
     },
     "execution_count": 69,
     "metadata": {},
     "output_type": "execute_result"
    }
   ],
   "source": [
    "# 设置模型为训练模式\n",
    "relu_model1_norm.train()"
   ]
  },
  {
   "cell_type": "code",
   "execution_count": 70,
   "metadata": {},
   "outputs": [
    {
     "data": {
      "text/plain": [
       "[net_class1(\n",
       "   (linear1): Linear(in_features=2, out_features=4, bias=True)\n",
       "   (normalize1): BatchNorm1d(4, eps=1e-05, momentum=0.1, affine=True, track_running_stats=True)\n",
       "   (linear2): Linear(in_features=4, out_features=1, bias=True)\n",
       " ),\n",
       " Linear(in_features=2, out_features=4, bias=True),\n",
       " BatchNorm1d(4, eps=1e-05, momentum=0.1, affine=True, track_running_stats=True),\n",
       " Linear(in_features=4, out_features=1, bias=True)]"
      ]
     },
     "execution_count": 70,
     "metadata": {},
     "output_type": "execute_result"
    }
   ],
   "source": [
    "# 将模块中的所有模块都设置为训练模型\n",
    "list(relu_model1_norm.modules())"
   ]
  },
  {
   "cell_type": "code",
   "execution_count": 71,
   "metadata": {},
   "outputs": [
    {
     "name": "stdout",
     "output_type": "stream",
     "text": [
      "True\n",
      "True\n",
      "True\n",
      "True\n"
     ]
    }
   ],
   "source": [
    "for m in list(relu_model1_norm.modules()):\n",
    "    print(m.training == True)\n",
    "# 所有的层 都被调整为训练模型"
   ]
  },
  {
   "cell_type": "code",
   "execution_count": 74,
   "metadata": {},
   "outputs": [
    {
     "data": {
      "text/plain": [
       "net_class1(\n",
       "  (linear1): Linear(in_features=2, out_features=4, bias=True)\n",
       "  (normalize1): BatchNorm1d(4, eps=1e-05, momentum=0.1, affine=True, track_running_stats=True)\n",
       "  (linear2): Linear(in_features=4, out_features=1, bias=True)\n",
       ")"
      ]
     },
     "execution_count": 74,
     "metadata": {},
     "output_type": "execute_result"
    },
    {
     "name": "stdout",
     "output_type": "stream",
     "text": [
      "False\n",
      "False\n",
      "False\n",
      "False\n"
     ]
    }
   ],
   "source": [
    "# 调整为测试模型\n",
    "relu_model1_norm.eval()\n",
    "\n",
    "for m in list(relu_model1_norm.modules()):\n",
    "    print(m.training == True)\n",
    "\n",
    "    "
   ]
  },
  {
   "cell_type": "code",
   "execution_count": 75,
   "metadata": {},
   "outputs": [
    {
     "data": {
      "text/plain": [
       "net_class1(\n",
       "  (linear1): Linear(in_features=2, out_features=4, bias=True)\n",
       "  (normalize1): BatchNorm1d(4, eps=1e-05, momentum=0.1, affine=True, track_running_stats=True)\n",
       "  (linear2): Linear(in_features=4, out_features=1, bias=True)\n",
       ")"
      ]
     },
     "execution_count": 75,
     "metadata": {},
     "output_type": "execute_result"
    }
   ],
   "source": [
    "# 在调回训练模型\n",
    "relu_model1_norm.train()"
   ]
  },
  {
   "cell_type": "code",
   "execution_count": 80,
   "metadata": {},
   "outputs": [
    {
     "data": {
      "text/plain": [
       "[net_class1(\n",
       "   (linear1): Linear(in_features=2, out_features=4, bias=True)\n",
       "   (normalize1): BatchNorm1d(4, eps=1e-05, momentum=0.1, affine=True, track_running_stats=True)\n",
       "   (linear2): Linear(in_features=4, out_features=1, bias=True)\n",
       " ),\n",
       " Linear(in_features=2, out_features=4, bias=True),\n",
       " BatchNorm1d(4, eps=1e-05, momentum=0.1, affine=True, track_running_stats=True),\n",
       " Linear(in_features=4, out_features=1, bias=True)]"
      ]
     },
     "execution_count": 80,
     "metadata": {},
     "output_type": "execute_result"
    },
    {
     "name": "stdout",
     "output_type": "stream",
     "text": [
      "\n"
     ]
    }
   ],
   "source": [
    "list(relu_model1_norm.modules())\n",
    "print('')\n"
   ]
  },
  {
   "cell_type": "code",
   "execution_count": 81,
   "metadata": {},
   "outputs": [
    {
     "data": {
      "text/plain": [
       "BatchNorm1d(4, eps=1e-05, momentum=0.1, affine=True, track_running_stats=True)"
      ]
     },
     "execution_count": 81,
     "metadata": {},
     "output_type": "execute_result"
    }
   ],
   "source": [
    "#——————————————————————————BN层的running_mean/var，BN层是模型的第二个模块—————————————————————————\n",
    "\n",
    "list(relu_model1_norm.modules())[2]"
   ]
  },
  {
   "cell_type": "code",
   "execution_count": 82,
   "metadata": {},
   "outputs": [
    {
     "data": {
      "text/plain": [
       "tensor([0., 0., 0., 0.])"
      ]
     },
     "execution_count": 82,
     "metadata": {},
     "output_type": "execute_result"
    },
    {
     "data": {
      "text/plain": [
       "tensor([1., 1., 1., 1.])"
      ]
     },
     "execution_count": 82,
     "metadata": {},
     "output_type": "execute_result"
    }
   ],
   "source": [
    "list(relu_model1_norm.modules())[2].running_mean\n",
    "list(relu_model1_norm.modules())[2].running_var"
   ]
  },
  {
   "cell_type": "code",
   "execution_count": null,
   "metadata": {},
   "outputs": [],
   "source": [
    "features"
   ]
  },
  {
   "cell_type": "code",
   "execution_count": 83,
   "metadata": {},
   "outputs": [
    {
     "data": {
      "text/plain": [
       "Parameter containing:\n",
       "tensor([1., 1., 1., 1.], requires_grad=True)"
      ]
     },
     "execution_count": 83,
     "metadata": {},
     "output_type": "execute_result"
    },
    {
     "data": {
      "text/plain": [
       "Parameter containing:\n",
       "tensor([0., 0., 0., 0.], requires_grad=True)"
      ]
     },
     "execution_count": 83,
     "metadata": {},
     "output_type": "execute_result"
    }
   ],
   "source": [
    "#————————————————————————————查看BN层的参数————————————————————————————\n",
    "list(relu_model1_norm.modules())[2].weight\n",
    "list(relu_model1_norm.modules())[2].bias"
   ]
  },
  {
   "cell_type": "code",
   "execution_count": 94,
   "metadata": {},
   "outputs": [],
   "source": [
    "#————————————————————————————训练模型————————————————————————————\n",
    "# 进行模型训练，迭代三轮\n",
    "fit(net=relu_model1_norm, \n",
    "    criterion=nn.MSELoss(), \n",
    "    optimizer=optim.SGD(relu_model1_norm.parameters(), lr = 0.03), \n",
    "    batchdata=train_loader, \n",
    "    epochs=20, \n",
    "    cla=False)\n"
   ]
  },
  {
   "cell_type": "code",
   "execution_count": 95,
   "metadata": {},
   "outputs": [
    {
     "data": {
      "text/plain": [
       "Parameter containing:\n",
       "tensor([1.0154, 1.3411, 1.4413, 1.1275], requires_grad=True)"
      ]
     },
     "execution_count": 95,
     "metadata": {},
     "output_type": "execute_result"
    },
    {
     "data": {
      "text/plain": [
       "Parameter containing:\n",
       "tensor([-0.2582, -0.0237,  0.0671, -0.2542], requires_grad=True)"
      ]
     },
     "execution_count": 95,
     "metadata": {},
     "output_type": "execute_result"
    }
   ],
   "source": [
    "# BN层变化的结果\n",
    "list(relu_model1_norm.modules())[2].weight\n",
    "list(relu_model1_norm.modules())[2].bias\n",
    "\n",
    "# weight,bias 确实发生了变化"
   ]
  },
  {
   "cell_type": "code",
   "execution_count": 96,
   "metadata": {},
   "outputs": [
    {
     "data": {
      "text/plain": [
       "tensor([-0.1055, -0.2705, -0.1414,  0.0372])"
      ]
     },
     "execution_count": 96,
     "metadata": {},
     "output_type": "execute_result"
    },
    {
     "data": {
      "text/plain": [
       "tensor([0.1882, 0.4241, 0.6292, 0.3662])"
      ]
     },
     "execution_count": 96,
     "metadata": {},
     "output_type": "execute_result"
    }
   ],
   "source": [
    "# 查看BN层的记录的统计指标\n",
    "list(relu_model1_norm.modules())[2].running_mean\n",
    "list(relu_model1_norm.modules())[2].running_var\n",
    "\n",
    "# 从BN层的记录结果来看，隐藏层输入的数据基本是零均值的\n",
    "# 从侧面也证明了BN调整效果的有效性"
   ]
  },
  {
   "cell_type": "code",
   "execution_count": 97,
   "metadata": {},
   "outputs": [
    {
     "data": {
      "text/plain": [
       "net_class1(\n",
       "  (linear1): Linear(in_features=2, out_features=4, bias=True)\n",
       "  (normalize1): BatchNorm1d(4, eps=1e-05, momentum=0.1, affine=True, track_running_stats=True)\n",
       "  (linear2): Linear(in_features=4, out_features=1, bias=True)\n",
       ")"
      ]
     },
     "execution_count": 97,
     "metadata": {},
     "output_type": "execute_result"
    }
   ],
   "source": [
    "# 模型设置为训练模型\n",
    "relu_model1_norm.eval()"
   ]
  },
  {
   "cell_type": "code",
   "execution_count": 98,
   "metadata": {},
   "outputs": [
    {
     "data": {
      "text/plain": [
       "tensor(0.2611, grad_fn=<MseLossBackward0>)"
      ]
     },
     "execution_count": 98,
     "metadata": {},
     "output_type": "execute_result"
    }
   ],
   "source": [
    "mse_cal(train_loader,relu_model1_norm)   # 计算mse\n"
   ]
  },
  {
   "cell_type": "code",
   "execution_count": 99,
   "metadata": {},
   "outputs": [
    {
     "data": {
      "text/plain": [
       "tensor(0.4310, grad_fn=<MseLossBackward0>)"
      ]
     },
     "execution_count": 99,
     "metadata": {},
     "output_type": "execute_result"
    }
   ],
   "source": [
    "mse_cal(test_loader,relu_model1_norm)"
   ]
  },
  {
   "cell_type": "code",
   "execution_count": 100,
   "metadata": {},
   "outputs": [
    {
     "data": {
      "text/plain": [
       "Parameter containing:\n",
       "tensor([1.0154, 1.3411, 1.4413, 1.1275], requires_grad=True)"
      ]
     },
     "execution_count": 100,
     "metadata": {},
     "output_type": "execute_result"
    },
    {
     "data": {
      "text/plain": [
       "Parameter containing:\n",
       "tensor([-0.2582, -0.0237,  0.0671, -0.2542], requires_grad=True)"
      ]
     },
     "execution_count": 100,
     "metadata": {},
     "output_type": "execute_result"
    },
    {
     "data": {
      "text/plain": [
       "tensor([-0.1055, -0.2705, -0.1414,  0.0372])"
      ]
     },
     "execution_count": 100,
     "metadata": {},
     "output_type": "execute_result"
    },
    {
     "data": {
      "text/plain": [
       "tensor([0.1882, 0.4241, 0.6292, 0.3662])"
      ]
     },
     "execution_count": 100,
     "metadata": {},
     "output_type": "execute_result"
    }
   ],
   "source": [
    "# running_mean和running_var的取值变化情况\n",
    "list(relu_model1_norm.modules())[2].weight\n",
    "list(relu_model1_norm.modules())[2].bias\n",
    "list(relu_model1_norm.modules())[2].running_mean\n",
    "list(relu_model1_norm.modules())[2].running_var\n",
    "\n",
    "# 训练有效果，BN层训练生效"
   ]
  },
  {
   "cell_type": "markdown",
   "metadata": {},
   "source": [
    "至此，我们就完成了带BN的模型从训练到测试的全流程。当然，为了方便后续直接使用带BN层或者其他需要灵活调整训练模式和测试模式的其他方法，我们将模型模式调整也集成到此前定义的model_train_test和model_comparison函数中。"
   ]
  },
  {
   "cell_type": "code",
   "execution_count": 101,
   "metadata": {},
   "outputs": [],
   "source": [
    "def model_train_test(model, \n",
    "                     train_data,\n",
    "                     test_data,\n",
    "                     num_epochs = 20, \n",
    "                     criterion = nn.MSELoss(), \n",
    "                     optimizer = optim.SGD, \n",
    "                     lr = 0.03, \n",
    "                     init = False,\n",
    "                     cla = False, \n",
    "                     eva = mse_cal):\n",
    "    \"\"\"模型误差测试函数：\n",
    "    \n",
    "    :param model_l：模型\n",
    "    :param train_data：训练数据\n",
    "    :param test_data: 测试数据   \n",
    "    :param num_epochs：迭代轮数\n",
    "    :param criterion: 损失函数\n",
    "    :param lr: 学习率\n",
    "    :param cla: 是否是分类模型\n",
    "    :return：MSE列表\n",
    "    \"\"\"  \n",
    "    # 模型评估指标矩阵\n",
    "    train_l = []\n",
    "    test_l = []\n",
    "    # 模型训练过程\n",
    "    for epochs in range(num_epochs):\n",
    "        model.train()\n",
    "        fit(net = model, \n",
    "            criterion = criterion, \n",
    "            optimizer = optimizer(model.parameters(), lr = lr), \n",
    "            batchdata = train_data, \n",
    "            epochs = epochs, \n",
    "            cla = cla)\n",
    "        model.eval()\n",
    "        train_l.append(eva(train_data, model).detach())\n",
    "        test_l.append(eva(test_data, model).detach())\n",
    "    return train_l, test_l"
   ]
  },
  {
   "cell_type": "code",
   "execution_count": 102,
   "metadata": {},
   "outputs": [],
   "source": [
    "def model_comparison(model_l, \n",
    "                     name_l, \n",
    "                     train_data,\n",
    "                     test_data,\n",
    "                     num_epochs = 20, \n",
    "                     criterion = nn.MSELoss(), \n",
    "                     optimizer = optim.SGD, \n",
    "                     lr = 0.03, \n",
    "                     cla = False,\n",
    "                     eva = mse_cal):\n",
    "    \"\"\"模型对比函数：\n",
    "    \n",
    "    :param model_l：模型序列\n",
    "    :param name_l：模型名称序列\n",
    "    :param train_data：训练数据\n",
    "    :param test_data：测试数据    \n",
    "    :param num_epochs：迭代轮数\n",
    "    :param criterion: 损失函数\n",
    "    :param lr: 学习率\n",
    "    :param cla: 是否是分类模型\n",
    "    :param eva: 模型评估指标\n",
    "    :return：评估指标张量矩阵 \n",
    "    \"\"\"\n",
    "    # 模型评估指标矩阵\n",
    "    train_l = torch.zeros(len(model_l), num_epochs)\n",
    "    test_l = torch.zeros(len(model_l), num_epochs)\n",
    "    # 模型训练过程\n",
    "    for epochs in range(num_epochs):\n",
    "        for i, model in enumerate(model_l):\n",
    "            model.train()\n",
    "            fit(net = model, \n",
    "                criterion = criterion, \n",
    "                optimizer = optimizer(model.parameters(), lr = lr), \n",
    "                batchdata = train_data, \n",
    "                epochs = epochs, \n",
    "                cla = cla)\n",
    "            model.eval()\n",
    "            train_l[i][epochs] = eva(train_data, model).detach()\n",
    "            test_l[i][epochs] = eva(test_data, model).detach()\n",
    "    return train_l, test_l"
   ]
  },
  {
   "cell_type": "markdown",
   "metadata": {},
   "source": [
    "### 2.带BN层的神经网络使用方法\n",
    "&emsp;&emsp;接下来，我们简单尝试在自己生成的数据集上使用带BN层的模型。"
   ]
  },
  {
   "cell_type": "code",
   "execution_count": 103,
   "metadata": {},
   "outputs": [
    {
     "data": {
      "text/plain": [
       "<torch._C.Generator at 0x2ca0c21efd0>"
      ]
     },
     "execution_count": 103,
     "metadata": {},
     "output_type": "execute_result"
    }
   ],
   "source": [
    "#————————————————————————————生成数据————————————————————————————\n",
    "\n",
    "# 设置随机数种子\n",
    "torch.manual_seed(420)  \n",
    "\n",
    "# 创建最高项为2的多项式回归数据集\n",
    "features, labels = tensorGenReg(w=[2, -1], bias=False, deg=2)\n",
    "\n",
    "# 进行数据集切分与加载\n",
    "train_loader, test_loader = split_loader(features, labels)"
   ]
  },
  {
   "cell_type": "code",
   "execution_count": 104,
   "metadata": {},
   "outputs": [
    {
     "data": {
      "text/plain": [
       "<torch._C.Generator at 0x2ca0c21efd0>"
      ]
     },
     "execution_count": 104,
     "metadata": {},
     "output_type": "execute_result"
    }
   ],
   "source": [
    "#————————————————————————————带BN层与不带BN层对比-训练模型————————————————————————————\n",
    "# 激活函数为sigmoid函数 \n",
    "\n",
    "# 设置随机数种子\n",
    "torch.manual_seed(24)  \n",
    "\n",
    "# 实例化模型  \n",
    "sigmoid_model1 = net_class1(act_fun= torch.sigmoid)    \n",
    "sigmoid_model1_norm = net_class1(act_fun= torch.sigmoid, BN_model='pre')                                            \n",
    "        \n",
    "# 创建模型容器\n",
    "model_l = [sigmoid_model1, sigmoid_model1_norm]           \n",
    "name_l = ['sigmoid_model1', 'sigmoid_model1_norm']\n",
    "\n",
    "# 核心参数\n",
    "lr = 0.03\n",
    "num_epochs = 40\n",
    "\n",
    "# 模型训练\n",
    "train_l, test_l = model_comparison(model_l = model_l, \n",
    "                                   name_l = name_l, \n",
    "                                   train_data = train_loader,\n",
    "                                   test_data = test_loader,\n",
    "                                   num_epochs = num_epochs, \n",
    "                                   criterion = nn.MSELoss(), \n",
    "                                   optimizer = optim.SGD, \n",
    "                                   lr = lr, \n",
    "                                   cla = False, \n",
    "                                   eva = mse_cal)"
   ]
  },
  {
   "cell_type": "code",
   "execution_count": null,
   "metadata": {},
   "outputs": [],
   "source": [
    "# 训练误差\n",
    "for i, name in enumerate(name_l):\n",
    "    plt.plot(list(range(num_epochs)), train_l[i], label=name)\n",
    "plt.legend(loc = 1)\n",
    "plt.title('mse_train')"
   ]
  },
  {
   "cell_type": "code",
   "execution_count": 105,
   "metadata": {},
   "outputs": [
    {
     "data": {
      "text/plain": [
       "[<matplotlib.lines.Line2D at 0x2ca1adadff0>]"
      ]
     },
     "execution_count": 105,
     "metadata": {},
     "output_type": "execute_result"
    },
    {
     "data": {
      "text/plain": [
       "[<matplotlib.lines.Line2D at 0x2ca1a0dc6d0>]"
      ]
     },
     "execution_count": 105,
     "metadata": {},
     "output_type": "execute_result"
    },
    {
     "data": {
      "text/plain": [
       "<matplotlib.legend.Legend at 0x2ca1a94d480>"
      ]
     },
     "execution_count": 105,
     "metadata": {},
     "output_type": "execute_result"
    },
    {
     "data": {
      "text/plain": [
       "Text(0.5, 1.0, 'mse_test')"
      ]
     },
     "execution_count": 105,
     "metadata": {},
     "output_type": "execute_result"
    },
    {
     "data": {
      "image/png": "[encoded data removed]",
      "text/plain": [
       "<Figure size 432x288 with 1 Axes>"
      ]
     },
     "metadata": {
      "needs_background": "light"
     },
     "output_type": "display_data"
    }
   ],
   "source": [
    "# 测试误差\n",
    "for i, name in enumerate(name_l):\n",
    "    plt.plot(list(range(num_epochs)), test_l[i], label=name)\n",
    "plt.legend(loc = 1)\n",
    "plt.title('mse_test')\n",
    "\n",
    "# 加入BN层之后，模型效果反而不如原始模型\n",
    "# BN优化算法使用起来其实并不简单，并不是只要加入BN层模型效果就一定会有所提升"
   ]
  }
 ],
 "metadata": {
  "kernelspec": {
   "display_name": "Python 3.10.0 64-bit",
   "language": "python",
   "name": "python3"
  },
  "language_info": {
   "codemirror_mode": {
    "name": "ipython",
    "version": 3
   },
   "file_extension": ".py",
   "mimetype": "text/x-python",
   "name": "python",
   "nbconvert_exporter": "python",
   "pygments_lexer": "ipython3",
   "version": "3.10.0"
  },
  "orig_nbformat": 4,
  "vscode": {
   "interpreter": {
    "hash": "3296471c9107718e6db2104fe506aa09d2e74f3fa2347eed57e489ba84541490"
   }
  }
 },
 "nbformat": 4,
 "nbformat_minor": 2
}
