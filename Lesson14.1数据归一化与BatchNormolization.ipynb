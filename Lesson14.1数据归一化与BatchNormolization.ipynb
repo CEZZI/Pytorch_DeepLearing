{
 "cells": [
  {
   "cell_type": "markdown",
   "metadata": {},
   "source": [
    "# Lesson 14.1 数据归一化与Batch Normalization理论基础\n",
    "\n",
    "- 传统机器学习，数据归一化可能会降低模型的可解释性\n",
    "- 在深度学习中数据归一化将能够有效确保模型各层学习的有效性，缓解梯度消失和梯度爆炸的情况发生，并且深度学习并不要求可解释性"
   ]
  },
  {
   "cell_type": "markdown",
   "metadata": {},
   "source": [
    "## 一、经典机器学习的归一化算法\n",
    "\n",
    "- 0-1标准化（Max-Min Normalization）\n",
    "- Z-Score标准化\n",
    "\n",
    "#### 1.1 0-1标准化方法\n",
    "\n",
    "$${x}_{normalization}=\\frac{x-Min}{Max-Min}$$\n"
   ]
  },
  {
   "cell_type": "code",
   "execution_count": 2,
   "metadata": {},
   "outputs": [
    {
     "data": {
      "text/plain": [
       "tensor([[ 0.,  1.],\n",
       "        [ 2.,  3.],\n",
       "        [ 4.,  5.],\n",
       "        [ 6.,  7.],\n",
       "        [ 8.,  9.],\n",
       "        [10., 11.]])"
      ]
     },
     "execution_count": 2,
     "metadata": {},
     "output_type": "execute_result"
    }
   ],
   "source": [
    "t = torch.arange(12).reshape(6, 2).float()\n",
    "t\n",
    "\n"
   ]
  },
  {
   "cell_type": "code",
   "execution_count": 3,
   "metadata": {},
   "outputs": [
    {
     "data": {
      "text/plain": [
       "torch.return_types.max(\n",
       "values=tensor([10., 11.]),\n",
       "indices=tensor([5, 5]))"
      ]
     },
     "execution_count": 3,
     "metadata": {},
     "output_type": "execute_result"
    },
    {
     "data": {
      "text/plain": [
       "torch.return_types.max(\n",
       "values=tensor([ 1.,  3.,  5.,  7.,  9., 11.]),\n",
       "indices=tensor([1, 1, 1, 1, 1, 1]))"
      ]
     },
     "execution_count": 3,
     "metadata": {},
     "output_type": "execute_result"
    },
    {
     "data": {
      "text/plain": [
       "tensor([10., 11.])"
      ]
     },
     "execution_count": 3,
     "metadata": {},
     "output_type": "execute_result"
    },
    {
     "data": {
      "text/plain": [
       "tensor([0., 1.])"
      ]
     },
     "execution_count": 3,
     "metadata": {},
     "output_type": "execute_result"
    }
   ],
   "source": [
    "t.max(0)  # 返回每一列的最大值和最大值的索引\n",
    "\n",
    "t.max(1)  # 每一行的最大值和最大值索引\n",
    "\n",
    "t_max = t.max(0)[0]\n",
    "t_max\n",
    "\n",
    "t_min = t.min(0)[0]           # 提取每列最小值\n",
    "t_min"
   ]
  },
  {
   "cell_type": "code",
   "execution_count": 4,
   "metadata": {},
   "outputs": [
    {
     "data": {
      "text/plain": [
       "tensor([[0.0000, 0.0000],\n",
       "        [0.2000, 0.2000],\n",
       "        [0.4000, 0.4000],\n",
       "        [0.6000, 0.6000],\n",
       "        [0.8000, 0.8000],\n",
       "        [1.0000, 1.0000]])"
      ]
     },
     "execution_count": 4,
     "metadata": {},
     "output_type": "execute_result"
    }
   ],
   "source": [
    "(t - t_min) / (t_max - t_min)  # 计算0-1标准化后结果"
   ]
  },
  {
   "cell_type": "markdown",
   "metadata": {},
   "source": [
    "不过在深度学习领域，我们更希望输入模型的数据是Zero-Centered Data，此时Z-Score标准化会更加合适。"
   ]
  },
  {
   "cell_type": "markdown",
   "metadata": {},
   "source": [
    "#### 1.2 Z-Score标准化\n",
    "\n",
    "Z-score标准化利用原始数据的均值（mean）和标准差（standard deviation）进行数据的标准化。同样是逐列进行操作，每一条数据都减去当前列的均值再除以当前列的标准差。很明显，通过这种方法处理之后的数据是典型的Zero-Centered Data，并且如果原数据服从正态分布。\n",
    "\n",
    "$${x}_{normalization}=\\frac{x-\\mu }{\\sigma }$$"
   ]
  },
  {
   "cell_type": "code",
   "execution_count": 5,
   "metadata": {},
   "outputs": [
    {
     "data": {
      "text/plain": [
       "tensor([5., 6.])"
      ]
     },
     "execution_count": 5,
     "metadata": {},
     "output_type": "execute_result"
    },
    {
     "data": {
      "text/plain": [
       "tensor([3.7417, 3.7417])"
      ]
     },
     "execution_count": 5,
     "metadata": {},
     "output_type": "execute_result"
    },
    {
     "data": {
      "text/plain": [
       "tensor([[-1.3363, -1.3363],\n",
       "        [-0.8018, -0.8018],\n",
       "        [-0.2673, -0.2673],\n",
       "        [ 0.2673,  0.2673],\n",
       "        [ 0.8018,  0.8018],\n",
       "        [ 1.3363,  1.3363]])"
      ]
     },
     "execution_count": 5,
     "metadata": {},
     "output_type": "execute_result"
    }
   ],
   "source": [
    "t.mean(0)  # 每列的均值\n",
    "\n",
    "t.std(0)  # 每列的方差\n",
    "\n",
    "(t- t.mean(0)) / t.std(0)\n"
   ]
  },
  {
   "cell_type": "code",
   "execution_count": 6,
   "metadata": {},
   "outputs": [],
   "source": [
    "#————————————————————————————Z-Score封装为函数————————————————————————————\n",
    "\n",
    "def Z_ScoreNormalization(data):\n",
    "    stdDf = data.std(0)\n",
    "    meanDf = data.mean(0)\n",
    "    normSet = (data - meanDf) / stdDf\n",
    "    return normSet \n",
    "\n",
    "# 一种更加严谨的做法，是在分母项、也就是标准差上加上一个非常小的常数$\\mu$，\n",
    "# 从而使得分母恒大于0。"
   ]
  },
  {
   "cell_type": "markdown",
   "metadata": {},
   "source": [
    "### 2.经典机器学习归一化算法在深度学习中的实践\n",
    "\n",
    "- 在训练集上训练，测试集上测试\n",
    "  \n",
    "首先，标签是否标准化对建模没有影响，因此一般我们不会对标签进行标准化   \n",
    "\n",
    "其次，在实际模型训练过程中，由于数据集要划分成训练集和测试集，因此一般来说我们会在训练集的特征中逐行计算其均值和标准差，然后进行模型训练。\n",
    "当输入测试集进行测试时，**我们会将在训练集上计算得出的每一列的均值和标准差带入测试集并对测试集特征进行标准化**，然后再带入进行模型测试。\n",
    "\n",
    "值得注意的是，此时进行标准化时涉及到的每一列的均值和方差也相当于是模型参数，必须从训练集上得出，不能借助测试集的数据。\n"
   ]
  },
  {
   "cell_type": "code",
   "execution_count": 7,
   "metadata": {},
   "outputs": [
    {
     "data": {
      "text/plain": [
       "<torch._C.Generator at 0x1dd38fdefd0>"
      ]
     },
     "execution_count": 7,
     "metadata": {},
     "output_type": "execute_result"
    }
   ],
   "source": [
    "#————————————————————————————Z-Score建模实验 - 数据准备————————————————————————————\n",
    "\n",
    "# 设置随机数种子\n",
    "torch.manual_seed(420)  \n",
    "\n",
    "# 创建最高项为2的多项式回归数据集\n",
    "features, labels = tensorGenReg(w=[2, -1], bias=False, deg=2)\n",
    "features_norm = Z_ScoreNormalization(features)\n",
    "# 对于所有的数据都进行了归一化，不太严谨，应该是对训练集中的数据归一化\n",
    "\n",
    "# 进行数据集切分与加载\n",
    "train_loader, test_loader = split_loader(features, labels)\n",
    "train_loader_norm, test_loader = split_loader(features_norm, labels)"
   ]
  },
  {
   "cell_type": "code",
   "execution_count": 8,
   "metadata": {},
   "outputs": [
    {
     "data": {
      "text/plain": [
       "<torch._C.Generator at 0x1dd38fdefd0>"
      ]
     },
     "execution_count": 8,
     "metadata": {},
     "output_type": "execute_result"
    },
    {
     "data": {
      "text/plain": [
       "Parameter containing:\n",
       "tensor([[ 0.8590, -0.6975],\n",
       "        [ 0.1762, -0.7295],\n",
       "        [ 0.5904,  0.3405],\n",
       "        [-0.7281, -0.0867]], requires_grad=True)"
      ]
     },
     "execution_count": 8,
     "metadata": {},
     "output_type": "execute_result"
    },
    {
     "data": {
      "text/plain": [
       "Parameter containing:\n",
       "tensor([[-0.5633,  0.1303, -0.5045,  0.3393],\n",
       "        [-0.7823,  0.2525,  0.7264,  0.5470],\n",
       "        [ 0.7246, -0.0357, -0.6253,  0.1108],\n",
       "        [-0.3299, -0.5521,  0.5269,  0.1061]], requires_grad=True)"
      ]
     },
     "execution_count": 8,
     "metadata": {},
     "output_type": "execute_result"
    },
    {
     "data": {
      "text/plain": [
       "Parameter containing:\n",
       "tensor([[ 0.4386,  0.8341,  0.1352, -0.8077],\n",
       "        [ 0.2441,  0.4123,  0.0232, -0.7393],\n",
       "        [ 0.8236, -0.8110,  0.6018, -0.0395],\n",
       "        [ 0.6284, -0.7337,  0.8656,  0.2915]], requires_grad=True)"
      ]
     },
     "execution_count": 8,
     "metadata": {},
     "output_type": "execute_result"
    },
    {
     "data": {
      "text/plain": [
       "Parameter containing:\n",
       "tensor([[0.9703, 0.6656, 0.8244, 0.3487]], requires_grad=True)"
      ]
     },
     "execution_count": 8,
     "metadata": {},
     "output_type": "execute_result"
    },
    {
     "data": {
      "text/plain": [
       "Parameter containing:\n",
       "tensor([[-0.2945,  0.9237],\n",
       "        [ 0.7596, -0.6387],\n",
       "        [-0.0023, -0.3001],\n",
       "        [-0.9573,  0.0271]], requires_grad=True)"
      ]
     },
     "execution_count": 8,
     "metadata": {},
     "output_type": "execute_result"
    },
    {
     "data": {
      "text/plain": [
       "Parameter containing:\n",
       "tensor([[-0.5126, -0.1948, -0.2230,  0.7317],\n",
       "        [ 0.3355, -0.7767,  0.4933,  0.5650],\n",
       "        [ 0.3391,  0.3513,  0.3385,  0.0232],\n",
       "        [-0.7911, -0.4265,  0.5541,  0.2841]], requires_grad=True)"
      ]
     },
     "execution_count": 8,
     "metadata": {},
     "output_type": "execute_result"
    },
    {
     "data": {
      "text/plain": [
       "Parameter containing:\n",
       "tensor([[ 0.6846,  0.2079,  0.8334, -0.3973],\n",
       "        [-0.4116,  0.3072, -0.4335,  0.3472],\n",
       "        [ 0.0940, -0.3414,  0.2058,  0.8155],\n",
       "        [ 0.4660, -0.8182,  0.3571,  0.5147]], requires_grad=True)"
      ]
     },
     "execution_count": 8,
     "metadata": {},
     "output_type": "execute_result"
    },
    {
     "data": {
      "text/plain": [
       "Parameter containing:\n",
       "tensor([[ 0.7612, -0.2644,  0.8887,  0.8696]], requires_grad=True)"
      ]
     },
     "execution_count": 8,
     "metadata": {},
     "output_type": "execute_result"
    }
   ],
   "source": [
    "#————————————————————————————Z-Score建模实验 -训练模型————————————————————————————\n",
    "# 设置随机数种子\n",
    "torch.manual_seed(24)  \n",
    "\n",
    "\n",
    "# 关键参数\n",
    "lr = 0.03\n",
    "num_epochs = 40\n",
    "\n",
    "\n",
    "# 实例化模型\n",
    "sigmoid_model3 = Sigmoid_class3() \n",
    "sigmoid_model3_norm = Sigmoid_class3()  \n",
    "\n",
    "\n",
    "# 进行XavierCAM参数初始化\n",
    "for m in sigmoid_model3.modules():\n",
    "    if isinstance(m, nn.Linear):\n",
    "        nn.init.xavier_uniform_(m.weight)\n",
    "        \n",
    "for m in sigmoid_model3_norm.modules():\n",
    "    if isinstance(m, nn.Linear):\n",
    "        nn.init.xavier_uniform_(m.weight)\n",
    "\n",
    "\n",
    "# sigmoid_model3模型训练\n",
    "train_l, test_l = model_train_test(sigmoid_model3, \n",
    "                                   train_loader,\n",
    "                                   test_loader,\n",
    "                                   num_epochs = num_epochs, \n",
    "                                   criterion = nn.MSELoss(), \n",
    "                                   optimizer = optim.SGD, \n",
    "                                   lr = lr, \n",
    "                                   cla = False, \n",
    "                                   eva = mse_cal)\n",
    "\n",
    "# sigmoid_model3_norm模型训练 - 数据的特征Z-score化\n",
    "train_l_norm, test_l_norm = model_train_test(sigmoid_model3_norm, \n",
    "                                             train_loader_norm,\n",
    "                                             test_loader,\n",
    "                                             num_epochs = num_epochs, \n",
    "                                             criterion = nn.MSELoss(), \n",
    "                                             optimizer = optim.SGD, \n",
    "                                             lr = lr, \n",
    "                                             cla = False, \n",
    "                                             eva = mse_cal)\n",
    "\n"
   ]
  },
  {
   "cell_type": "code",
   "execution_count": 9,
   "metadata": {},
   "outputs": [
    {
     "data": {
      "text/plain": [
       "[<matplotlib.lines.Line2D at 0x1dd47a1d8a0>]"
      ]
     },
     "execution_count": 9,
     "metadata": {},
     "output_type": "execute_result"
    },
    {
     "data": {
      "text/plain": [
       "[<matplotlib.lines.Line2D at 0x1dd47a1eaa0>]"
      ]
     },
     "execution_count": 9,
     "metadata": {},
     "output_type": "execute_result"
    },
    {
     "data": {
      "text/plain": [
       "<matplotlib.legend.Legend at 0x1dd47a1e7a0>"
      ]
     },
     "execution_count": 9,
     "metadata": {},
     "output_type": "execute_result"
    },
    {
     "data": {
      "image/png": "[encoded data removed]",
      "text/plain": [
       "<Figure size 432x288 with 1 Axes>"
      ]
     },
     "metadata": {
      "needs_background": "light"
     },
     "output_type": "display_data"
    }
   ],
   "source": [
    "plt.plot(list(range(num_epochs)), train_l, label='train_mse')\n",
    "plt.plot(list(range(num_epochs)), train_l_norm, label='train_norm_mse')\n",
    "plt.legend(loc = 1)"
   ]
  },
  {
   "cell_type": "code",
   "execution_count": 10,
   "metadata": {},
   "outputs": [
    {
     "data": {
      "text/plain": [
       "[<matplotlib.lines.Line2D at 0x1dd46fd3d00>]"
      ]
     },
     "execution_count": 10,
     "metadata": {},
     "output_type": "execute_result"
    },
    {
     "data": {
      "text/plain": [
       "[<matplotlib.lines.Line2D at 0x1dd471ad990>]"
      ]
     },
     "execution_count": 10,
     "metadata": {},
     "output_type": "execute_result"
    },
    {
     "data": {
      "text/plain": [
       "<matplotlib.legend.Legend at 0x1dd47ad2290>"
      ]
     },
     "execution_count": 10,
     "metadata": {},
     "output_type": "execute_result"
    },
    {
     "data": {
      "image/png": "[encoded data removed]",
      "text/plain": [
       "<Figure size 432x288 with 1 Axes>"
      ]
     },
     "metadata": {
      "needs_background": "light"
     },
     "output_type": "display_data"
    }
   ],
   "source": [
    "plt.plot(list(range(num_epochs)), test_l, label='test_mse')\n",
    "plt.plot(list(range(num_epochs)), test_l_norm, label='test_norm_mse')\n",
    "plt.legend(loc = 1)\n",
    "\n",
    "# 数据归一化后，模型的训练效果较好"
   ]
  },
  {
   "cell_type": "markdown",
   "metadata": {},
   "source": [
    "-  一般来说，Xavier初始化和数据归一化不同时使用"
   ]
  },
  {
   "cell_type": "code",
   "execution_count": 11,
   "metadata": {},
   "outputs": [
    {
     "data": {
      "text/plain": [
       "<torch._C.Generator at 0x1dd38fdefd0>"
      ]
     },
     "execution_count": 11,
     "metadata": {},
     "output_type": "execute_result"
    },
    {
     "data": {
      "text/plain": [
       "Parameter containing:\n",
       "tensor([[ 0.8590, -0.6975],\n",
       "        [ 0.1762, -0.7295],\n",
       "        [ 0.5904,  0.3405],\n",
       "        [-0.7281, -0.0867]], requires_grad=True)"
      ]
     },
     "execution_count": 11,
     "metadata": {},
     "output_type": "execute_result"
    },
    {
     "data": {
      "text/plain": [
       "Parameter containing:\n",
       "tensor([[-0.5633,  0.1303, -0.5045,  0.3393],\n",
       "        [-0.7823,  0.2525,  0.7264,  0.5470],\n",
       "        [ 0.7246, -0.0357, -0.6253,  0.1108],\n",
       "        [-0.3299, -0.5521,  0.5269,  0.1061]], requires_grad=True)"
      ]
     },
     "execution_count": 11,
     "metadata": {},
     "output_type": "execute_result"
    },
    {
     "data": {
      "text/plain": [
       "Parameter containing:\n",
       "tensor([[ 0.4386,  0.8341,  0.1352, -0.8077],\n",
       "        [ 0.2441,  0.4123,  0.0232, -0.7393],\n",
       "        [ 0.8236, -0.8110,  0.6018, -0.0395],\n",
       "        [ 0.6284, -0.7337,  0.8656,  0.2915]], requires_grad=True)"
      ]
     },
     "execution_count": 11,
     "metadata": {},
     "output_type": "execute_result"
    },
    {
     "data": {
      "text/plain": [
       "Parameter containing:\n",
       "tensor([[0.9703, 0.6656, 0.8244, 0.3487]], requires_grad=True)"
      ]
     },
     "execution_count": 11,
     "metadata": {},
     "output_type": "execute_result"
    },
    {
     "data": {
      "text/plain": [
       "Parameter containing:\n",
       "tensor([[-0.2945,  0.9237],\n",
       "        [ 0.7596, -0.6387],\n",
       "        [-0.0023, -0.3001],\n",
       "        [-0.9573,  0.0271]], requires_grad=True)"
      ]
     },
     "execution_count": 11,
     "metadata": {},
     "output_type": "execute_result"
    },
    {
     "data": {
      "text/plain": [
       "Parameter containing:\n",
       "tensor([[-0.5126, -0.1948, -0.2230,  0.7317],\n",
       "        [ 0.3355, -0.7767,  0.4933,  0.5650],\n",
       "        [ 0.3391,  0.3513,  0.3385,  0.0232],\n",
       "        [-0.7911, -0.4265,  0.5541,  0.2841]], requires_grad=True)"
      ]
     },
     "execution_count": 11,
     "metadata": {},
     "output_type": "execute_result"
    },
    {
     "data": {
      "text/plain": [
       "Parameter containing:\n",
       "tensor([[ 0.6846,  0.2079,  0.8334, -0.3973],\n",
       "        [-0.4116,  0.3072, -0.4335,  0.3472],\n",
       "        [ 0.0940, -0.3414,  0.2058,  0.8155],\n",
       "        [ 0.4660, -0.8182,  0.3571,  0.5147]], requires_grad=True)"
      ]
     },
     "execution_count": 11,
     "metadata": {},
     "output_type": "execute_result"
    },
    {
     "data": {
      "text/plain": [
       "Parameter containing:\n",
       "tensor([[ 0.7612, -0.2644,  0.8887,  0.8696]], requires_grad=True)"
      ]
     },
     "execution_count": 11,
     "metadata": {},
     "output_type": "execute_result"
    }
   ],
   "source": [
    "#——————————————————验证归一化是否有助于各层梯度保持平稳————————————————————\n",
    "# 设置随机数种子\n",
    "torch.manual_seed(24)  \n",
    "\n",
    "\n",
    "# 关键参数\n",
    "lr = 0.03\n",
    "num_epochs = 5\n",
    "\n",
    "\n",
    "# 实例化模型\n",
    "sigmoid_model3 = Sigmoid_class3() \n",
    "sigmoid_model3_norm = Sigmoid_class3()  \n",
    "\n",
    "\n",
    "# 进行Xavier初始化\n",
    "for m in sigmoid_model3.modules():\n",
    "    if isinstance(m, nn.Linear):\n",
    "        nn.init.xavier_uniform_(m.weight)\n",
    "        \n",
    "for m in sigmoid_model3_norm.modules():\n",
    "    if isinstance(m, nn.Linear):\n",
    "        nn.init.xavier_uniform_(m.weight)\n",
    "\n",
    "\n",
    "# sigmoid_model2模型训练\n",
    "train_l, test_l = model_train_test(sigmoid_model3, \n",
    "                                   train_loader,\n",
    "                                   test_loader,\n",
    "                                   num_epochs = num_epochs, \n",
    "                                   criterion = nn.MSELoss(), \n",
    "                                   optimizer = optim.SGD, \n",
    "                                   lr = lr, \n",
    "                                   cla = False, \n",
    "                                   eva = mse_cal)\n",
    "\n",
    "# sigmoid_model2_norm模型训练\n",
    "train_l_norm, test_l_norm = model_train_test(sigmoid_model3_norm, \n",
    "                                             train_loader_norm,\n",
    "                                             test_loader,\n",
    "                                             num_epochs = num_epochs, \n",
    "                                             criterion = nn.MSELoss(), \n",
    "                                             optimizer = optim.SGD, \n",
    "                                             lr = lr, \n",
    "                                             cla = False, \n",
    "                                             eva = mse_cal)"
   ]
  },
  {
   "cell_type": "code",
   "execution_count": 12,
   "metadata": {},
   "outputs": [
    {
     "data": {
      "image/png": "[encoded data removed]",
      "text/plain": [
       "<Figure size 432x288 with 1 Axes>"
      ]
     },
     "metadata": {
      "needs_background": "light"
     },
     "output_type": "display_data"
    }
   ],
   "source": [
    "weights_vp(sigmoid_model3, att=\"grad\")\n",
    "\n",
    "\n",
    "# 梯度分布不均衡"
   ]
  },
  {
   "cell_type": "code",
   "execution_count": 13,
   "metadata": {},
   "outputs": [
    {
     "data": {
      "image/png": "[encoded data removed]",
      "text/plain": [
       "<Figure size 432x288 with 1 Axes>"
      ]
     },
     "metadata": {
      "needs_background": "light"
     },
     "output_type": "display_data"
    }
   ],
   "source": [
    "weights_vp(sigmoid_model3_norm, att=\"grad\")\n",
    "\n",
    "# 按理来说，应该梯度更加平稳，不知道为什么这里梯度变化更加剧烈\n",
    "# 第四层的梯度爆炸更加明显"
   ]
  },
  {
   "cell_type": "markdown",
   "metadata": {},
   "source": [
    "&emsp;&emsp;由此能看出，使用归一化后的数据进行建模的模型，前几轮迭代时梯度相对平稳。\n",
    "\n",
    "我们知道，当各层梯度更加均衡时模型学习能力更强，进而能够加快模型收敛速度，甚至提升模型准确率。因此我们也可以推断，归一化是通过维持梯度平稳来加快收敛速度、提升模型准确率的。"
   ]
  },
  {
   "cell_type": "markdown",
   "metadata": {},
   "source": [
    "### 3.Z-Score数据归一化的局限\n",
    "\n",
    "#### 3.1 Zero-Centered特性消失\n",
    "\n",
    "由于是对于“初始值”的修改，因此也会存在随着迭代次数增加就逐渐破坏了Zero-Centered Data这一条件的问题。  \n",
    "并且，随着参数和输入数据都回到不可控状态，各层的梯度又将回到不可控的状态，而所谓的控制梯度平稳性也将无从谈起。\n",
    "\n",
    "例如，我们尝试创建相对梯度容易不平稳的tanh激活函数模型，查看迭代5轮和40轮时各层梯度变化情况"
   ]
  },
  {
   "cell_type": "code",
   "execution_count": 14,
   "metadata": {},
   "outputs": [
    {
     "data": {
      "text/plain": [
       "<torch._C.Generator at 0x1dd38fdefd0>"
      ]
     },
     "execution_count": 14,
     "metadata": {},
     "output_type": "execute_result"
    },
    {
     "data": {
      "text/plain": [
       "Parameter containing:\n",
       "tensor([[ 0.2847,  0.4558],\n",
       "        [ 0.1465, -0.3580],\n",
       "        [-0.3710, -0.0826],\n",
       "        [ 0.9358,  0.5741]], requires_grad=True)"
      ]
     },
     "execution_count": 14,
     "metadata": {},
     "output_type": "execute_result"
    },
    {
     "data": {
      "text/plain": [
       "Parameter containing:\n",
       "tensor([[ 0.5889, -0.3163,  0.2033, -0.5345],\n",
       "        [-0.1101, -0.4292,  0.3611,  0.4440],\n",
       "        [ 0.1075,  0.6876, -0.8603,  0.3756],\n",
       "        [ 0.4682,  0.7871,  0.1877, -0.7922]], requires_grad=True)"
      ]
     },
     "execution_count": 14,
     "metadata": {},
     "output_type": "execute_result"
    },
    {
     "data": {
      "text/plain": [
       "Parameter containing:\n",
       "tensor([[ 0.7348, -0.0581,  0.3638, -0.7409]], requires_grad=True)"
      ]
     },
     "execution_count": 14,
     "metadata": {},
     "output_type": "execute_result"
    },
    {
     "data": {
      "text/plain": [
       "Parameter containing:\n",
       "tensor([[ 0.0359,  0.9580],\n",
       "        [ 0.3218,  0.8097],\n",
       "        [ 0.1927,  0.8312],\n",
       "        [-0.8618,  0.4136]], requires_grad=True)"
      ]
     },
     "execution_count": 14,
     "metadata": {},
     "output_type": "execute_result"
    },
    {
     "data": {
      "text/plain": [
       "Parameter containing:\n",
       "tensor([[ 0.8077,  0.4030,  0.5159,  0.6062],\n",
       "        [ 0.7439, -0.6040,  0.1526, -0.6317],\n",
       "        [ 0.5113,  0.2949, -0.6306, -0.0751],\n",
       "        [-0.5633,  0.1303, -0.5045,  0.3393]], requires_grad=True)"
      ]
     },
     "execution_count": 14,
     "metadata": {},
     "output_type": "execute_result"
    },
    {
     "data": {
      "text/plain": [
       "Parameter containing:\n",
       "tensor([[-0.9895,  0.3193,  0.9188,  0.6919]], requires_grad=True)"
      ]
     },
     "execution_count": 14,
     "metadata": {},
     "output_type": "execute_result"
    }
   ],
   "source": [
    "# 设置随机数种子\n",
    "torch.manual_seed(24)  \n",
    "\n",
    "# 学习率\n",
    "lr = 0.03\n",
    "\n",
    "\n",
    "# 实例化模型\n",
    "tanh_model2_norm1 = tanh_class2()  \n",
    "tanh_model2_norm2 = tanh_class2()  \n",
    "\n",
    "\n",
    "# 进行Xavier初始化\n",
    "for m in tanh_model2_norm1.modules():\n",
    "    if isinstance(m, nn.Linear):\n",
    "        nn.init.xavier_uniform_(m.weight)\n",
    "        \n",
    "for m in tanh_model2_norm2.modules():\n",
    "    if isinstance(m, nn.Linear):\n",
    "        nn.init.xavier_uniform_(m.weight)\n",
    "\n",
    "\n",
    "# sigmoid_model2模型训练\n",
    "train_l, test_l = model_train_test(tanh_model2_norm1, \n",
    "                                   train_loader_norm,\n",
    "                                   test_loader,\n",
    "                                   num_epochs = 5, \n",
    "                                   criterion = nn.MSELoss(), \n",
    "                                   optimizer = optim.SGD, \n",
    "                                   lr = lr, \n",
    "                                   cla = False, \n",
    "                                   eva = mse_cal)\n",
    "\n",
    "# sigmoid_model2_norm模型训练\n",
    "train_l_norm, test_l_norm = model_train_test(tanh_model2_norm2, \n",
    "                                             train_loader_norm,\n",
    "                                             test_loader,\n",
    "                                             num_epochs = 40, \n",
    "                                             criterion = nn.MSELoss(), \n",
    "                                             optimizer = optim.SGD, \n",
    "                                             lr = lr, \n",
    "                                             cla = False, \n",
    "                                             eva = mse_cal)"
   ]
  },
  {
   "cell_type": "code",
   "execution_count": 15,
   "metadata": {},
   "outputs": [
    {
     "data": {
      "image/png": "[encoded data removed]",
      "text/plain": [
       "<Figure size 432x288 with 1 Axes>"
      ]
     },
     "metadata": {
      "needs_background": "light"
     },
     "output_type": "display_data"
    }
   ],
   "source": [
    "weights_vp(tanh_model2_norm1, att=\"grad\")"
   ]
  },
  {
   "cell_type": "code",
   "execution_count": 16,
   "metadata": {},
   "outputs": [
    {
     "data": {
      "image/png": "[encoded data removed]",
      "text/plain": [
       "<Figure size 432x288 with 1 Axes>"
      ]
     },
     "metadata": {
      "needs_background": "light"
     },
     "output_type": "display_data"
    }
   ],
   "source": [
    "weights_vp(tanh_model2_norm2, att=\"grad\")\n",
    "\n",
    "# 第一层和第二层的梯度都明显变得平稳\n",
    "# 能够看出，刚开始时梯度较为平稳，而迭代到后期时就出现了明显的梯度爆炸现象。"
   ]
  },
  {
   "cell_type": "markdown",
   "metadata": {},
   "source": [
    "#### 3.2 Zero-Centered Data的作用局限\n",
    "\n",
    "由于各层的梯度实际上受到激活函数、各层输入数据和参数三者共同影响，因此哪怕我们将所有的输入数据都调整为零均值的，各层梯度的计算结果还是有可能因为受到其他因素影响导致不平稳。因此，一味追求输入数据的Zero-Centered或许并不是最好的选择。\n"
   ]
  },
  {
   "cell_type": "markdown",
   "metadata": {},
   "source": [
    "### 4.保证梯度平稳的第二条道路：输入数据调整\n",
    "\n",
    "影响梯度平稳性的核心因素：\n",
    "- 各层的参数\n",
    "- 各线性层接收到的数据\n",
    "- 激活函数\n",
    "\n",
    "**Batch Normalization：**  \n",
    "通过修改每一次带入训练的数据分布（每一个Batch）的数据分布，来提升模型各层梯度的平稳性，从而提升模型学习效率、提高模型训练结果。由于是修改每一个Batch的数据分布，因此该方法也被称为小批量数据归一化方法。"
   ]
  },
  {
   "cell_type": "markdown",
   "metadata": {},
   "source": [
    "## 二、Batch Normalization基础理论\n",
    "\n",
    "BN方法解决内部协方差偏移（Internal Covariate Shift、ICS）的问题，该问题会导致模型性能下降。\n",
    "\n",
    "### 1.归一化方法与数据分布的相互独立性\n",
    "\n",
    "&emsp;&emsp;首先，我们需要知道，任何归一化的本质都是对数据进行平移和放缩\n",
    "- 平移:数据集每一列统一加上或减去某一个数\n",
    "  - 在Z-Score中就是每一列减去该列的均值\n",
    "- 放缩：数据集中每一列数据统一除以或乘以某一个数\n",
    "  - 在Z-Score中就是每一列除以当前列的标准差\n",
    "- 数据的平移和放缩，不影响数据特征的分布情况"
   ]
  },
  {
   "cell_type": "code",
   "execution_count": 17,
   "metadata": {},
   "outputs": [
    {
     "data": {
      "text/plain": [
       "<torch._C.Generator at 0x1dd38fdefd0>"
      ]
     },
     "execution_count": 17,
     "metadata": {},
     "output_type": "execute_result"
    },
    {
     "data": {
      "text/plain": [
       "<matplotlib.collections.PathCollection at 0x1dd4750f250>"
      ]
     },
     "execution_count": 17,
     "metadata": {},
     "output_type": "execute_result"
    },
    {
     "data": {
      "image/png": "[encoded data removed]",
      "text/plain": [
       "<Figure size 432x288 with 1 Axes>"
      ]
     },
     "metadata": {
      "needs_background": "light"
     },
     "output_type": "display_data"
    }
   ],
   "source": [
    "#————————————————————————————创建分类型数据————————————————————————————\n",
    "# 设置随机数种子\n",
    "torch.manual_seed(420)   \n",
    "\n",
    "# 创建数据集\n",
    "features, labels = tensorGenCla(num_class= 2, deg_dispersion=[6, 2])\n",
    "\n",
    "# 查看其分布\n",
    "plt.scatter(features[:, 0], features[:, 1], c = labels)"
   ]
  },
  {
   "cell_type": "code",
   "execution_count": 18,
   "metadata": {},
   "outputs": [
    {
     "data": {
      "text/plain": [
       "tensor([[-3.0141, -1.9911],\n",
       "        [-1.6593, -3.7657],\n",
       "        [-2.9395, -2.2347],\n",
       "        ...,\n",
       "        [ 3.9623,  3.0861],\n",
       "        [ 1.4535,  0.7860],\n",
       "        [-1.6681,  4.3935]])"
      ]
     },
     "execution_count": 18,
     "metadata": {},
     "output_type": "execute_result"
    },
    {
     "data": {
      "text/plain": [
       "tensor([[-0.8529, -0.5795],\n",
       "        [-0.4764, -1.0878],\n",
       "        [-0.8322, -0.6492],\n",
       "        ...,\n",
       "        [ 1.0859,  0.8750],\n",
       "        [ 0.3887,  0.2161],\n",
       "        [-0.4789,  1.2495]])"
      ]
     },
     "execution_count": 18,
     "metadata": {},
     "output_type": "execute_result"
    }
   ],
   "source": [
    "#————————————————————————————数据归一化————————————————————————————\n",
    "\n",
    "features\n",
    "\n",
    "f = Z_ScoreNormalization(features)\n",
    "f"
   ]
  },
  {
   "cell_type": "code",
   "execution_count": 19,
   "metadata": {},
   "outputs": [
    {
     "data": {
      "text/plain": [
       "<AxesSubplot:>"
      ]
     },
     "execution_count": 19,
     "metadata": {},
     "output_type": "execute_result"
    },
    {
     "data": {
      "text/plain": [
       "<matplotlib.collections.PathCollection at 0x1dd47427100>"
      ]
     },
     "execution_count": 19,
     "metadata": {},
     "output_type": "execute_result"
    },
    {
     "data": {
      "text/plain": [
       "Text(0.5, 1.0, 'features distribution')"
      ]
     },
     "execution_count": 19,
     "metadata": {},
     "output_type": "execute_result"
    },
    {
     "data": {
      "text/plain": [
       "<AxesSubplot:>"
      ]
     },
     "execution_count": 19,
     "metadata": {},
     "output_type": "execute_result"
    },
    {
     "data": {
      "text/plain": [
       "<matplotlib.collections.PathCollection at 0x1dd4747a8f0>"
      ]
     },
     "execution_count": 19,
     "metadata": {},
     "output_type": "execute_result"
    },
    {
     "data": {
      "text/plain": [
       "Text(0.5, 1.0, 'f distribution')"
      ]
     },
     "execution_count": 19,
     "metadata": {},
     "output_type": "execute_result"
    },
    {
     "data": {
      "image/png": "[encoded data removed]",
      "text/plain": [
       "<Figure size 432x288 with 2 Axes>"
      ]
     },
     "metadata": {
      "needs_background": "light"
     },
     "output_type": "display_data"
    }
   ],
   "source": [
    "#————————————————————————————归一化前后数据分布————————————————————————————\n",
    "\n",
    "plt.subplot(121)\n",
    "plt.scatter(features[:, 0], features[:, 1], c = labels)\n",
    "plt.title('features distribution')\n",
    "plt.subplot(122)\n",
    "plt.scatter(f[:, 0], f[:, 1], c = labels)\n",
    "plt.title('f distribution')\n",
    "\n",
    "# 我们发现，归一化前后数据分布不变，但数据在空间中的坐标的绝对值发生变化。\n",
    "# 当然，我们也可以对原始数据进行任意的平移和放缩，查看是否会改变原数据的分布。"
   ]
  },
  {
   "cell_type": "code",
   "execution_count": 20,
   "metadata": {},
   "outputs": [
    {
     "data": {
      "text/plain": [
       "<AxesSubplot:>"
      ]
     },
     "execution_count": 20,
     "metadata": {},
     "output_type": "execute_result"
    },
    {
     "data": {
      "text/plain": [
       "<matplotlib.collections.PathCollection at 0x1dd473bb400>"
      ]
     },
     "execution_count": 20,
     "metadata": {},
     "output_type": "execute_result"
    },
    {
     "data": {
      "text/plain": [
       "Text(0.5, 1.0, 'features distribution')"
      ]
     },
     "execution_count": 20,
     "metadata": {},
     "output_type": "execute_result"
    },
    {
     "data": {
      "text/plain": [
       "<AxesSubplot:>"
      ]
     },
     "execution_count": 20,
     "metadata": {},
     "output_type": "execute_result"
    },
    {
     "data": {
      "text/plain": [
       "<matplotlib.collections.PathCollection at 0x1dd471f7d00>"
      ]
     },
     "execution_count": 20,
     "metadata": {},
     "output_type": "execute_result"
    },
    {
     "data": {
      "text/plain": [
       "Text(0.5, 1.0, 'f distribution')"
      ]
     },
     "execution_count": 20,
     "metadata": {},
     "output_type": "execute_result"
    },
    {
     "data": {
      "image/png": "[encoded data removed]",
      "text/plain": [
       "<Figure size 432x288 with 2 Axes>"
      ]
     },
     "metadata": {
      "needs_background": "light"
     },
     "output_type": "display_data"
    }
   ],
   "source": [
    "#————————————————————————————进行夸张的平移和放缩————————————————————————————\n",
    "plt.subplot(121)\n",
    "plt.scatter(features[:, 0], features[:, 1], c = labels)\n",
    "plt.title('features distribution')\n",
    "plt.subplot(122)\n",
    "plt.scatter(f[:, 0]*10-100, f[:, 1]*0.001, c = labels)\n",
    "plt.title('f distribution')\n",
    "\n",
    "# 不改变数据的分布"
   ]
  },
  {
   "cell_type": "markdown",
   "metadata": {},
   "source": [
    "- 数据归一化不修改数据分布，是我们使用归一化方法的基本前提"
   ]
  },
  {
   "cell_type": "markdown",
   "metadata": {},
   "source": [
    "### 2.归一化与仿射变换\n",
    "\n",
    "&emsp;&emsp;归一化的本质仍然是对数据进行仿射变换。根据此前介绍，数据的仿射变换用矩阵形式来进行表示就是：$$\\hat x = x * w + b$$其中x是原数据，w是参数矩阵，b是截距，$\\hat x$是经过变换之后的数据。此处以Z-Score为例，探讨归一化操作转化为仿射变换的方法。"
   ]
  },
  {
   "cell_type": "code",
   "execution_count": 21,
   "metadata": {},
   "outputs": [
    {
     "data": {
      "text/plain": [
       "tensor([[1., 2.],\n",
       "        [3., 4.]])"
      ]
     },
     "execution_count": 21,
     "metadata": {},
     "output_type": "execute_result"
    },
    {
     "data": {
      "text/plain": [
       "tensor([[-0.7071, -0.7071],\n",
       "        [ 0.7071,  0.7071]])"
      ]
     },
     "execution_count": 21,
     "metadata": {},
     "output_type": "execute_result"
    }
   ],
   "source": [
    "# 创建一组数据\n",
    "f = torch.arange(1, 5).reshape(2, 2).float()\n",
    "f\n",
    "\n",
    "# 对其进行Z-Score归一化\n",
    "Z_ScoreNormalization(f)"
   ]
  },
  {
   "cell_type": "markdown",
   "metadata": {},
   "source": [
    "$$\\frac{x-mean(x)}{std(x)}$$\n",
    "\n",
    "当然，该过程也可以写成如下表达式：\n",
    "\n",
    "$$\\frac{x}{std(x)} - \\frac{mean(x)}{std(x)} = x \\cdot\\frac{1}{std(x)}- \\frac{mean(x)}{std(x)} = x \\otimes \\gamma + \\beta$$\n",
    "\n",
    "\n",
    "其中$\\otimes$表示逐个元素相乘，$\\gamma 和\\beta$为指代参数。"
   ]
  },
  {
   "cell_type": "code",
   "execution_count": 22,
   "metadata": {},
   "outputs": [],
   "source": [
    "r = torch.tensor(1.) / f.std(0)     # 每列的标准差"
   ]
  },
  {
   "cell_type": "code",
   "execution_count": 23,
   "metadata": {},
   "outputs": [
    {
     "data": {
      "text/plain": [
       "tensor([[0.7071, 0.0000],\n",
       "        [0.0000, 0.7071]])"
      ]
     },
     "execution_count": 23,
     "metadata": {},
     "output_type": "execute_result"
    }
   ],
   "source": [
    "rm = torch.diag(r)                  # 构建以每列标准差分之一为对角线元素的对角矩阵\n",
    "rm"
   ]
  },
  {
   "cell_type": "code",
   "execution_count": 24,
   "metadata": {},
   "outputs": [
    {
     "data": {
      "text/plain": [
       "tensor([[0.7071, 1.4142],\n",
       "        [2.1213, 2.8284]])"
      ]
     },
     "execution_count": 24,
     "metadata": {},
     "output_type": "execute_result"
    }
   ],
   "source": [
    "torch.mm(f, rm)                     # 计算得出每一列除以标准差之后的结果"
   ]
  },
  {
   "cell_type": "code",
   "execution_count": 25,
   "metadata": {},
   "outputs": [
    {
     "data": {
      "text/plain": [
       "tensor([[0.7071, 1.4142],\n",
       "        [2.1213, 2.8284]])"
      ]
     },
     "execution_count": 25,
     "metadata": {},
     "output_type": "execute_result"
    }
   ],
   "source": [
    "f / f.std(0)"
   ]
  },
  {
   "cell_type": "code",
   "execution_count": 26,
   "metadata": {},
   "outputs": [
    {
     "data": {
      "text/plain": [
       "tensor([-1.4142, -2.1213])"
      ]
     },
     "execution_count": 26,
     "metadata": {},
     "output_type": "execute_result"
    }
   ],
   "source": [
    "b = -(f.mean(0) / f.std(0))\n",
    "b"
   ]
  },
  {
   "cell_type": "code",
   "execution_count": 27,
   "metadata": {},
   "outputs": [
    {
     "data": {
      "text/plain": [
       "tensor([[-0.7071, -0.7071],\n",
       "        [ 0.7071,  0.7071]])"
      ]
     },
     "execution_count": 27,
     "metadata": {},
     "output_type": "execute_result"
    }
   ],
   "source": [
    "torch.mm(f, rm) + b"
   ]
  },
  {
   "cell_type": "code",
   "execution_count": 28,
   "metadata": {},
   "outputs": [
    {
     "data": {
      "text/plain": [
       "tensor([[-0.7071, -0.7071],\n",
       "        [ 0.7071,  0.7071]])"
      ]
     },
     "execution_count": 28,
     "metadata": {},
     "output_type": "execute_result"
    }
   ],
   "source": [
    "Z_ScoreNormalization(f)"
   ]
  },
  {
   "cell_type": "markdown",
   "metadata": {},
   "source": [
    "在BN中，以每次输入的小批数据为训练数据，我们将平移和放缩的尺度视作参数，通过带入模型进行训练，最终得出最佳平移和放缩尺度，并且这种BN归一化层会可以出现在任意隐藏层的前后，为数据传输的每一步进行归一化操作。"
   ]
  },
  {
   "cell_type": "markdown",
   "metadata": {},
   "source": [
    "### 3.Batch Normalization基本流程\n",
    "\n",
    "**BN的平移和放缩分为两个阶段：**\n",
    "- 第一个阶段是进行Z-Score处理\n",
    "  - 将输入数据的均值平移至0点，并将输入数据的方差放缩至1\n",
    "- 第二阶段则是在此基础上在对数据的均值进行参数平移（加上一个通过训练、也就是梯度下降算法算得的参数），并对其方差进行参数（另一个通过模型训练、也就是梯度下降算得的参数）放缩\n",
    "\n"
   ]
  },
  {
   "cell_type": "markdown",
   "metadata": {},
   "source": [
    "Stage 1：Z-Score放缩\n",
    "$$\\mu_B = \\frac{1}{m_B}\\sum^{m_B}_{i=1}x^{(i)}$$\n",
    "$$\\mu_B = \\frac{1}{m_B}\\sum^{m_B}_{i=1}x^{(i)}$$\n",
    "$$\\hat{x}^{(i)} = \\frac{x^{(i)}-\\mu_B}{\\sqrt{\\delta^2_B+\\epsilon}}$$\n",
    "\n",
    "&emsp;&emsp;其中$\\mu_B$代表输入的小批数据均值，$\\delta^2_B$代表输入的小批数据方差，$\\hat{x}$代表Z-Score归一化后的数据结果，和此前一样，Z-Score计算过程为减去每一列的元素减去该列的均值除以该列的修正后的标准差（方差加上一个极小的数使得其不为零）。第一阶段的参数都是可以计算或者人工设置的，其中均值和方差都是简单计算即可得出，而修正项$\\epsilon$则是可以手动设置的。"
   ]
  },
  {
   "cell_type": "markdown",
   "metadata": {},
   "source": [
    "Stage 2：带参数的平移和放缩\n",
    "\n",
    "$$z^{(i)}=\\gamma \\otimes \\hat{x}^{(i)}+\\beta$$\n",
    "&emsp;&emsp;和第一阶段参数可以简单计算得出不同，二阶段的参数，也就是$\\gamma$和$\\beta$都是模型参数，在实际模型训练过程中是需要作为模型整体参数的一部分，带入损失函数、进而通过梯度下降计算得出的。\n",
    "\n",
    "而二阶段的实际处理数据过程，则是首先对一阶段放缩之后每一列的$\\hat{x}$乘以一个固定的$\\gamma$在加上一个固定的$\\beta$。需要强调的是，上述公式是针对列进行处理，即每一列都乘以一个$\\gamma$再加上一个$\\beta$，并不是所有数据都乘以一个$\\gamma$再加上一个$\\beta$，也不是每一个数据都乘以一个$\\gamma$再加上一个$\\beta$。"
   ]
  },
  {
   "cell_type": "markdown",
   "metadata": {},
   "source": [
    "- BN的两个阶段之间关系\n",
    "\n",
    "&emsp;&emsp;细心的同学不难发现，实际上BN的第一个阶段和第二个阶段都是在做同一件事——都是在对数据进行平移和放缩，甚至当$\\gamma=\\sqrt{\\delta^2_B+\\epsilon}, \\beta=\\mu_B$，二阶段处理结果将还原回原始输入数据，也就是$z^{(i)}=x^{(i)}$\n",
    "\n",
    "&emsp;&emsp;既然两个阶段做的相同的事情，为何不能直接合并为一个阶段。从理论上来说，我们可以将上述过程合并为：\n",
    "\n",
    "$$\\begin{aligned}\n",
    "z^{(i)} \n",
    "& = \\gamma \\otimes \\hat{x}^{(i)}+\\beta \\\\\n",
    "& = \\gamma \\otimes \\frac{x^{(i)}-\\mu_B}{\\sqrt{\\delta^2_B+\\epsilon}} + \\beta \\\\\n",
    "& = \\frac{\\gamma}{\\sqrt{\\delta^2_B+\\epsilon}}\\otimes x^{(i)}+(\\beta-\\frac{\\gamma \\cdot \\mu_B}{\\sqrt{\\delta^2_B+\\epsilon}}) \\\\\n",
    "& = \\hat\\gamma \\otimes {x}^{(i)}+\\hat \\beta \\\\\n",
    "\\end{aligned}\n",
    "$$"
   ]
  },
  {
   "cell_type": "markdown",
   "metadata": {},
   "source": [
    "&emsp;&emsp;但在实际建模过程中我们并没有这么做，实际PyTorch模型训练完成后输出的参数结果也是原始的$\\gamma和\\beta$。这里我们可以这样理解：BN方法无疑会增加模型计算量，而提前对数据进行Z-Score处理，就相当于是先选择了一组初始的$\\gamma和\\beta$对数据进行处理（此时$\\gamma_0=\\frac{1}{\\sqrt{\\delta^2_B+\\epsilon}}, \\beta_0 = \\frac{-\\mu_B}{\\sqrt{\\delta^2_B+\\epsilon}}$），然后再此基础之上进行带参数的平移和缩放，二阶段平移和缩放的参数是需要经过梯度下降迭代计算得出，而选择在$\\gamma_0和\\beta_0$基础上进行梯度下降计算，就相当于选择了一组初始值点，而该初始值点能够有效提升迭代收敛速度。"
   ]
  }
 ],
 "metadata": {
  "kernelspec": {
   "display_name": "Python 3.10.0 64-bit",
   "language": "python",
   "name": "python3"
  },
  "language_info": {
   "codemirror_mode": {
    "name": "ipython",
    "version": 3
   },
   "file_extension": ".py",
   "mimetype": "text/x-python",
   "name": "python",
   "nbconvert_exporter": "python",
   "pygments_lexer": "ipython3",
   "version": "3.10.0"
  },
  "orig_nbformat": 4,
  "vscode": {
   "interpreter": {
    "hash": "3296471c9107718e6db2104fe506aa09d2e74f3fa2347eed57e489ba84541490"
   }
  }
 },
 "nbformat": 4,
 "nbformat_minor": 2
}
