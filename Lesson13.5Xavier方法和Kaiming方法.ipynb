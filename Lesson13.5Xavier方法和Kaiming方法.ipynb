{
 "cells": [
  {
   "cell_type": "markdown",
   "metadata": {},
   "source": [
    "# Lesson 13.5 Xavier方法与kaiming方法（HE初始化）\n",
    "\n",
    "我们介绍**参数初始化优化方法**，也就是针对tanh和Sigmoid激活函数的Xavier方法，以及针对ReLU激活函数的Kaiming方法（HE初始化）。"
   ]
  },
  {
   "cell_type": "markdown",
   "metadata": {},
   "source": [
    "## 一、Xavier方法\n",
    "\n",
    "### 1.Xavier初始化参数方法基础理论\n",
    "\n",
    "&emsp;&emsp;回顾Glorot条件，我们要求正向传播时候数据流经每一层前后的方差一致，并且反向传播时候数据流经每一层，该层梯度前后方差一致。我们将前者称为向前传播条件，后者称为反向传播条件。\n"
   ]
  },
  {
   "cell_type": "markdown",
   "metadata": {},
   "source": [
    "\n",
    "我们先看当向前传播条件成立时候，有如下计算过程。首先，数据流至某一层时，该层神经元接收到的数据可以通过如下方法算得：\n",
    "\n",
    "$$z_j = \\sum^n_{i=1}w_ix_i$$\n",
    "\n",
    "- 其中$z_j$表示当前某层神经元接收到的数据，\n",
    "- $x_i$表示上一层某神经元传出的数据，\n",
    "- $w_i$代表连接对应两个神经元之间的权重\n",
    "\n",
    "\n",
    "如果我们假设w是服从正态分布的，则w服从$(0, \\sqrt{\\frac{2}{n_{in}+n_{out}}})$的随机变量。据此，我们就能设置每一层的初始参数了。当然，在PyTorch中，可以使用init方法进行初始化。"
   ]
  },
  {
   "cell_type": "markdown",
   "metadata": {},
   "source": [
    "### 2.Xavier初始化参数执行方法\n",
    "\n",
    "#### 2.1 PyTorch实现Xavier均匀分布的参数创建\n",
    "\n",
    "- `torch.nn.init.xavier_uniform_(参数)`进行初始化参数设置。"
   ]
  },
  {
   "cell_type": "code",
   "execution_count": 2,
   "metadata": {},
   "outputs": [
    {
     "name": "stdout",
     "output_type": "stream",
     "text": [
      "\u001b[1;31mSignature:\u001b[0m \u001b[0mnn\u001b[0m\u001b[1;33m.\u001b[0m\u001b[0minit\u001b[0m\u001b[1;33m.\u001b[0m\u001b[0mxavier_uniform_\u001b[0m\u001b[1;33m(\u001b[0m\u001b[0mtensor\u001b[0m\u001b[1;33m:\u001b[0m \u001b[0mtorch\u001b[0m\u001b[1;33m.\u001b[0m\u001b[0mTensor\u001b[0m\u001b[1;33m,\u001b[0m \u001b[0mgain\u001b[0m\u001b[1;33m:\u001b[0m \u001b[0mfloat\u001b[0m \u001b[1;33m=\u001b[0m \u001b[1;36m1.0\u001b[0m\u001b[1;33m)\u001b[0m \u001b[1;33m->\u001b[0m \u001b[0mtorch\u001b[0m\u001b[1;33m.\u001b[0m\u001b[0mTensor\u001b[0m\u001b[1;33m\u001b[0m\u001b[1;33m\u001b[0m\u001b[0m\n",
      "\u001b[1;31mDocstring:\u001b[0m\n",
      "Fills the input `Tensor` with values according to the method\n",
      "described in `Understanding the difficulty of training deep feedforward\n",
      "neural networks` - Glorot, X. & Bengio, Y. (2010), using a uniform\n",
      "distribution. The resulting tensor will have values sampled from\n",
      ":math:`\\mathcal{U}(-a, a)` where\n",
      "\n",
      ".. math::\n",
      "    a = \\text{gain} \\times \\sqrt{\\frac{6}{\\text{fan\\_in} + \\text{fan\\_out}}}\n",
      "\n",
      "Also known as Glorot initialization.\n",
      "\n",
      "Args:\n",
      "    tensor: an n-dimensional `torch.Tensor`\n",
      "    gain: an optional scaling factor\n",
      "\n",
      "Examples:\n",
      "    >>> w = torch.empty(3, 5)\n",
      "    >>> nn.init.xavier_uniform_(w, gain=nn.init.calculate_gain('relu'))\n",
      "\u001b[1;31mFile:\u001b[0m      c:\\users\\hp\\python\\python310\\lib\\site-packages\\torch\\nn\\init.py\n",
      "\u001b[1;31mType:\u001b[0m      function\n"
     ]
    }
   ],
   "source": [
    "nn.init.xavier_uniform_?"
   ]
  },
  {
   "cell_type": "markdown",
   "metadata": {},
   "source": [
    "$fan_{in}$由张量的列决定，$fan_{out}$由张量的行数决定\n",
    "\n",
    "随机数的范围在$[-a,a]$之间，其中a的表达式为：\n",
    "$\\text{gain} \\times \\sqrt{\\frac{6}{\\text{fan\\_in} + \\text{fan\\_out}}}$\n",
    "\n",
    "其中gain为增益系数，用于手动调整均匀分布的边界，暂时不建议调整。"
   ]
  },
  {
   "cell_type": "code",
   "execution_count": 3,
   "metadata": {},
   "outputs": [
    {
     "data": {
      "text/plain": [
       "tensor([[0., 1., 2., 3.],\n",
       "        [4., 5., 6., 7.]])"
      ]
     },
     "execution_count": 3,
     "metadata": {},
     "output_type": "execute_result"
    }
   ],
   "source": [
    "# 创建张量\n",
    "t = torch.arange(8).reshape(2, 4).float()\n",
    "t\n",
    "\n",
    "# fan_in 张量的列，有存在转置关系，此处为4列\n",
    "# fan_out 2行"
   ]
  },
  {
   "cell_type": "code",
   "execution_count": 4,
   "metadata": {},
   "outputs": [
    {
     "data": {
      "text/plain": [
       "tensor([[ 0.5770,  0.3678,  0.2310,  0.3201],\n",
       "        [-0.7702, -0.1159, -0.2467, -0.5198]])"
      ]
     },
     "execution_count": 4,
     "metadata": {},
     "output_type": "execute_result"
    }
   ],
   "source": [
    "# 实现均匀分布的数值转换\n",
    "nn.init.xavier_uniform_(t)"
   ]
  },
  {
   "cell_type": "code",
   "execution_count": 5,
   "metadata": {},
   "outputs": [
    {
     "data": {
      "text/plain": [
       "tensor([[ 0.5770,  0.3678,  0.2310,  0.3201],\n",
       "        [-0.7702, -0.1159, -0.2467, -0.5198]])"
      ]
     },
     "execution_count": 5,
     "metadata": {},
     "output_type": "execute_result"
    }
   ],
   "source": [
    "t  # 该函数会在原对象基础上直接进行修改"
   ]
  },
  {
   "cell_type": "markdown",
   "metadata": {},
   "source": [
    "- Sigmoid激活函数\n",
    "\n",
    "&emsp;&emsp;接下来，在建模过程中使用Xavier初始化方法测试效果。首先是数据准备与核心参数定义。"
   ]
  },
  {
   "cell_type": "code",
   "execution_count": 38,
   "metadata": {},
   "outputs": [
    {
     "data": {
      "text/plain": [
       "<torch._C.Generator at 0x2d53b60efd0>"
      ]
     },
     "execution_count": 38,
     "metadata": {},
     "output_type": "execute_result"
    }
   ],
   "source": [
    "#————————————————————————————用Xavier初始化方法测试效果————————————————————————————\n",
    "# 设置随机数种子\n",
    "torch.manual_seed(420)  \n",
    "\n",
    "# 创建最高项为2的多项式回归数据集\n",
    "features, labels = tensorGenReg(w=[2, -1], bias=False, deg=2)\n",
    "\n",
    "# 进行数据集切分与加载\n",
    "train_loader, test_loader = split_loader(features, labels)\n",
    "\n",
    "# 初始核心参数\n",
    "lr = 0.03\n",
    "num_epochs = 20\n"
   ]
  },
  {
   "cell_type": "code",
   "execution_count": 39,
   "metadata": {},
   "outputs": [
    {
     "data": {
      "text/plain": [
       "<torch._C.Generator at 0x2d53b60efd0>"
      ]
     },
     "execution_count": 39,
     "metadata": {},
     "output_type": "execute_result"
    },
    {
     "data": {
      "text/plain": [
       "Parameter containing:\n",
       "tensor([[ 0.7995, -0.2561],\n",
       "        [-0.1097, -0.0529],\n",
       "        [-0.8137,  0.8860],\n",
       "        [-0.0984,  0.9770]], requires_grad=True)"
      ]
     },
     "execution_count": 39,
     "metadata": {},
     "output_type": "execute_result"
    },
    {
     "data": {
      "text/plain": [
       "Parameter containing:\n",
       "tensor([[ 0.7130,  0.3764, -0.0196, -0.0096],\n",
       "        [ 0.0199, -0.8417, -0.2067, -0.4007],\n",
       "        [-0.0515,  0.1059, -0.6787,  0.6582],\n",
       "        [ 0.7072,  0.5386,  0.3889,  0.1370]], requires_grad=True)"
      ]
     },
     "execution_count": 39,
     "metadata": {},
     "output_type": "execute_result"
    },
    {
     "data": {
      "text/plain": [
       "Parameter containing:\n",
       "tensor([[-0.6241,  0.3488,  0.3069,  0.8371],\n",
       "        [-0.8167,  0.7516,  0.6801,  0.1606],\n",
       "        [ 0.2885,  0.1036, -0.0692,  0.1744],\n",
       "        [ 0.5015,  0.0987, -0.0787, -0.0286]], requires_grad=True)"
      ]
     },
     "execution_count": 39,
     "metadata": {},
     "output_type": "execute_result"
    },
    {
     "data": {
      "text/plain": [
       "Parameter containing:\n",
       "tensor([[-0.8437, -0.5244,  0.8917,  0.0646]], requires_grad=True)"
      ]
     },
     "execution_count": 39,
     "metadata": {},
     "output_type": "execute_result"
    }
   ],
   "source": [
    "# 设置随机数种子\n",
    "torch.manual_seed(420)  \n",
    "\n",
    "# ——————————实例化模型——————————\n",
    "# =====保留原参数=====\n",
    "sigmoid_model3 = Sigmoid_class3()       \n",
    "\n",
    "# =====使用Xavier初始化参数=====\n",
    "sigmoid_model3_init = Sigmoid_class3()              \n",
    "# 修改init模型初始参数：修改所有线性层的参数\n",
    "for m in sigmoid_model3_init.modules():\n",
    "    if isinstance(m, nn.Linear):\n",
    "        nn.init.xavier_uniform_(m.weight)   # 对每一个权重初始化，截距也可以初始化，但是没必要\n",
    "        \n",
    "# 创建模型容器\n",
    "model_l = [sigmoid_model3, sigmoid_model3_init]           \n",
    "name_l = ['sigmoid_model3', 'sigmoid_model3_init']"
   ]
  },
  {
   "cell_type": "code",
   "execution_count": 43,
   "metadata": {},
   "outputs": [],
   "source": [
    "#————————————————————————————模型训练————————————————————————————\n",
    "train_l, test_l = model_comparison(model_l = model_l, \n",
    "                                   name_l = name_l, \n",
    "                                   train_data = train_loader,\n",
    "                                   test_data = test_loader,\n",
    "                                   num_epochs = 2, \n",
    "                                   criterion = nn.MSELoss(), \n",
    "                                   optimizer = optim.SGD, \n",
    "                                   lr = lr, \n",
    "                                   cla = False, \n",
    "                                   eva = mse_cal)\n",
    "                                   \n",
    "# num_epochs = 2 实际只遍历了1次数据，等于1时没有遍历"
   ]
  },
  {
   "cell_type": "code",
   "execution_count": 44,
   "metadata": {},
   "outputs": [
    {
     "data": {
      "image/png": "[encoded data removed]",
      "text/plain": [
       "<Figure size 432x288 with 1 Axes>"
      ]
     },
     "metadata": {
      "needs_background": "light"
     },
     "output_type": "display_data"
    }
   ],
   "source": [
    "weights_vp(sigmoid_model3, att=\"grad\")\n",
    "\n",
    "# 第一层出现了明显的梯度消失"
   ]
  },
  {
   "cell_type": "code",
   "execution_count": 55,
   "metadata": {},
   "outputs": [
    {
     "data": {
      "image/png": "[encoded data removed]",
      "text/plain": [
       "<Figure size 432x288 with 1 Axes>"
      ]
     },
     "metadata": {
      "needs_background": "light"
     },
     "output_type": "display_data"
    }
   ],
   "source": [
    "weights_vp(sigmoid_model3_init, att=\"grad\")"
   ]
  },
  {
   "cell_type": "markdown",
   "metadata": {},
   "source": [
    "我们发现，在num_epochs取值为2的时候（只迭代了一轮），经过Xavier初始化的模型梯度整体更加稳定，并且没有出现梯度消失的情况，反观原始模型sigmoid_model2，第一层的梯度已经非常小了，已经出现了梯度消失的倾向。"
   ]
  },
  {
   "cell_type": "code",
   "execution_count": 56,
   "metadata": {},
   "outputs": [],
   "source": [
    "#————————————————————————————增加迭代轮数————————————————————————————\n",
    "train_l, test_l = model_comparison(model_l = model_l, \n",
    "                                   name_l = name_l, \n",
    "                                   train_data = train_loader,\n",
    "                                   test_data = test_loader,\n",
    "                                   num_epochs = num_epochs, \n",
    "                                   criterion = nn.MSELoss(), \n",
    "                                   optimizer = optim.SGD, \n",
    "                                   lr = lr, \n",
    "                                   cla = False, \n",
    "                                   eva = mse_cal)"
   ]
  },
  {
   "cell_type": "code",
   "execution_count": 57,
   "metadata": {},
   "outputs": [
    {
     "data": {
      "text/plain": [
       "[<matplotlib.lines.Line2D at 0x2d54e31a530>]"
      ]
     },
     "execution_count": 57,
     "metadata": {},
     "output_type": "execute_result"
    },
    {
     "data": {
      "text/plain": [
       "[<matplotlib.lines.Line2D at 0x2d54e31a950>]"
      ]
     },
     "execution_count": 57,
     "metadata": {},
     "output_type": "execute_result"
    },
    {
     "data": {
      "text/plain": [
       "<matplotlib.legend.Legend at 0x2d54e327820>"
      ]
     },
     "execution_count": 57,
     "metadata": {},
     "output_type": "execute_result"
    },
    {
     "data": {
      "text/plain": [
       "Text(0.5, 1.0, 'mse_train')"
      ]
     },
     "execution_count": 57,
     "metadata": {},
     "output_type": "execute_result"
    },
    {
     "data": {
      "image/png": "[encoded data removed]",
      "text/plain": [
       "<Figure size 432x288 with 1 Axes>"
      ]
     },
     "metadata": {
      "needs_background": "light"
     },
     "output_type": "display_data"
    }
   ],
   "source": [
    "# 训练误差\n",
    "for i, name in enumerate(name_l):\n",
    "    plt.plot(list(range(num_epochs)), train_l[i], label=name)\n",
    "plt.legend(loc = 1)\n",
    "plt.title('mse_train')"
   ]
  },
  {
   "cell_type": "code",
   "execution_count": 58,
   "metadata": {},
   "outputs": [
    {
     "data": {
      "text/plain": [
       "[<matplotlib.lines.Line2D at 0x2d5494af430>]"
      ]
     },
     "execution_count": 58,
     "metadata": {},
     "output_type": "execute_result"
    },
    {
     "data": {
      "text/plain": [
       "[<matplotlib.lines.Line2D at 0x2d5494af850>]"
      ]
     },
     "execution_count": 58,
     "metadata": {},
     "output_type": "execute_result"
    },
    {
     "data": {
      "text/plain": [
       "<matplotlib.legend.Legend at 0x2d54e32a560>"
      ]
     },
     "execution_count": 58,
     "metadata": {},
     "output_type": "execute_result"
    },
    {
     "data": {
      "text/plain": [
       "Text(0.5, 1.0, 'mse_test')"
      ]
     },
     "execution_count": 58,
     "metadata": {},
     "output_type": "execute_result"
    },
    {
     "data": {
      "image/png": "[encoded data removed]",
      "text/plain": [
       "<Figure size 432x288 with 1 Axes>"
      ]
     },
     "metadata": {
      "needs_background": "light"
     },
     "output_type": "display_data"
    }
   ],
   "source": [
    "# 测试误差\n",
    "for i, name in enumerate(name_l):\n",
    "    plt.plot(list(range(num_epochs)), test_l[i], label=name)\n",
    "plt.legend(loc = 1)\n",
    "plt.title('mse_test')"
   ]
  },
  {
   "cell_type": "markdown",
   "metadata": {},
   "source": [
    "&emsp;&emsp;由此我们可知，Xavier初始化的作用核心在于保证各层梯度取值的平稳分布，从而确保各层模型学习的有效性，最终在模型结果的表现上。\n",
    "\n",
    "- Xavier初始化参数的模型学习效率更高、收敛速度更快"
   ]
  },
  {
   "cell_type": "markdown",
   "metadata": {},
   "source": [
    "&emsp;&emsp;当然，在一些极端情况下，Xavier初始化效果会更加明显。我们以四层sigmoid隐藏层的神经网络为例，观察Xavier初始化在规避梯度消失问题时的效果。"
   ]
  },
  {
   "cell_type": "code",
   "execution_count": 59,
   "metadata": {},
   "outputs": [
    {
     "data": {
      "text/plain": [
       "<torch._C.Generator at 0x2d53b60efd0>"
      ]
     },
     "execution_count": 59,
     "metadata": {},
     "output_type": "execute_result"
    },
    {
     "data": {
      "text/plain": [
       "Parameter containing:\n",
       "tensor([[ 0.8858,  0.6076],\n",
       "        [ 0.7526,  0.3184],\n",
       "        [-0.2945,  0.9237],\n",
       "        [ 0.7596, -0.6387]], requires_grad=True)"
      ]
     },
     "execution_count": 59,
     "metadata": {},
     "output_type": "execute_result"
    },
    {
     "data": {
      "text/plain": [
       "Parameter containing:\n",
       "tensor([[-0.0020, -0.2599, -0.8290,  0.0234],\n",
       "        [-0.5126, -0.1948, -0.2230,  0.7317],\n",
       "        [ 0.3355, -0.7767,  0.4933,  0.5650],\n",
       "        [ 0.3391,  0.3513,  0.3385,  0.0232]], requires_grad=True)"
      ]
     },
     "execution_count": 59,
     "metadata": {},
     "output_type": "execute_result"
    },
    {
     "data": {
      "text/plain": [
       "Parameter containing:\n",
       "tensor([[-0.7911, -0.4265,  0.5541,  0.2841],\n",
       "        [ 0.6846,  0.2079,  0.8334, -0.3973],\n",
       "        [-0.4116,  0.3072, -0.4335,  0.3472],\n",
       "        [ 0.0940, -0.3414,  0.2058,  0.8155]], requires_grad=True)"
      ]
     },
     "execution_count": 59,
     "metadata": {},
     "output_type": "execute_result"
    },
    {
     "data": {
      "text/plain": [
       "Parameter containing:\n",
       "tensor([[ 0.4660, -0.8182,  0.3571,  0.5147],\n",
       "        [ 0.6018, -0.2091,  0.7026,  0.6874],\n",
       "        [-0.0111, -0.1543,  0.6806,  0.1008],\n",
       "        [ 0.3697,  0.0858,  0.4200, -0.2422]], requires_grad=True)"
      ]
     },
     "execution_count": 59,
     "metadata": {},
     "output_type": "execute_result"
    },
    {
     "data": {
      "text/plain": [
       "Parameter containing:\n",
       "tensor([[-0.6746,  0.9178,  0.5031,  0.2799]], requires_grad=True)"
      ]
     },
     "execution_count": 59,
     "metadata": {},
     "output_type": "execute_result"
    }
   ],
   "source": [
    "#————————————————————————————4个隐藏层的sigmoid的情况————————————————————————————\n",
    "\n",
    "# 设置随机数种子\n",
    "torch.manual_seed(24)  \n",
    "\n",
    "# 实例化模型\n",
    "sigmoid_model4 = Sigmoid_class4()                   # 保留原参数\n",
    "sigmoid_model4_init = Sigmoid_class4()              # 使用Xavier初始化参数\n",
    "\n",
    "# 修改init模型初始参数\n",
    "for m in sigmoid_model4_init.modules():\n",
    "    if isinstance(m, nn.Linear):\n",
    "        nn.init.xavier_uniform_(m.weight)\n",
    "        \n",
    "# 创建模型容器\n",
    "model_l = [sigmoid_model4, sigmoid_model4_init]           \n",
    "name_l = ['sigmoid_model4', 'sigmoid_model4_init']\n",
    "\n",
    "# 核心参数\n",
    "lr = 0.03\n",
    "num_epochs = 40\n",
    "\n",
    "# 模型训练\n",
    "train_l, test_l = model_comparison(model_l = model_l, \n",
    "                                   name_l = name_l, \n",
    "                                   train_data = train_loader,\n",
    "                                   test_data = test_loader,\n",
    "                                   num_epochs = num_epochs, \n",
    "                                   criterion = nn.MSELoss(), \n",
    "                                   optimizer = optim.SGD, \n",
    "                                   lr = lr, \n",
    "                                   cla = False, \n",
    "                                   eva = mse_cal)"
   ]
  },
  {
   "cell_type": "code",
   "execution_count": 60,
   "metadata": {},
   "outputs": [
    {
     "data": {
      "text/plain": [
       "[<matplotlib.lines.Line2D at 0x2d54a1b6d70>]"
      ]
     },
     "execution_count": 60,
     "metadata": {},
     "output_type": "execute_result"
    },
    {
     "data": {
      "text/plain": [
       "[<matplotlib.lines.Line2D at 0x2d54a1b7040>]"
      ]
     },
     "execution_count": 60,
     "metadata": {},
     "output_type": "execute_result"
    },
    {
     "data": {
      "text/plain": [
       "<matplotlib.legend.Legend at 0x2d5494898d0>"
      ]
     },
     "execution_count": 60,
     "metadata": {},
     "output_type": "execute_result"
    },
    {
     "data": {
      "text/plain": [
       "Text(0.5, 1.0, 'mse_train')"
      ]
     },
     "execution_count": 60,
     "metadata": {},
     "output_type": "execute_result"
    },
    {
     "data": {
      "image/png": "[encoded data removed]",
      "text/plain": [
       "<Figure size 432x288 with 1 Axes>"
      ]
     },
     "metadata": {
      "needs_background": "light"
     },
     "output_type": "display_data"
    }
   ],
   "source": [
    "# 训练误差\n",
    "for i, name in enumerate(name_l):\n",
    "    plt.plot(list(range(num_epochs)), train_l[i], label=name)\n",
    "plt.legend(loc = 1)\n",
    "plt.title('mse_train')"
   ]
  },
  {
   "cell_type": "code",
   "execution_count": 61,
   "metadata": {},
   "outputs": [
    {
     "data": {
      "text/plain": [
       "[<matplotlib.lines.Line2D at 0x2d54e2cce20>]"
      ]
     },
     "execution_count": 61,
     "metadata": {},
     "output_type": "execute_result"
    },
    {
     "data": {
      "text/plain": [
       "[<matplotlib.lines.Line2D at 0x2d54a1e6320>]"
      ]
     },
     "execution_count": 61,
     "metadata": {},
     "output_type": "execute_result"
    },
    {
     "data": {
      "text/plain": [
       "<matplotlib.legend.Legend at 0x2d54a1b4070>"
      ]
     },
     "execution_count": 61,
     "metadata": {},
     "output_type": "execute_result"
    },
    {
     "data": {
      "text/plain": [
       "Text(0.5, 1.0, 'mse_test')"
      ]
     },
     "execution_count": 61,
     "metadata": {},
     "output_type": "execute_result"
    },
    {
     "data": {
      "image/png": "[encoded data removed]",
      "text/plain": [
       "<Figure size 432x288 with 1 Axes>"
      ]
     },
     "metadata": {
      "needs_background": "light"
     },
     "output_type": "display_data"
    }
   ],
   "source": [
    "# 测试误差\n",
    "for i, name in enumerate(name_l):\n",
    "    plt.plot(list(range(num_epochs)), test_l[i], label=name)\n",
    "plt.legend(loc = 1)\n",
    "plt.title('mse_test')"
   ]
  },
  {
   "cell_type": "markdown",
   "metadata": {},
   "source": [
    "sigmoid_model4是Lesson 13.2中出现严重梯度消失的模型，由于前几层基本丧失学习能力，sigmoid_model4本身效果并不好。但加入Xavier初始化之后，我们发现，init模型能够极大程度规避梯度消失问题，从而获得更好的效果。\n"
   ]
  },
  {
   "cell_type": "markdown",
   "metadata": {},
   "source": [
    "- tanh激活函数\n",
    "\n",
    "不过正如此前所说，相比于sigmoid激活函数，Xavier初始化方法更适用于tanh激活函数，核心原因在于tanh激活函数本身能够生成Zero-centered Data，配合Xavier初始化生成的参数，能够更好的确保各层梯度平稳、确保各层平稳学习。\n",
    "\n",
    "我们以三层tanh激活函数隐藏层的神经网络为例，测试Xavier初始化效果。"
   ]
  },
  {
   "cell_type": "code",
   "execution_count": 64,
   "metadata": {},
   "outputs": [
    {
     "data": {
      "text/plain": [
       "<torch._C.Generator at 0x2d53b60efd0>"
      ]
     },
     "execution_count": 64,
     "metadata": {},
     "output_type": "execute_result"
    }
   ],
   "source": [
    "# 设置随机数种子\n",
    "torch.manual_seed(420)  \n",
    "\n",
    "# 创建最高项为2的多项式回归数据集\n",
    "features, labels = tensorGenReg(w=[2, -1], bias=False, deg=2)\n",
    "\n",
    "# 进行数据集切分与加载\n",
    "train_loader, test_loader = split_loader(features, labels)"
   ]
  },
  {
   "cell_type": "code",
   "execution_count": 65,
   "metadata": {},
   "outputs": [
    {
     "data": {
      "text/plain": [
       "<torch._C.Generator at 0x2d53b60efd0>"
      ]
     },
     "execution_count": 65,
     "metadata": {},
     "output_type": "execute_result"
    }
   ],
   "source": [
    "# 设置随机数种子\n",
    "torch.manual_seed(420)  \n",
    "\n",
    "# 实例化模型\n",
    "tanh_model3 = tanh_class3()                   # 保留原参数\n",
    "tanh_model3_init = tanh_class3()              # 使用Xavier初始化参数"
   ]
  },
  {
   "cell_type": "code",
   "execution_count": 66,
   "metadata": {},
   "outputs": [
    {
     "data": {
      "text/plain": [
       "<torch._C.Generator at 0x2d53b60efd0>"
      ]
     },
     "execution_count": 66,
     "metadata": {},
     "output_type": "execute_result"
    },
    {
     "data": {
      "text/plain": [
       "Parameter containing:\n",
       "tensor([[ 0.6107, -0.6019],\n",
       "        [ 0.9517, -0.7944],\n",
       "        [-0.3051, -0.6891],\n",
       "        [ 0.7712,  0.3751]], requires_grad=True)"
      ]
     },
     "execution_count": 66,
     "metadata": {},
     "output_type": "execute_result"
    },
    {
     "data": {
      "text/plain": [
       "Parameter containing:\n",
       "tensor([[-0.4319, -0.6698, -0.5014, -0.1671],\n",
       "        [-0.4420,  0.6311, -0.3644, -0.5666],\n",
       "        [-0.2672, -0.8457, -0.4206, -0.4725],\n",
       "        [ 0.1864,  0.7043,  0.0935, -0.5047]], requires_grad=True)"
      ]
     },
     "execution_count": 66,
     "metadata": {},
     "output_type": "execute_result"
    },
    {
     "data": {
      "text/plain": [
       "Parameter containing:\n",
       "tensor([[ 0.3565, -0.3687, -0.4099, -0.1660],\n",
       "        [-0.4519,  0.0952,  0.7030,  0.1181],\n",
       "        [ 0.5231, -0.7523, -0.6813, -0.1152],\n",
       "        [ 0.0008,  0.5406, -0.7617,  0.3613]], requires_grad=True)"
      ]
     },
     "execution_count": 66,
     "metadata": {},
     "output_type": "execute_result"
    },
    {
     "data": {
      "text/plain": [
       "Parameter containing:\n",
       "tensor([[-0.9402,  0.1767,  0.7240,  0.1511]], requires_grad=True)"
      ]
     },
     "execution_count": 66,
     "metadata": {},
     "output_type": "execute_result"
    }
   ],
   "source": [
    "# 设置随机数种子\n",
    "torch.manual_seed(420)  \n",
    "\n",
    "# 修改init模型初始参数\n",
    "for m in tanh_model3_init.modules():\n",
    "    if isinstance(m, nn.Linear):\n",
    "        nn.init.xavier_uniform_(m.weight)\n",
    "        \n",
    "# 创建模型容器\n",
    "model_l = [tanh_model3, tanh_model3_init]           \n",
    "name_l = ['tanh_model3', 'tanh_model3_init']\n",
    "\n",
    "# 核心参数\n",
    "lr = 0.03\n",
    "num_epochs = 20"
   ]
  },
  {
   "cell_type": "code",
   "execution_count": 67,
   "metadata": {},
   "outputs": [],
   "source": [
    "# 模型训练\n",
    "train_l, test_l = model_comparison(model_l = model_l, \n",
    "                                   name_l = name_l, \n",
    "                                   train_data = train_loader,\n",
    "                                   test_data = test_loader,\n",
    "                                   num_epochs = 2, \n",
    "                                   criterion = nn.MSELoss(), \n",
    "                                   optimizer = optim.SGD, \n",
    "                                   lr = lr, \n",
    "                                   cla = False, \n",
    "                                   eva = mse_cal)"
   ]
  },
  {
   "cell_type": "code",
   "execution_count": 68,
   "metadata": {},
   "outputs": [
    {
     "data": {
      "image/png": "[encoded data removed]",
      "text/plain": [
       "<Figure size 432x288 with 1 Axes>"
      ]
     },
     "metadata": {
      "needs_background": "light"
     },
     "output_type": "display_data"
    }
   ],
   "source": [
    "weights_vp(tanh_model3, att=\"grad\")\n",
    "\n",
    "# 层间梯度不均衡"
   ]
  },
  {
   "cell_type": "code",
   "execution_count": 69,
   "metadata": {},
   "outputs": [
    {
     "data": {
      "image/png": "[encoded data removed]",
      "text/plain": [
       "<Figure size 432x288 with 1 Axes>"
      ]
     },
     "metadata": {
      "needs_background": "light"
     },
     "output_type": "display_data"
    }
   ],
   "source": [
    "weights_vp(tanh_model3_init, att=\"grad\")"
   ]
  },
  {
   "cell_type": "code",
   "execution_count": 70,
   "metadata": {},
   "outputs": [
    {
     "data": {
      "text/plain": [
       "<torch._C.Generator at 0x2d53b60efd0>"
      ]
     },
     "execution_count": 70,
     "metadata": {},
     "output_type": "execute_result"
    },
    {
     "data": {
      "text/plain": [
       "Parameter containing:\n",
       "tensor([[ 0.7995, -0.2561],\n",
       "        [-0.1097, -0.0529],\n",
       "        [-0.8137,  0.8860],\n",
       "        [-0.0984,  0.9770]], requires_grad=True)"
      ]
     },
     "execution_count": 70,
     "metadata": {},
     "output_type": "execute_result"
    },
    {
     "data": {
      "text/plain": [
       "Parameter containing:\n",
       "tensor([[ 0.7130,  0.3764, -0.0196, -0.0096],\n",
       "        [ 0.0199, -0.8417, -0.2067, -0.4007],\n",
       "        [-0.0515,  0.1059, -0.6787,  0.6582],\n",
       "        [ 0.7072,  0.5386,  0.3889,  0.1370]], requires_grad=True)"
      ]
     },
     "execution_count": 70,
     "metadata": {},
     "output_type": "execute_result"
    },
    {
     "data": {
      "text/plain": [
       "Parameter containing:\n",
       "tensor([[-0.6241,  0.3488,  0.3069,  0.8371],\n",
       "        [-0.8167,  0.7516,  0.6801,  0.1606],\n",
       "        [ 0.2885,  0.1036, -0.0692,  0.1744],\n",
       "        [ 0.5015,  0.0987, -0.0787, -0.0286]], requires_grad=True)"
      ]
     },
     "execution_count": 70,
     "metadata": {},
     "output_type": "execute_result"
    },
    {
     "data": {
      "text/plain": [
       "Parameter containing:\n",
       "tensor([[-0.8437, -0.5244,  0.8917,  0.0646]], requires_grad=True)"
      ]
     },
     "execution_count": 70,
     "metadata": {},
     "output_type": "execute_result"
    }
   ],
   "source": [
    "# 设置随机数种子\n",
    "torch.manual_seed(420)  \n",
    "\n",
    "# 实例化模型\n",
    "tanh_model3 = tanh_class3()                   # 保留原参数\n",
    "tanh_model3_init = tanh_class3()              # 使用Xavier初始化参数\n",
    "\n",
    "# 修改init模型初始参数\n",
    "for m in tanh_model3_init.modules():\n",
    "    if isinstance(m, nn.Linear):\n",
    "        nn.init.xavier_uniform_(m.weight)\n",
    "        \n",
    "# 创建模型容器\n",
    "model_l = [tanh_model3, tanh_model3_init]           \n",
    "name_l = ['tanh_model3', 'tanh_model3_init']\n",
    "\n",
    "# 核心参数\n",
    "lr = 0.03\n",
    "num_epochs = 40\n",
    "\n",
    "# 模型训练\n",
    "train_l, test_l = model_comparison(model_l = model_l, \n",
    "                                   name_l = name_l, \n",
    "                                   train_data = train_loader,\n",
    "                                   test_data = test_loader,\n",
    "                                   num_epochs = num_epochs, \n",
    "                                   criterion = nn.MSELoss(), \n",
    "                                   optimizer = optim.SGD, \n",
    "                                   lr = lr, \n",
    "                                   cla = False, \n",
    "                                   eva = mse_cal)"
   ]
  },
  {
   "cell_type": "code",
   "execution_count": 71,
   "metadata": {},
   "outputs": [
    {
     "data": {
      "text/plain": [
       "[<matplotlib.lines.Line2D at 0x2d54f88e650>]"
      ]
     },
     "execution_count": 71,
     "metadata": {},
     "output_type": "execute_result"
    },
    {
     "data": {
      "text/plain": [
       "[<matplotlib.lines.Line2D at 0x2d54f839930>]"
      ]
     },
     "execution_count": 71,
     "metadata": {},
     "output_type": "execute_result"
    },
    {
     "data": {
      "text/plain": [
       "<matplotlib.legend.Legend at 0x2d54f88df60>"
      ]
     },
     "execution_count": 71,
     "metadata": {},
     "output_type": "execute_result"
    },
    {
     "data": {
      "text/plain": [
       "Text(0.5, 1.0, 'mse_train')"
      ]
     },
     "execution_count": 71,
     "metadata": {},
     "output_type": "execute_result"
    },
    {
     "data": {
      "image/png": "[encoded data removed]",
      "text/plain": [
       "<Figure size 432x288 with 1 Axes>"
      ]
     },
     "metadata": {
      "needs_background": "light"
     },
     "output_type": "display_data"
    }
   ],
   "source": [
    "# 训练误差\n",
    "for i, name in enumerate(name_l):\n",
    "    plt.plot(list(range(num_epochs)), train_l[i], label=name)\n",
    "plt.legend(loc = 1)\n",
    "plt.title('mse_train')"
   ]
  },
  {
   "cell_type": "code",
   "execution_count": 72,
   "metadata": {},
   "outputs": [
    {
     "data": {
      "text/plain": [
       "[<matplotlib.lines.Line2D at 0x2d549ea6230>]"
      ]
     },
     "execution_count": 72,
     "metadata": {},
     "output_type": "execute_result"
    },
    {
     "data": {
      "text/plain": [
       "[<matplotlib.lines.Line2D at 0x2d549ea4d00>]"
      ]
     },
     "execution_count": 72,
     "metadata": {},
     "output_type": "execute_result"
    },
    {
     "data": {
      "text/plain": [
       "<matplotlib.legend.Legend at 0x2d54f85e920>"
      ]
     },
     "execution_count": 72,
     "metadata": {},
     "output_type": "execute_result"
    },
    {
     "data": {
      "text/plain": [
       "Text(0.5, 1.0, 'mse_test')"
      ]
     },
     "execution_count": 72,
     "metadata": {},
     "output_type": "execute_result"
    },
    {
     "data": {
      "image/png": "[encoded data removed]",
      "text/plain": [
       "<Figure size 432x288 with 1 Axes>"
      ]
     },
     "metadata": {
      "needs_background": "light"
     },
     "output_type": "display_data"
    }
   ],
   "source": [
    "# 测试误差\n",
    "for i, name in enumerate(name_l):\n",
    "    plt.plot(list(range(num_epochs)), test_l[i], label=name)\n",
    "plt.legend(loc = 1)\n",
    "plt.title('mse_test')"
   ]
  },
  {
   "cell_type": "markdown",
   "metadata": {},
   "source": [
    "同样，能够看出经过Xavier参数初始化后的模型梯度更加平稳，进而我们判断，经过初始化之后的模型初始迭代时收敛速度更快"
   ]
  },
  {
   "cell_type": "markdown",
   "metadata": {},
   "source": [
    "#### 2.2 PyTorch实现Xavier高斯分布的参数创建\n",
    "\n",
    "用`torch.nn.init.xavier_normal_`进行初始化参数设置。"
   ]
  },
  {
   "cell_type": "code",
   "execution_count": 73,
   "metadata": {},
   "outputs": [
    {
     "name": "stdout",
     "output_type": "stream",
     "text": [
      "\u001b[1;31mSignature:\u001b[0m \u001b[0mtorch\u001b[0m\u001b[1;33m.\u001b[0m\u001b[0mnn\u001b[0m\u001b[1;33m.\u001b[0m\u001b[0minit\u001b[0m\u001b[1;33m.\u001b[0m\u001b[0mxavier_normal_\u001b[0m\u001b[1;33m(\u001b[0m\u001b[0mtensor\u001b[0m\u001b[1;33m:\u001b[0m \u001b[0mtorch\u001b[0m\u001b[1;33m.\u001b[0m\u001b[0mTensor\u001b[0m\u001b[1;33m,\u001b[0m \u001b[0mgain\u001b[0m\u001b[1;33m:\u001b[0m \u001b[0mfloat\u001b[0m \u001b[1;33m=\u001b[0m \u001b[1;36m1.0\u001b[0m\u001b[1;33m)\u001b[0m \u001b[1;33m->\u001b[0m \u001b[0mtorch\u001b[0m\u001b[1;33m.\u001b[0m\u001b[0mTensor\u001b[0m\u001b[1;33m\u001b[0m\u001b[1;33m\u001b[0m\u001b[0m\n",
      "\u001b[1;31mDocstring:\u001b[0m\n",
      "Fills the input `Tensor` with values according to the method\n",
      "described in `Understanding the difficulty of training deep feedforward\n",
      "neural networks` - Glorot, X. & Bengio, Y. (2010), using a normal\n",
      "distribution. The resulting tensor will have values sampled from\n",
      ":math:`\\mathcal{N}(0, \\text{std}^2)` where\n",
      "\n",
      ".. math::\n",
      "    \\text{std} = \\text{gain} \\times \\sqrt{\\frac{2}{\\text{fan\\_in} + \\text{fan\\_out}}}\n",
      "\n",
      "Also known as Glorot initialization.\n",
      "\n",
      "Args:\n",
      "    tensor: an n-dimensional `torch.Tensor`\n",
      "    gain: an optional scaling factor\n",
      "\n",
      "Examples:\n",
      "    >>> w = torch.empty(3, 5)\n",
      "    >>> nn.init.xavier_normal_(w)\n",
      "\u001b[1;31mFile:\u001b[0m      c:\\users\\hp\\python\\python310\\lib\\site-packages\\torch\\nn\\init.py\n",
      "\u001b[1;31mType:\u001b[0m      function\n"
     ]
    }
   ],
   "source": [
    "torch.nn.init.xavier_normal_?"
   ]
  },
  {
   "cell_type": "markdown",
   "metadata": {},
   "source": [
    "$$\\text{std} = \\text{gain} \\times \\sqrt{\\frac{2}{\\text{fan\\_in} + \\text{fan\\_out}}}$$\n",
    "\n",
    "当然，修改参数的方法也是相同的，例如:"
   ]
  },
  {
   "cell_type": "code",
   "execution_count": 75,
   "metadata": {},
   "outputs": [
    {
     "data": {
      "text/plain": [
       "Parameter containing:\n",
       "tensor([[-0.0735, -0.0941],\n",
       "        [-0.1332, -0.9259],\n",
       "        [ 0.2803, -0.3529],\n",
       "        [-0.1686,  0.8779]], requires_grad=True)"
      ]
     },
     "execution_count": 75,
     "metadata": {},
     "output_type": "execute_result"
    },
    {
     "data": {
      "text/plain": [
       "Parameter containing:\n",
       "tensor([[-0.8206,  0.2159, -0.9876, -0.0095],\n",
       "        [-0.1434,  0.5362, -0.3858,  0.0785],\n",
       "        [-0.0542,  0.5039,  0.9254,  0.6225],\n",
       "        [-0.6864,  0.1003,  0.4815, -0.8140]], requires_grad=True)"
      ]
     },
     "execution_count": 75,
     "metadata": {},
     "output_type": "execute_result"
    },
    {
     "data": {
      "text/plain": [
       "Parameter containing:\n",
       "tensor([[-0.7034,  0.4468, -0.4812, -0.4097]], requires_grad=True)"
      ]
     },
     "execution_count": 75,
     "metadata": {},
     "output_type": "execute_result"
    }
   ],
   "source": [
    "#————————————————————————————torch.nn.init.xavier_normal_进行初始化参数设置。————————————————————————————\n",
    "\n",
    "# 实例化模型\n",
    "sigmoid_model2 = Sigmoid_class2()                  \n",
    "\n",
    "# 修改init模型初始参数\n",
    "for m in sigmoid_model2.modules():\n",
    "    if isinstance(m, nn.Linear):\n",
    "        nn.init.xavier_normal_(m.weight)"
   ]
  },
  {
   "cell_type": "markdown",
   "metadata": {},
   "source": [
    "其他测试初始化效果的相关实验和此前操作流程一致。\n",
    "\n",
    "从理论上来说，均匀分布和高斯分布并没有根本性区别，二者任选其一使用即可。不过也有一些不是很严谨的实验证明了均匀分布比高斯分布能够产生相对较大的梯度，因而模型学习效果会更好。"
   ]
  },
  {
   "cell_type": "markdown",
   "metadata": {},
   "source": [
    "## 二、Kaiming方法（HE初始化）\n",
    "\n",
    "### 1.HE初始化基础理论\n",
    "\n",
    "&emsp;&emsp;尽管Xavier初始化能够在Sigmoid和tanh激活函数叠加的神经网络中起到一定的效果，但由于ReLU激活函数属于非饱和类激活函数，并不会出现类似Sigmoid和tanh激活函数使用过程中可能存在的梯度消失或梯度爆炸问题，反而因为ReLU激活函数的不饱和特性，ReLU激活函数的叠加极有可能出现神经元活性消失的问题，很明显，该类问题无法通过Xavier初始化解决。\n",
    "\n",
    "&emsp;&emsp;当然，He初始化也遵循Glorot条件，即参数初始化结果要求正向传播时各层接收到的数据方差保持一致、反向传播时各层参数梯度的方差保持一致。\n",
    "\n",
    "当然，根据参数方差，我们就能确定参数满足均匀分布时的边界，以及满足高斯分布时的基本形态。均匀分布时$bound = \\sqrt{3var}$，因此参数分布区间为:$$(-\\sqrt{\\frac{6}{fan_{in}}}, \\sqrt{\\frac{6}{fan_{in}}})$$"
   ]
  },
  {
   "cell_type": "markdown",
   "metadata": {},
   "source": [
    "### 2.HE初始化在PyTorch中实现\n",
    "\n",
    "#### 2.1 PyTorch实现HE初始化的均匀分布参数创建\n",
    "\n",
    "我们可以使用`torch.nn.init.kaiming_uniform_`进行初始化参数设置。"
   ]
  },
  {
   "cell_type": "code",
   "execution_count": 76,
   "metadata": {},
   "outputs": [
    {
     "name": "stdout",
     "output_type": "stream",
     "text": [
      "\u001b[1;31mSignature:\u001b[0m\n",
      "\u001b[0mnn\u001b[0m\u001b[1;33m.\u001b[0m\u001b[0minit\u001b[0m\u001b[1;33m.\u001b[0m\u001b[0mkaiming_uniform_\u001b[0m\u001b[1;33m(\u001b[0m\u001b[1;33m\n",
      "\u001b[0m    \u001b[0mtensor\u001b[0m\u001b[1;33m:\u001b[0m \u001b[0mtorch\u001b[0m\u001b[1;33m.\u001b[0m\u001b[0mTensor\u001b[0m\u001b[1;33m,\u001b[0m\u001b[1;33m\n",
      "\u001b[0m    \u001b[0ma\u001b[0m\u001b[1;33m:\u001b[0m \u001b[0mfloat\u001b[0m \u001b[1;33m=\u001b[0m \u001b[1;36m0\u001b[0m\u001b[1;33m,\u001b[0m\u001b[1;33m\n",
      "\u001b[0m    \u001b[0mmode\u001b[0m\u001b[1;33m:\u001b[0m \u001b[0mstr\u001b[0m \u001b[1;33m=\u001b[0m \u001b[1;34m'fan_in'\u001b[0m\u001b[1;33m,\u001b[0m\u001b[1;33m\n",
      "\u001b[0m    \u001b[0mnonlinearity\u001b[0m\u001b[1;33m:\u001b[0m \u001b[0mstr\u001b[0m \u001b[1;33m=\u001b[0m \u001b[1;34m'leaky_relu'\u001b[0m\u001b[1;33m,\u001b[0m\u001b[1;33m\n",
      "\u001b[0m\u001b[1;33m)\u001b[0m\u001b[1;33m\u001b[0m\u001b[1;33m\u001b[0m\u001b[0m\n",
      "\u001b[1;31mDocstring:\u001b[0m\n",
      "Fills the input `Tensor` with values according to the method\n",
      "described in `Delving deep into rectifiers: Surpassing human-level\n",
      "performance on ImageNet classification` - He, K. et al. (2015), using a\n",
      "uniform distribution. The resulting tensor will have values sampled from\n",
      ":math:`\\mathcal{U}(-\\text{bound}, \\text{bound})` where\n",
      "\n",
      ".. math::\n",
      "    \\text{bound} = \\text{gain} \\times \\sqrt{\\frac{3}{\\text{fan\\_mode}}}\n",
      "\n",
      "Also known as He initialization.\n",
      "\n",
      "Args:\n",
      "    tensor: an n-dimensional `torch.Tensor`\n",
      "    a: the negative slope of the rectifier used after this layer (only\n",
      "        used with ``'leaky_relu'``)\n",
      "    mode: either ``'fan_in'`` (default) or ``'fan_out'``. Choosing ``'fan_in'``\n",
      "        preserves the magnitude of the variance of the weights in the\n",
      "        forward pass. Choosing ``'fan_out'`` preserves the magnitudes in the\n",
      "        backwards pass.\n",
      "    nonlinearity: the non-linear function (`nn.functional` name),\n",
      "        recommended to use only with ``'relu'`` or ``'leaky_relu'`` (default).\n",
      "\n",
      "Examples:\n",
      "    >>> w = torch.empty(3, 5)\n",
      "    >>> nn.init.kaiming_uniform_(w, mode='fan_in', nonlinearity='relu')\n",
      "\u001b[1;31mFile:\u001b[0m      c:\\users\\hp\\python\\python310\\lib\\site-packages\\torch\\nn\\init.py\n",
      "\u001b[1;31mType:\u001b[0m      function\n"
     ]
    }
   ],
   "source": [
    "nn.init.kaiming_uniform_?"
   ]
  },
  {
   "cell_type": "markdown",
   "metadata": {},
   "source": [
    "相关参数解释:\n",
    "- mode：参数表示选择带入扇入还是扇出的神经元个数进行计算，正如前文所说，理论上二者对建模没有明显影响，可任选其一，但实际由于模型个体差异，在实际使用过程中还是略有差异，我们可以根据实际效果进行选择；\n",
    "- a：为使用ReLU变种激活函数时的修正系数；\n",
    "- nonlinearity：表示所选用的变种ReLU激活函数类型，需要配合a参数使用，相关使用方法我们将在后续介绍ReLU变种激活函数的使用时一并介绍。\n",
    "\n",
    "$$bound = \\sqrt{\\frac{6}{(1+a^2)fan_{in}}}$$\n",
    "\n",
    "和Xavier方法一样，kaiming方法直接对张量的值进行修改，并且张量列数表示$fan_{in}$的个数，行数表示$fan_{out}$的个数，据此，我们简单测试下公式正确性。"
   ]
  },
  {
   "cell_type": "code",
   "execution_count": 77,
   "metadata": {},
   "outputs": [
    {
     "data": {
      "text/plain": [
       "tensor([[ 0.,  1.,  2.,  3.,  4.,  5.],\n",
       "        [ 6.,  7.,  8.,  9., 10., 11.]])"
      ]
     },
     "execution_count": 77,
     "metadata": {},
     "output_type": "execute_result"
    }
   ],
   "source": [
    "t = torch.arange(12).reshape(2, 6).float()\n",
    "t\n",
    "\n",
    "# 2是fan_out\n",
    "# 6是fan_in"
   ]
  },
  {
   "cell_type": "code",
   "execution_count": 78,
   "metadata": {},
   "outputs": [
    {
     "data": {
      "text/plain": [
       "<torch._C.Generator at 0x2d53b60efd0>"
      ]
     },
     "execution_count": 78,
     "metadata": {},
     "output_type": "execute_result"
    },
    {
     "data": {
      "text/plain": [
       "tensor([[ 0.6107, -0.6019,  0.9517, -0.7944, -0.3051, -0.6891],\n",
       "        [ 0.7712,  0.3751, -0.4988, -0.7734, -0.5790, -0.1929]])"
      ]
     },
     "execution_count": 78,
     "metadata": {},
     "output_type": "execute_result"
    }
   ],
   "source": [
    "#————————————————————————————kaiming_uniform_()————————————————————————————\n",
    "# 设置随机数种子\n",
    "torch.manual_seed(420)  \n",
    "torch.nn.init.kaiming_uniform_(t)         # 此时扇入个数是6"
   ]
  },
  {
   "cell_type": "code",
   "execution_count": 79,
   "metadata": {},
   "outputs": [
    {
     "data": {
      "text/plain": [
       "<torch._C.Generator at 0x2d53b60efd0>"
      ]
     },
     "execution_count": 79,
     "metadata": {},
     "output_type": "execute_result"
    },
    {
     "data": {
      "text/plain": [
       "tensor([[ 0.4318, -0.4256,  0.6730, -0.5617, -0.2157, -0.4873],\n",
       "        [ 0.5453,  0.2653, -0.3527, -0.5469, -0.4094, -0.1364]])"
      ]
     },
     "execution_count": 79,
     "metadata": {},
     "output_type": "execute_result"
    }
   ],
   "source": [
    "# 设置随机数种子\n",
    "torch.manual_seed(420)  \n",
    "torch.nn.init.kaiming_uniform_(t,a=1)         # 此时分母是"
   ]
  },
  {
   "cell_type": "code",
   "execution_count": 80,
   "metadata": {},
   "outputs": [
    {
     "data": {
      "text/plain": [
       "0.7071067811865476"
      ]
     },
     "execution_count": 80,
     "metadata": {},
     "output_type": "execute_result"
    }
   ],
   "source": [
    "math.sqrt(0.5)"
   ]
  },
  {
   "cell_type": "code",
   "execution_count": 81,
   "metadata": {},
   "outputs": [
    {
     "data": {
      "text/plain": [
       "tensor([[ 0.,  1.,  2.],\n",
       "        [ 3.,  4.,  5.],\n",
       "        [ 6.,  7.,  8.],\n",
       "        [ 9., 10., 11.],\n",
       "        [12., 13., 14.],\n",
       "        [15., 16., 17.]])"
      ]
     },
     "execution_count": 81,
     "metadata": {},
     "output_type": "execute_result"
    }
   ],
   "source": [
    "t = torch.arange(18).reshape(6, 3).float()\n",
    "t"
   ]
  },
  {
   "cell_type": "code",
   "execution_count": null,
   "metadata": {},
   "outputs": [],
   "source": [
    "# 设置随机数种子\n",
    "torch.manual_seed(420)  \n",
    "torch.nn.init.kaiming_uniform_(t)        # 此时扇入个数是3\n",
    "\n",
    "# 6 是fan_out"
   ]
  },
  {
   "cell_type": "markdown",
   "metadata": {},
   "source": [
    "接下来，尝试在建模过程中使用kaiming方法，验证是否能够加快迭代效率，并且规避神经元活性失效问题。\n",
    "\n",
    "\n",
    "> HE初始化如何帮助模型规避Dead ReLU Problem？  \n",
    "> 核心在于模型初始化时如果参数完全随机选择，就有可能出现初始参数全部输出0的结果，而通过HE初始化的参数不会出现上述情况。"
   ]
  },
  {
   "cell_type": "code",
   "execution_count": 82,
   "metadata": {},
   "outputs": [
    {
     "data": {
      "text/plain": [
       "<torch._C.Generator at 0x2d53b60efd0>"
      ]
     },
     "execution_count": 82,
     "metadata": {},
     "output_type": "execute_result"
    }
   ],
   "source": [
    "# 设置随机数种子\n",
    "torch.manual_seed(420)  \n",
    "\n",
    "# 创建最高项为2的多项式回归数据集\n",
    "features, labels = tensorGenReg(w=[2, 1], bias=False, deg=2)\n",
    "\n",
    "# 进行数据集切分与加载\n",
    "train_loader, test_loader = split_loader(features, labels)\n",
    "\n",
    "# 初始核心参数\n",
    "lr = 0.001  # 学习率设置的较小\n",
    "num_epochs = 20\n"
   ]
  },
  {
   "cell_type": "code",
   "execution_count": 83,
   "metadata": {},
   "outputs": [
    {
     "data": {
      "text/plain": [
       "<torch._C.Generator at 0x2d53b60efd0>"
      ]
     },
     "execution_count": 83,
     "metadata": {},
     "output_type": "execute_result"
    },
    {
     "data": {
      "text/plain": [
       "Parameter containing:\n",
       "tensor([[ 1.3847, -0.4435],\n",
       "        [-0.1899, -0.0916],\n",
       "        [-1.4094,  1.5347],\n",
       "        [-0.1705,  1.6922]], requires_grad=True)"
      ]
     },
     "execution_count": 83,
     "metadata": {},
     "output_type": "execute_result"
    },
    {
     "data": {
      "text/plain": [
       "Parameter containing:\n",
       "tensor([[ 1.0084,  0.5323, -0.0277, -0.0135],\n",
       "        [ 0.0282, -1.1904, -0.2923, -0.5667],\n",
       "        [-0.0729,  0.1498, -0.9598,  0.9308],\n",
       "        [ 1.0001,  0.7617,  0.5500,  0.1938]], requires_grad=True)"
      ]
     },
     "execution_count": 83,
     "metadata": {},
     "output_type": "execute_result"
    },
    {
     "data": {
      "text/plain": [
       "Parameter containing:\n",
       "tensor([[-0.8826,  0.4933,  0.4340,  1.1838],\n",
       "        [-1.1550,  1.0630,  0.9618,  0.2271],\n",
       "        [ 0.4080,  0.1464, -0.0979,  0.2467],\n",
       "        [ 0.7092,  0.1396, -0.1113, -0.0405]], requires_grad=True)"
      ]
     },
     "execution_count": 83,
     "metadata": {},
     "output_type": "execute_result"
    },
    {
     "data": {
      "text/plain": [
       "Parameter containing:\n",
       "tensor([[-0.9433, -0.5863,  0.9970,  0.0722]], requires_grad=True)"
      ]
     },
     "execution_count": 83,
     "metadata": {},
     "output_type": "execute_result"
    }
   ],
   "source": [
    "# 设置随机数种子\n",
    "torch.manual_seed(420)  \n",
    "\n",
    "# 实例化模型 3个隐藏层的ReLU模型\n",
    "relu_model3 = ReLU_class3()                   # 保留原参数\n",
    "relu_model3_init = ReLU_class3()              # 使用HE初始化参数\n",
    "\n",
    "# 修改init模型初始参数\n",
    "for m in relu_model3_init.modules():\n",
    "    if isinstance(m, nn.Linear):\n",
    "        nn.init.kaiming_uniform_(m.weight)\n",
    "        \n",
    "# 创建模型容器\n",
    "model_l = [relu_model3, relu_model3_init]           \n",
    "name_l = ['relu_model3', 'relu_model3_init']"
   ]
  },
  {
   "cell_type": "code",
   "execution_count": 84,
   "metadata": {},
   "outputs": [],
   "source": [
    "# 训练模型 \n",
    "train_l, test_l = model_comparison(model_l = model_l, \n",
    "                                   name_l = name_l, \n",
    "                                   train_data = train_loader,\n",
    "                                   test_data = test_loader,\n",
    "                                   num_epochs = num_epochs, \n",
    "                                   criterion = nn.MSELoss(), \n",
    "                                   optimizer = optim.SGD, \n",
    "                                   lr = lr, \n",
    "                                   cla = False, \n",
    "                                   eva = mse_cal)"
   ]
  },
  {
   "cell_type": "code",
   "execution_count": 85,
   "metadata": {},
   "outputs": [
    {
     "data": {
      "text/plain": [
       "[<matplotlib.lines.Line2D at 0x2d549e71a20>]"
      ]
     },
     "execution_count": 85,
     "metadata": {},
     "output_type": "execute_result"
    },
    {
     "data": {
      "text/plain": [
       "[<matplotlib.lines.Line2D at 0x2d549e707f0>]"
      ]
     },
     "execution_count": 85,
     "metadata": {},
     "output_type": "execute_result"
    },
    {
     "data": {
      "text/plain": [
       "<matplotlib.legend.Legend at 0x2d54a1c7040>"
      ]
     },
     "execution_count": 85,
     "metadata": {},
     "output_type": "execute_result"
    },
    {
     "data": {
      "text/plain": [
       "Text(0.5, 1.0, 'mse_train')"
      ]
     },
     "execution_count": 85,
     "metadata": {},
     "output_type": "execute_result"
    },
    {
     "data": {
      "image/png": "[encoded data removed]",
      "text/plain": [
       "<Figure size 432x288 with 1 Axes>"
      ]
     },
     "metadata": {
      "needs_background": "light"
     },
     "output_type": "display_data"
    }
   ],
   "source": [
    "# 训练误差\n",
    "for i, name in enumerate(name_l):\n",
    "    plt.plot(list(range(num_epochs)), train_l[i], label=name)\n",
    "plt.legend(loc = 1)\n",
    "plt.title('mse_train')"
   ]
  },
  {
   "cell_type": "code",
   "execution_count": 86,
   "metadata": {},
   "outputs": [
    {
     "data": {
      "text/plain": [
       "[<matplotlib.lines.Line2D at 0x2d549c46ec0>]"
      ]
     },
     "execution_count": 86,
     "metadata": {},
     "output_type": "execute_result"
    },
    {
     "data": {
      "text/plain": [
       "[<matplotlib.lines.Line2D at 0x2d549c45a50>]"
      ]
     },
     "execution_count": 86,
     "metadata": {},
     "output_type": "execute_result"
    },
    {
     "data": {
      "text/plain": [
       "<matplotlib.legend.Legend at 0x2d54f4b60b0>"
      ]
     },
     "execution_count": 86,
     "metadata": {},
     "output_type": "execute_result"
    },
    {
     "data": {
      "text/plain": [
       "Text(0.5, 1.0, 'mse_test')"
      ]
     },
     "execution_count": 86,
     "metadata": {},
     "output_type": "execute_result"
    },
    {
     "data": {
      "image/png": "[encoded data removed]",
      "text/plain": [
       "<Figure size 432x288 with 1 Axes>"
      ]
     },
     "metadata": {
      "needs_background": "light"
     },
     "output_type": "display_data"
    }
   ],
   "source": [
    "# 测试误差\n",
    "for i, name in enumerate(name_l):\n",
    "    plt.plot(list(range(num_epochs)), test_l[i], label=name)\n",
    "plt.legend(loc = 1)\n",
    "plt.title('mse_test')\n",
    "\n",
    "\n",
    "# 我们发现，使用HE初始化之后模型收敛速度明显提升。"
   ]
  },
  {
   "cell_type": "markdown",
   "metadata": {},
   "source": [
    "#### 2.2 PyTorch实现HE初始化的正态分布参数创建\n",
    "\n",
    "使用`torch.nn.init.kaiming_normal_`来进行满足正态分布的初始化参数设置\n",
    "\n"
   ]
  },
  {
   "cell_type": "code",
   "execution_count": 87,
   "metadata": {},
   "outputs": [
    {
     "name": "stdout",
     "output_type": "stream",
     "text": [
      "\u001b[1;31mSignature:\u001b[0m\n",
      "\u001b[0mnn\u001b[0m\u001b[1;33m.\u001b[0m\u001b[0minit\u001b[0m\u001b[1;33m.\u001b[0m\u001b[0mkaiming_normal_\u001b[0m\u001b[1;33m(\u001b[0m\u001b[1;33m\n",
      "\u001b[0m    \u001b[0mtensor\u001b[0m\u001b[1;33m:\u001b[0m \u001b[0mtorch\u001b[0m\u001b[1;33m.\u001b[0m\u001b[0mTensor\u001b[0m\u001b[1;33m,\u001b[0m\u001b[1;33m\n",
      "\u001b[0m    \u001b[0ma\u001b[0m\u001b[1;33m:\u001b[0m \u001b[0mfloat\u001b[0m \u001b[1;33m=\u001b[0m \u001b[1;36m0\u001b[0m\u001b[1;33m,\u001b[0m\u001b[1;33m\n",
      "\u001b[0m    \u001b[0mmode\u001b[0m\u001b[1;33m:\u001b[0m \u001b[0mstr\u001b[0m \u001b[1;33m=\u001b[0m \u001b[1;34m'fan_in'\u001b[0m\u001b[1;33m,\u001b[0m\u001b[1;33m\n",
      "\u001b[0m    \u001b[0mnonlinearity\u001b[0m\u001b[1;33m:\u001b[0m \u001b[0mstr\u001b[0m \u001b[1;33m=\u001b[0m \u001b[1;34m'leaky_relu'\u001b[0m\u001b[1;33m,\u001b[0m\u001b[1;33m\n",
      "\u001b[0m\u001b[1;33m)\u001b[0m\u001b[1;33m\u001b[0m\u001b[1;33m\u001b[0m\u001b[0m\n",
      "\u001b[1;31mDocstring:\u001b[0m\n",
      "Fills the input `Tensor` with values according to the method\n",
      "described in `Delving deep into rectifiers: Surpassing human-level\n",
      "performance on ImageNet classification` - He, K. et al. (2015), using a\n",
      "normal distribution. The resulting tensor will have values sampled from\n",
      ":math:`\\mathcal{N}(0, \\text{std}^2)` where\n",
      "\n",
      ".. math::\n",
      "    \\text{std} = \\frac{\\text{gain}}{\\sqrt{\\text{fan\\_mode}}}\n",
      "\n",
      "Also known as He initialization.\n",
      "\n",
      "Args:\n",
      "    tensor: an n-dimensional `torch.Tensor`\n",
      "    a: the negative slope of the rectifier used after this layer (only\n",
      "        used with ``'leaky_relu'``)\n",
      "    mode: either ``'fan_in'`` (default) or ``'fan_out'``. Choosing ``'fan_in'``\n",
      "        preserves the magnitude of the variance of the weights in the\n",
      "        forward pass. Choosing ``'fan_out'`` preserves the magnitudes in the\n",
      "        backwards pass.\n",
      "    nonlinearity: the non-linear function (`nn.functional` name),\n",
      "        recommended to use only with ``'relu'`` or ``'leaky_relu'`` (default).\n",
      "\n",
      "Examples:\n",
      "    >>> w = torch.empty(3, 5)\n",
      "    >>> nn.init.kaiming_normal_(w, mode='fan_out', nonlinearity='relu')\n",
      "\u001b[1;31mFile:\u001b[0m      c:\\users\\hp\\python\\python310\\lib\\site-packages\\torch\\nn\\init.py\n",
      "\u001b[1;31mType:\u001b[0m      function\n"
     ]
    }
   ],
   "source": [
    "nn.init.kaiming_normal_?"
   ]
  },
  {
   "cell_type": "markdown",
   "metadata": {},
   "source": [
    "实际上，PyTorch中所使用的HE初始化时，初始参数的方差为：\n",
    "\n",
    "$$Var(w) = \\frac{2}{(1+a^2)fan_{in}}$$\n",
    "\n",
    "其中a为ReLU变种激活函数的修正系数，需要配合ReLU变种激活函数共同使用，扇入神经元个数和扇出神经元个数等效，并且$$std(w) = \\sqrt{\\frac{2}{(1+a^2)fan_{in}}}$$\n",
    "\n",
    "\n",
    "- 简单实践"
   ]
  },
  {
   "cell_type": "code",
   "execution_count": 88,
   "metadata": {},
   "outputs": [
    {
     "data": {
      "text/plain": [
       "<torch._C.Generator at 0x2d53b60efd0>"
      ]
     },
     "execution_count": 88,
     "metadata": {},
     "output_type": "execute_result"
    },
    {
     "data": {
      "text/plain": [
       "Parameter containing:\n",
       "tensor([[ 0.4132,  1.2154],\n",
       "        [-0.0425, -1.3647],\n",
       "        [-0.5896,  2.1108],\n",
       "        [ 0.2548,  0.1661]], requires_grad=True)"
      ]
     },
     "execution_count": 88,
     "metadata": {},
     "output_type": "execute_result"
    },
    {
     "data": {
      "text/plain": [
       "Parameter containing:\n",
       "tensor([[ 0.5093, -0.2730, -0.1495,  1.4481],\n",
       "        [ 1.5209,  1.1812,  0.8868, -0.7768],\n",
       "        [ 0.6132, -0.8655, -0.3035, -0.1526],\n",
       "        [ 0.2752, -0.5203, -0.7091, -0.5119]], requires_grad=True)"
      ]
     },
     "execution_count": 88,
     "metadata": {},
     "output_type": "execute_result"
    },
    {
     "data": {
      "text/plain": [
       "Parameter containing:\n",
       "tensor([[ 0.7865, -0.0605,  0.6548, -0.9418],\n",
       "        [-1.1811,  0.8337,  0.5161, -0.8076],\n",
       "        [ 0.6926,  0.9038, -0.4330, -0.1764],\n",
       "        [-0.4042,  0.3451, -0.5829, -0.0914]], requires_grad=True)"
      ]
     },
     "execution_count": 88,
     "metadata": {},
     "output_type": "execute_result"
    },
    {
     "data": {
      "text/plain": [
       "Parameter containing:\n",
       "tensor([[-0.7091,  0.1566, -0.7193, -0.9234]], requires_grad=True)"
      ]
     },
     "execution_count": 88,
     "metadata": {},
     "output_type": "execute_result"
    }
   ],
   "source": [
    "# 设置随机数种子\n",
    "torch.manual_seed(420)  \n",
    "\n",
    "# 实例化模型\n",
    "relu_model3 = ReLU_class3()                   # 保留原参数\n",
    "\n",
    "relu_model3_init = ReLU_class3()              # 使用HE初始化参数\n",
    "# 修改init模型初始参数\n",
    "for m in relu_model3_init.modules():\n",
    "    if isinstance(m, nn.Linear):\n",
    "        nn.init.kaiming_normal_(m.weight)\n",
    "        \n",
    "# 创建模型容器\n",
    "model_l = [relu_model3, relu_model3_init]           \n",
    "name_l = ['relu_model3', 'relu_model3_init']"
   ]
  },
  {
   "cell_type": "code",
   "execution_count": 89,
   "metadata": {},
   "outputs": [],
   "source": [
    "train_l, test_l = model_comparison(model_l = model_l, \n",
    "                                   name_l = name_l, \n",
    "                                   train_data = train_loader,\n",
    "                                   test_data = test_loader,\n",
    "                                   num_epochs = num_epochs, \n",
    "                                   criterion = nn.MSELoss(), \n",
    "                                   optimizer = optim.SGD, \n",
    "                                   lr = lr, \n",
    "                                   cla = False, \n",
    "                                   eva = mse_cal)"
   ]
  },
  {
   "cell_type": "code",
   "execution_count": 90,
   "metadata": {},
   "outputs": [
    {
     "data": {
      "text/plain": [
       "[<matplotlib.lines.Line2D at 0x2d549b48670>]"
      ]
     },
     "execution_count": 90,
     "metadata": {},
     "output_type": "execute_result"
    },
    {
     "data": {
      "text/plain": [
       "[<matplotlib.lines.Line2D at 0x2d549b48a30>]"
      ]
     },
     "execution_count": 90,
     "metadata": {},
     "output_type": "execute_result"
    },
    {
     "data": {
      "text/plain": [
       "<matplotlib.legend.Legend at 0x2d549c55ed0>"
      ]
     },
     "execution_count": 90,
     "metadata": {},
     "output_type": "execute_result"
    },
    {
     "data": {
      "text/plain": [
       "Text(0.5, 1.0, 'mse_train')"
      ]
     },
     "execution_count": 90,
     "metadata": {},
     "output_type": "execute_result"
    },
    {
     "data": {
      "image/png": "[encoded data removed]",
      "text/plain": [
       "<Figure size 432x288 with 1 Axes>"
      ]
     },
     "metadata": {
      "needs_background": "light"
     },
     "output_type": "display_data"
    }
   ],
   "source": [
    "# 训练误差\n",
    "for i, name in enumerate(name_l):\n",
    "    plt.plot(list(range(num_epochs)), train_l[i], label=name)\n",
    "plt.legend(loc = 1)\n",
    "plt.title('mse_train')"
   ]
  },
  {
   "cell_type": "code",
   "execution_count": 91,
   "metadata": {},
   "outputs": [
    {
     "data": {
      "text/plain": [
       "[<matplotlib.lines.Line2D at 0x2d549d898d0>]"
      ]
     },
     "execution_count": 91,
     "metadata": {},
     "output_type": "execute_result"
    },
    {
     "data": {
      "text/plain": [
       "[<matplotlib.lines.Line2D at 0x2d549d8aef0>]"
      ]
     },
     "execution_count": 91,
     "metadata": {},
     "output_type": "execute_result"
    },
    {
     "data": {
      "text/plain": [
       "<matplotlib.legend.Legend at 0x2d54a1c41c0>"
      ]
     },
     "execution_count": 91,
     "metadata": {},
     "output_type": "execute_result"
    },
    {
     "data": {
      "text/plain": [
       "Text(0.5, 1.0, 'mse_test')"
      ]
     },
     "execution_count": 91,
     "metadata": {},
     "output_type": "execute_result"
    },
    {
     "data": {
      "image/png": "[encoded data removed]",
      "text/plain": [
       "<Figure size 432x288 with 1 Axes>"
      ]
     },
     "metadata": {
      "needs_background": "light"
     },
     "output_type": "display_data"
    }
   ],
   "source": [
    "# 测试误差\n",
    "for i, name in enumerate(name_l):\n",
    "    plt.plot(list(range(num_epochs)), test_l[i], label=name)\n",
    "plt.legend(loc = 1)\n",
    "plt.title('mse_test')"
   ]
  },
  {
   "cell_type": "markdown",
   "metadata": {},
   "source": [
    "同样，经过HE初始化后的参数，模型收敛速度更快，也证明了HE初始化的有效性。"
   ]
  },
  {
   "cell_type": "markdown",
   "metadata": {},
   "source": [
    "## 三、参数初始化的作用局限\n",
    "\n",
    "&emsp;&emsp;截止目前，我们讨论了围绕Glorot条件进行的参数初始化方法，当然，合理的设置初始参数值能够一定程度上使得模型各层都得到有效的学习，模型训练过程更加平稳、收敛速度也更快。但由于我们设置的是初始条件，伴随着模型不断训练，由于受到激活函数导函数本身特性影响，仍然有可能在迭代过程中出现梯度不均衡的现象。\n",
    "\n",
    "&emsp;&emsp;然而模型一旦开始训练，我们是不能手动参与修改模型参数的。那此时应该如何处理梯度不均衡的问题呢？我们知道，影响梯度计算的三个核心因素，分别是**参数状态值、激活值和输入的数据**，参数状态值由模型迭代的数学过程决定，激活值很大程度上由我们所选取的激活函数决定，如果从Glorot条件入手，我们就只剩下一个可以人工修改的选项：每一个线性层接收到的数据。"
   ]
  }
 ],
 "metadata": {
  "kernelspec": {
   "display_name": "Python 3.10.0 64-bit",
   "language": "python",
   "name": "python3"
  },
  "language_info": {
   "codemirror_mode": {
    "name": "ipython",
    "version": 3
   },
   "file_extension": ".py",
   "mimetype": "text/x-python",
   "name": "python",
   "nbconvert_exporter": "python",
   "pygments_lexer": "ipython3",
   "version": "3.10.0"
  },
  "orig_nbformat": 4,
  "vscode": {
   "interpreter": {
    "hash": "3296471c9107718e6db2104fe506aa09d2e74f3fa2347eed57e489ba84541490"
   }
  }
 },
 "nbformat": 4,
 "nbformat_minor": 2
}
