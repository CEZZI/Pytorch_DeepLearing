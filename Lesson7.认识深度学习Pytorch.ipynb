{
 "cells": [
  {
   "cell_type": "markdown",
   "metadata": {},
   "source": [
    "# Lesson7"
   ]
  },
  {
   "cell_type": "markdown",
   "metadata": {},
   "source": [
    "## 一、深度学习、机器学习、人工智能与神经网络\n",
    "\n",
    "**算法**\n",
    "原本用以定义在解决问题时，按照某种固定步骤一定可以得到问题的结果的处理过程。后在数据科学领域，用以指代能够根据历史数据实现预测或得出某种结果的计算步骤或数学方法。\n",
    "\n",
    "**深度学习**：以研究人工神经网络算法为核心的学科"
   ]
  },
  {
   "cell_type": "markdown",
   "metadata": {},
   "source": [
    "## 二、机器学习中的基本概念\n",
    "\n",
    "### 1.样本、特征、标签\n",
    "\n",
    "- 样本:数据表中的每一行\n",
    "- 特征：每一个样本的属性，也叫做字段or维度(特征的个数)\n",
    "- 标签：也叫做目标变量，希望预测、判断的问题的正确答案\n",
    "- 把数据表称为特征矩阵$X$,用$x$表示每个特征\n",
    "\n",
    "由于我们所使用的张量往往是高于两个维度的，因此我们不能称其为“矩阵”，因此对于深度学习，我们一般称特征所在的张量叫做**特征张量**。"
   ]
  },
  {
   "cell_type": "markdown",
   "metadata": {},
   "source": [
    "### 2.分类和回归\n",
    "\n",
    "- 分类问题中，标签是类别，表现为离散型变量（Categorical），往往是整数\n",
    "- 回归问题中，标签是具体数字，表现为连续型变量（Continuous），往往是连续的浮点数\n",
    "  \n",
    "\n",
    "### 3.有监督和无监督\n",
    "\n",
    "- 对于有标签的任务，我们称其为“有监督学习”，\n",
    "  - 包括众人耳熟能详的众多算法：KNN，决策树，支持向量机，线性回归，逻辑回归等等，自然也包括大部分神经网络。\n",
    "- 没有标签的任务，被称为“无监督学习”，\n",
    "  - 包括了聚类分析，协同过滤（推荐系统中的核心算法之一），以及变分自编码器等深度学习算法\n",
    "\n",
    "### 4.如何判断我的模型是一个好模型？\n",
    "\n",
    "- 模型预测效果\n",
    "- 运算速度\n",
    "- 可解释性\n",
    "- 服务于业务"
   ]
  },
  {
   "cell_type": "markdown",
   "metadata": {},
   "source": [
    "## 三、深入认识Pytorch框架\n",
    "\n",
    "**框架是什么？框架（framework）与库（library）有什么区别？**\n",
    "框架就是封装程度较高的库，PyTorch也可以被说成是用于构建深度学习算法的Python库。  \n",
    "如果你熟悉Python，你应该很了解Pandas、NumPy这些工具库，我们用pandas和numpy来执行\n",
    "非常底层、非常基础的操作，所以一般我们不会认为他们是框架。  \n",
    "但PyTorch、Sklearn都是在numpy等库的基础上再次进行了封装，形成的更高级别的库。在这些库中，我们基本不执行太底层和基础的操作，而是专注于构筑复杂的程序来解决问题。对于这样的库，我们称其为“框架”。  \n",
    "从现在的角度来看，sklearn是比PyTorch更高层的框架，因为sklearn的封装比PyTorch更加严密。 \n",
    "\n",
    "### 1. PyTorch的优势\n",
    "\n",
    "预测结果优秀、计算速度超快、并且能够服务于业务（即实际生产环境）\n",
    "- 天生支持巨量数据和巨大神经网络的高速运算\n",
    "- 灵活性高，足以释放神经网络的潜力，并且在保留灵活性的同时，又有Python语法简单易学的优势\n",
    "- 支持研究环境与生产环境无缝切换，调试成本很低\n",
    "\n",
    "### 2. PyTorch库的基本架构"
   ]
  },
  {
   "cell_type": "code",
   "execution_count": 1,
   "metadata": {},
   "outputs": [],
   "source": [
    "import torch\n",
    "import torchvision  # 计算机视觉"
   ]
  }
 ],
 "metadata": {
  "kernelspec": {
   "display_name": "Python 3.7.4 ('base')",
   "language": "python",
   "name": "python3"
  },
  "language_info": {
   "codemirror_mode": {
    "name": "ipython",
    "version": 3
   },
   "file_extension": ".py",
   "mimetype": "text/x-python",
   "name": "python",
   "nbconvert_exporter": "python",
   "pygments_lexer": "ipython3",
   "version": "3.7.4"
  },
  "orig_nbformat": 4,
  "vscode": {
   "interpreter": {
    "hash": "e9c95e2fca121e63b81ef3e38ca658e3e94770f8b66e1c1e59a7460ee39b328d"
   }
  }
 },
 "nbformat": 4,
 "nbformat_minor": 2
}
