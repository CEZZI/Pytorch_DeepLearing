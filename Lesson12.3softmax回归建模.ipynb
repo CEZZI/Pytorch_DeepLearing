{
 "cells": [
  {
   "cell_type": "markdown",
   "metadata": {},
   "source": [
    "# Lesson 12.3 softmax回归建模实验  "
   ]
  },
  {
   "cell_type": "code",
   "execution_count": 1,
   "metadata": {},
   "outputs": [
    {
     "name": "stderr",
     "output_type": "stream",
     "text": [
      "c:\\Users\\HP\\Python\\Python310\\lib\\site-packages\\numpy\\_distributor_init.py:30: UserWarning: loaded more than 1 DLL from .libs:\n",
      "c:\\Users\\HP\\Python\\Python310\\lib\\site-packages\\numpy\\.libs\\libopenblas.FB5AE2TYXYH2IJRDKGDGQ3XBKLKTF43H.gfortran-win_amd64.dll\n",
      "c:\\Users\\HP\\Python\\Python310\\lib\\site-packages\\numpy\\.libs\\libopenblas.XWYDX2IKJW2NMTWSFYNGFUWKQU3LYTCZ.gfortran-win_amd64.dll\n",
      "  warnings.warn(\"loaded more than 1 DLL from .libs:\"\n"
     ]
    }
   ],
   "source": [
    "# 随机模块\n",
    "import random\n",
    "\n",
    "# 绘图模块\n",
    "import matplotlib as mpl\n",
    "import matplotlib.pyplot as plt\n",
    "\n",
    "# numpy\n",
    "import numpy as np\n",
    "\n",
    "# pytorch\n",
    "import torch\n",
    "from torch import nn,optim\n",
    "import torch.nn.functional as F\n",
    "from torch.utils.data import Dataset,TensorDataset,DataLoader\n",
    "from torch.utils.tensorboard import SummaryWriter\n",
    "\n",
    "# 自定义模块\n",
    "from torchLearning import *\n",
    "\n",
    "# 导入以下包从而使得可以在jupyter中的一个cell输出多个结果\n",
    "from IPython.core.interactiveshell import InteractiveShell\n",
    "InteractiveShell.ast_node_interactivity = \"all\""
   ]
  },
  {
   "cell_type": "markdown",
   "metadata": {},
   "source": [
    "## 一、softmax回归手动实现\n",
    "\n",
    "&emsp;&emsp;根据此前的介绍，面对分类问题，更为通用的处理办法将其转化为哑变量的形式，然后使用softmax回归进行处理，这种处理方式同样适用于二分类和多分类问题。此处以多分类问题为例，介绍softmax的手动实现形式。\n",
    "\n",
    "&emsp;&emsp;我们都知道，softmax是用于挑选最大值的一种方法，通过以下公式对不同类的计算结果进行数值上的转化\n",
    "\n",
    "$$\\delta_k = \\frac{e^{z_k}}{\\sum^Ke^k}$$\n",
    "\n",
    "这种转化可以将结果放缩到0-1之间，并且使用softmax进行最大值的比较，相比max（softmax是max的柔化版本），能有效避免损失函数求解时在0点不可导的问题，损失函数的函数特性，将是后续我们选择优化算法的关键。具体我们可以通过下述图像进行比较。"
   ]
  },
  {
   "cell_type": "code",
   "execution_count": 2,
   "metadata": {},
   "outputs": [
    {
     "data": {
      "text/plain": [
       "[<matplotlib.lines.Line2D at 0x1cf94e11bd0>]"
      ]
     },
     "execution_count": 2,
     "metadata": {},
     "output_type": "execute_result"
    },
    {
     "data": {
      "text/plain": [
       "Text(0.5, 1.0, 'Max Function')"
      ]
     },
     "execution_count": 2,
     "metadata": {},
     "output_type": "execute_result"
    },
    {
     "data": {
      "image/png": "[encoded data removed]",
      "text/plain": [
       "<Figure size 432x288 with 1 Axes>"
      ]
     },
     "metadata": {
      "needs_background": "light"
     },
     "output_type": "display_data"
    }
   ],
   "source": [
    "#————————————————————————————max回归的图像表示————————————————————————————\n",
    "\n",
    "from matplotlib import pyplot\n",
    "\n",
    "def max_x(x, delta=0.):\n",
    "    x = np.array(x)\n",
    "    negative_idx = x < delta\n",
    "    x[negative_idx] = 0.\n",
    "    return x\n",
    "x = np.array(range(-10, 10))\n",
    "s_j = np.array(x)\n",
    "\n",
    "hinge_loss = max_x(s_j, delta=1.)\n",
    "\n",
    "pyplot.plot(s_j, hinge_loss)\n",
    "pyplot.title(\"Max Function\")"
   ]
  },
  {
   "cell_type": "code",
   "execution_count": 3,
   "metadata": {},
   "outputs": [
    {
     "data": {
      "text/plain": [
       "[<matplotlib.lines.Line2D at 0x1cf96f3b580>]"
      ]
     },
     "execution_count": 3,
     "metadata": {},
     "output_type": "execute_result"
    },
    {
     "data": {
      "text/plain": [
       "[<matplotlib.lines.Line2D at 0x1cf96f3b940>]"
      ]
     },
     "execution_count": 3,
     "metadata": {},
     "output_type": "execute_result"
    },
    {
     "data": {
      "text/plain": [
       "Text(0.5, 1.0, 'softmax vs Max')"
      ]
     },
     "execution_count": 3,
     "metadata": {},
     "output_type": "execute_result"
    },
    {
     "data": {
      "image/png": "[encoded data removed]",
      "text/plain": [
       "<Figure size 432x288 with 1 Axes>"
      ]
     },
     "metadata": {
      "needs_background": "light"
     },
     "output_type": "display_data"
    }
   ],
   "source": [
    "#————————————————————————————max回归与softmax回归的图形对比————————————————————————————\n",
    "def cross_entropy_test(s_k, s_j):\n",
    "    soft_max = 1/(1+np.exp(s_k - s_j))\n",
    "    cross_entropy_loss = -np.log(soft_max)\n",
    "    return cross_entropy_loss\n",
    "s_i = 0\n",
    "s_k = np.array(range(-10, 10))\n",
    "\n",
    "soft_x = cross_entropy_test(s_k, s_i)\n",
    "\n",
    "pyplot.plot(x, hinge_loss)\n",
    "pyplot.plot(range(-10, 10), soft_x)\n",
    "pyplot.title(\"softmax vs Max\")\n",
    "\n",
    "\n",
    "# softmax在零点可导"
   ]
  },
  {
   "cell_type": "markdown",
   "metadata": {},
   "source": [
    "### 1.生成数据集\n",
    "\n",
    "&emsp;&emsp;利用此前的数据集生成函数，创建一个三分类、且内部离散程度不是很高的分类数据集"
   ]
  },
  {
   "cell_type": "code",
   "execution_count": 5,
   "metadata": {},
   "outputs": [
    {
     "name": "stdout",
     "output_type": "stream",
     "text": [
      "\u001b[1;31mSignature:\u001b[0m\n",
      "\u001b[0mtensorGenCla\u001b[0m\u001b[1;33m(\u001b[0m\u001b[1;33m\n",
      "\u001b[0m    \u001b[0mnum_examples\u001b[0m\u001b[1;33m=\u001b[0m\u001b[1;36m500\u001b[0m\u001b[1;33m,\u001b[0m\u001b[1;33m\n",
      "\u001b[0m    \u001b[0mnum_inputs\u001b[0m\u001b[1;33m=\u001b[0m\u001b[1;36m2\u001b[0m\u001b[1;33m,\u001b[0m\u001b[1;33m\n",
      "\u001b[0m    \u001b[0mnum_class\u001b[0m\u001b[1;33m=\u001b[0m\u001b[1;36m3\u001b[0m\u001b[1;33m,\u001b[0m\u001b[1;33m\n",
      "\u001b[0m    \u001b[0mdeg_dispersion\u001b[0m\u001b[1;33m=\u001b[0m\u001b[1;33m[\u001b[0m\u001b[1;36m4\u001b[0m\u001b[1;33m,\u001b[0m \u001b[1;36m2\u001b[0m\u001b[1;33m]\u001b[0m\u001b[1;33m,\u001b[0m\u001b[1;33m\n",
      "\u001b[0m    \u001b[0mbias\u001b[0m\u001b[1;33m=\u001b[0m\u001b[1;32mFalse\u001b[0m\u001b[1;33m,\u001b[0m\u001b[1;33m\n",
      "\u001b[0m\u001b[1;33m)\u001b[0m\u001b[1;33m\u001b[0m\u001b[1;33m\u001b[0m\u001b[0m\n",
      "\u001b[1;31mDocstring:\u001b[0m\n",
      "分类数据集创建函数。\n",
      "\n",
      ":param num_examples: 每个类别的数据数量\n",
      ":param num_inputs: 数据集特征数量\n",
      ":param num_class：数据集标签类别总数\n",
      ":param deg_dispersion：数据分布离散程度参数，需要输入一个列表，其中第一个参数表示每个类别数组均值的参考、第二个参数表示随机数组标准差。\n",
      ":param bias：建立模型逻辑回归模型时是否带入截距\n",
      ":return: 生成的特征张量和标签张量，其中特征张量是浮点型二维数组，标签张量是长正型二维数组。\n",
      "\u001b[1;31mFile:\u001b[0m      g:\\python学习资料2022年\\codetest\\pytorch&深度学习\\note_pytorch\\note_pytorch\\torchlearning.py\n",
      "\u001b[1;31mType:\u001b[0m      function\n"
     ]
    }
   ],
   "source": [
    "tensorGenCla?"
   ]
  },
  {
   "cell_type": "code",
   "execution_count": 6,
   "metadata": {},
   "outputs": [
    {
     "data": {
      "text/plain": [
       "<torch._C.Generator at 0x1cf92aa1450>"
      ]
     },
     "execution_count": 6,
     "metadata": {},
     "output_type": "execute_result"
    },
    {
     "data": {
      "text/plain": [
       "<matplotlib.collections.PathCollection at 0x1cf96f83400>"
      ]
     },
     "execution_count": 6,
     "metadata": {},
     "output_type": "execute_result"
    },
    {
     "data": {
      "image/png": "[encoded data removed]",
      "text/plain": [
       "<Figure size 432x288 with 1 Axes>"
      ]
     },
     "metadata": {
      "needs_background": "light"
     },
     "output_type": "display_data"
    }
   ],
   "source": [
    "# 设置随机数种子\n",
    "torch.manual_seed(420)   \n",
    "\n",
    "# 生成数据\n",
    "features, labels = tensorGenCla(bias=True, deg_dispersion=[6, 2])\n",
    "plt.scatter(features[:, 0], features[:, 1], c = labels)"
   ]
  },
  {
   "cell_type": "markdown",
   "metadata": {},
   "source": [
    "### 2.建模流程\n",
    "\n",
    "- Stage 1.模型选择\n",
    "\n",
    "围绕建模目标，我们可以构建一个只包含一层的神经网络进行建模，返回在三个类别上的概率\n",
    "\n",
    "<img src=\"https://i.loli.net/2021/02/06/eXSrD9st16FMqpL.jpg\" alt=\"33\" style=\"zoom:30%;\" />\n",
    "\n",
    "输出层的每个神经元输出结果都代表某条样本在三个类别中softmax后的取值，此时神经网络拥有两层，且是全连接。此时从特征到输出结果，就不再是简单的线性方程变换，而是矩阵相乘之后进行softmax转化。"
   ]
  },
  {
   "cell_type": "code",
   "execution_count": 7,
   "metadata": {},
   "outputs": [],
   "source": [
    "def softmax(X,w):\n",
    "    m = torch.exp(torch.mm(X,w))\n",
    "    sp = torch.sum(m,1).reshape(-1,1)\n",
    "    return m / sp"
   ]
  },
  {
   "cell_type": "markdown",
   "metadata": {},
   "source": [
    "此处X是特征张量，w是由两层之间的连接权重所组成的矩阵，且w的行数就是输入数据特征的数量，w的列数就是输出层的神经元个数，或者说就是分类问题的类别总数。\n",
    "\n",
    "计算过程我们可以通过下述例子进行说明："
   ]
  },
  {
   "cell_type": "code",
   "execution_count": 8,
   "metadata": {},
   "outputs": [
    {
     "data": {
      "text/plain": [
       "tensor([[-6.0141, -4.9911,  1.0000],\n",
       "        [-4.6593, -6.7657,  1.0000],\n",
       "        [-5.9395, -5.2347,  1.0000],\n",
       "        [-7.0262, -4.5792,  1.0000],\n",
       "        [-2.3817, -5.1295,  1.0000],\n",
       "        [-0.7093, -5.4693,  1.0000],\n",
       "        [-4.1530, -6.8751,  1.0000],\n",
       "        [-1.9636, -3.3003,  1.0000],\n",
       "        [-6.5046, -6.0710,  1.0000],\n",
       "        [-6.1291, -7.1835,  1.0000]])"
      ]
     },
     "execution_count": 8,
     "metadata": {},
     "output_type": "execute_result"
    },
    {
     "data": {
      "text/plain": [
       "tensor([[0],\n",
       "        [0],\n",
       "        [0],\n",
       "        [0],\n",
       "        [0],\n",
       "        [0],\n",
       "        [0],\n",
       "        [0],\n",
       "        [0],\n",
       "        [0]])"
      ]
     },
     "execution_count": 8,
     "metadata": {},
     "output_type": "execute_result"
    }
   ],
   "source": [
    "f = features[: 10]\n",
    "l = labels[: 10]\n",
    "f\n",
    "l"
   ]
  },
  {
   "cell_type": "code",
   "execution_count": 9,
   "metadata": {},
   "outputs": [
    {
     "data": {
      "text/plain": [
       "tensor([[0., 1., 2.],\n",
       "        [3., 4., 5.],\n",
       "        [6., 7., 8.]])"
      ]
     },
     "execution_count": 9,
     "metadata": {},
     "output_type": "execute_result"
    }
   ],
   "source": [
    "w = torch.arange(9).reshape(3, 3).float()\n",
    "w"
   ]
  },
  {
   "cell_type": "code",
   "execution_count": 10,
   "metadata": {},
   "outputs": [
    {
     "data": {
      "text/plain": [
       "tensor([[ -8.9733, -18.9785, -28.9837],\n",
       "        [-14.2971, -24.7221, -35.1471],\n",
       "        [ -9.7042, -19.8785, -30.0527],\n",
       "        [ -7.7375, -18.3429, -28.9483],\n",
       "        [ -9.3886, -15.8998, -22.4111],\n",
       "        [-10.4079, -15.5865, -20.7651],\n",
       "        [-14.6253, -24.6535, -34.6816],\n",
       "        [ -3.9010,  -8.1649, -12.4289],\n",
       "        [-12.2130, -23.7886, -35.3642],\n",
       "        [-15.5506, -27.8632, -40.1758]])"
      ]
     },
     "execution_count": 10,
     "metadata": {},
     "output_type": "execute_result"
    }
   ],
   "source": [
    "m1 = torch.mm(f, w)\n",
    "m1\n",
    "\n",
    "# 此时，上述矩阵的每一行都代表每一条数据在三个类别上的线性方程计算结果，\n",
    "# 然后需要进行softmax转化"
   ]
  },
  {
   "cell_type": "code",
   "execution_count": 11,
   "metadata": {},
   "outputs": [
    {
     "data": {
      "text/plain": [
       "tensor([ 3., 12., 21.])"
      ]
     },
     "execution_count": 11,
     "metadata": {},
     "output_type": "execute_result"
    }
   ],
   "source": [
    "torch.sum(w, 1)"
   ]
  },
  {
   "cell_type": "code",
   "execution_count": 12,
   "metadata": {},
   "outputs": [
    {
     "data": {
      "text/plain": [
       "tensor([[1.2675e-04, 5.7245e-09, 2.5854e-13],\n",
       "        [6.1777e-07, 1.8336e-11, 5.4426e-16],\n",
       "        [6.1026e-05, 2.3275e-09, 8.8770e-14],\n",
       "        [4.3617e-04, 1.0809e-08, 2.6787e-13],\n",
       "        [8.3669e-05, 1.2439e-07, 1.8493e-10],\n",
       "        [3.0193e-05, 1.7016e-07, 9.5900e-10],\n",
       "        [4.4494e-07, 1.9640e-11, 8.6693e-16],\n",
       "        [2.0222e-02, 2.8446e-04, 4.0014e-06],\n",
       "        [4.9654e-06, 4.6637e-11, 4.3803e-16],\n",
       "        [1.7639e-07, 7.9282e-13, 3.5635e-18]])"
      ]
     },
     "execution_count": 12,
     "metadata": {},
     "output_type": "execute_result"
    }
   ],
   "source": [
    "torch.exp(m1)"
   ]
  },
  {
   "cell_type": "code",
   "execution_count": 13,
   "metadata": {},
   "outputs": [
    {
     "data": {
      "text/plain": [
       "tensor([1.2675e-04, 6.1779e-07, 6.1028e-05, 4.3619e-04, 8.3794e-05, 3.0364e-05,\n",
       "        4.4495e-07, 2.0511e-02, 4.9655e-06, 1.7639e-07])"
      ]
     },
     "execution_count": 13,
     "metadata": {},
     "output_type": "execute_result"
    }
   ],
   "source": [
    "torch.sum(torch.exp(m1), 1)          # 计算每一行的exp之后求和"
   ]
  },
  {
   "cell_type": "code",
   "execution_count": 14,
   "metadata": {},
   "outputs": [
    {
     "data": {
      "text/plain": [
       "tensor([[9.9995e-01, 4.5163e-05, 2.0398e-09],\n",
       "        [9.9997e-01, 2.9681e-05, 8.8098e-10],\n",
       "        [9.9996e-01, 3.8138e-05, 1.4546e-09],\n",
       "        [9.9998e-01, 2.4781e-05, 6.1412e-10],\n",
       "        [9.9851e-01, 1.4845e-03, 2.2070e-06],\n",
       "        [9.9436e-01, 5.6040e-03, 3.1583e-05],\n",
       "        [9.9996e-01, 4.4139e-05, 1.9484e-09],\n",
       "        [9.8594e-01, 1.3869e-02, 1.9509e-04],\n",
       "        [9.9999e-01, 9.3923e-06, 8.8216e-11],\n",
       "        [1.0000e+00, 4.4946e-06, 2.0202e-11]])"
      ]
     },
     "execution_count": 14,
     "metadata": {},
     "output_type": "execute_result"
    }
   ],
   "source": [
    "torch.exp(m1) / torch.sum(torch.exp(m1), 1).reshape(-1, 1)"
   ]
  },
  {
   "cell_type": "markdown",
   "metadata": {},
   "source": [
    "上述结果的每一行就是经过sofrmax转化之后每一条数据在三个不同类别上的取值。该函数和nn.functional中softmax函数功能一致。只不过需要注意的是，我们定义的softmax函数需要输入原始数据和系数矩阵，而F.softmax需要输入输出节点中经过线性运算的结果以及softmax的方向（按行还是按列）。"
   ]
  },
  {
   "cell_type": "code",
   "execution_count": 15,
   "metadata": {},
   "outputs": [
    {
     "data": {
      "text/plain": [
       "tensor([[9.9995e-01, 4.5163e-05, 2.0398e-09],\n",
       "        [9.9997e-01, 2.9681e-05, 8.8098e-10],\n",
       "        [9.9996e-01, 3.8138e-05, 1.4546e-09],\n",
       "        [9.9998e-01, 2.4781e-05, 6.1412e-10],\n",
       "        [9.9851e-01, 1.4845e-03, 2.2070e-06],\n",
       "        [9.9436e-01, 5.6040e-03, 3.1583e-05],\n",
       "        [9.9996e-01, 4.4139e-05, 1.9484e-09],\n",
       "        [9.8594e-01, 1.3869e-02, 1.9509e-04],\n",
       "        [9.9999e-01, 9.3923e-06, 8.8216e-11],\n",
       "        [1.0000e+00, 4.4946e-06, 2.0202e-11]])"
      ]
     },
     "execution_count": 15,
     "metadata": {},
     "output_type": "execute_result"
    }
   ],
   "source": [
    "softmax(f,w)"
   ]
  },
  {
   "cell_type": "code",
   "execution_count": 16,
   "metadata": {},
   "outputs": [
    {
     "data": {
      "text/plain": [
       "tensor([[9.9995e-01, 4.5163e-05, 2.0398e-09],\n",
       "        [9.9997e-01, 2.9681e-05, 8.8098e-10],\n",
       "        [9.9996e-01, 3.8138e-05, 1.4546e-09],\n",
       "        [9.9998e-01, 2.4781e-05, 6.1412e-10],\n",
       "        [9.9851e-01, 1.4845e-03, 2.2069e-06],\n",
       "        [9.9436e-01, 5.6040e-03, 3.1583e-05],\n",
       "        [9.9996e-01, 4.4139e-05, 1.9484e-09],\n",
       "        [9.8594e-01, 1.3869e-02, 1.9509e-04],\n",
       "        [9.9999e-01, 9.3923e-06, 8.8216e-11],\n",
       "        [1.0000e+00, 4.4946e-06, 2.0202e-11]])"
      ]
     },
     "execution_count": 16,
     "metadata": {},
     "output_type": "execute_result"
    }
   ],
   "source": [
    "F.softmax(m1, 1)"
   ]
  },
  {
   "cell_type": "markdown",
   "metadata": {},
   "source": [
    "- Stage 2.确定目标函数\n",
    "\n",
    "&emsp;&emsp;此时目标函数就是交叉熵损失函数。由于标签已经经过了哑变量转化，因此交叉熵的主体就是每条数据的真实类别对应概率的累乘结果。作为多分类问题的最通用的损失函数，我们有必要简单回顾交叉熵计算过程："
   ]
  },
  {
   "cell_type": "code",
   "execution_count": 17,
   "metadata": {},
   "outputs": [
    {
     "data": {
      "text/plain": [
       "tensor([[0.6000, 0.2000, 0.2000],\n",
       "        [0.3000, 0.4000, 0.3000]])"
      ]
     },
     "execution_count": 17,
     "metadata": {},
     "output_type": "execute_result"
    },
    {
     "data": {
      "text/plain": [
       "tensor([0, 1])"
      ]
     },
     "execution_count": 17,
     "metadata": {},
     "output_type": "execute_result"
    }
   ],
   "source": [
    "f = torch.tensor([[0.6, 0.2, 0.2], [0.3, 0.4, 0.3]])\n",
    "l = torch.tensor([0, 1])\n",
    "\n",
    "f\n",
    "l\n",
    "\n",
    "# 其中f代表两条数据在三个类别上通过softmax输出的比例结果，l代表这两条数据的真实标签，"
   ]
  },
  {
   "cell_type": "code",
   "execution_count": 19,
   "metadata": {},
   "outputs": [],
   "source": [
    "def m_cross_entropy(soft_z, y):\n",
    "    y = y.long()\n",
    "    prob_real = torch.gather(soft_z, 1, y)\n",
    "    return (-(1/y.numel()) * torch.log(prob_real).sum())"
   ]
  },
  {
   "cell_type": "markdown",
   "metadata": {},
   "source": [
    "> 注意，根据对数运算性质，有$log(x_1x_2)=log(x_1)+log(x_2)$，因此我们可以将交叉熵损失函数中联合概率分布的累乘转化为累加，如果是累乘可以使用以下函数进行计算。"
   ]
  },
  {
   "cell_type": "markdown",
   "metadata": {},
   "source": [
    "- gather函数的基本用法"
   ]
  },
  {
   "cell_type": "code",
   "execution_count": 21,
   "metadata": {},
   "outputs": [
    {
     "data": {
      "text/plain": [
       "tensor([0, 1])"
      ]
     },
     "execution_count": 21,
     "metadata": {},
     "output_type": "execute_result"
    },
    {
     "data": {
      "text/plain": [
       "tensor([[0.6000, 0.2000, 0.2000],\n",
       "        [0.3000, 0.4000, 0.3000]])"
      ]
     },
     "execution_count": 21,
     "metadata": {},
     "output_type": "execute_result"
    }
   ],
   "source": [
    "l\n",
    "f"
   ]
  },
  {
   "cell_type": "code",
   "execution_count": 20,
   "metadata": {},
   "outputs": [
    {
     "data": {
      "text/plain": [
       "tensor([[0.6000],\n",
       "        [0.4000]])"
      ]
     },
     "execution_count": 20,
     "metadata": {},
     "output_type": "execute_result"
    }
   ],
   "source": [
    "torch.gather(f, 1, l.reshape(-1, 1).long())    \n",
    "# 1 按照每一行索引\n",
    " # 相当于批量索引"
   ]
  },
  {
   "cell_type": "markdown",
   "metadata": {},
   "source": [
    "再在外侧乘以-1/N即可构成哑变量情况下分类问题的交叉熵损失函数的计算结果。"
   ]
  },
  {
   "cell_type": "code",
   "execution_count": 22,
   "metadata": {},
   "outputs": [
    {
     "data": {
      "text/plain": [
       "tensor(0.7136)"
      ]
     },
     "execution_count": 22,
     "metadata": {},
     "output_type": "execute_result"
    }
   ],
   "source": [
    "-1 / 2 * (torch.log(torch.tensor(0.6) * torch.tensor(0.4)))"
   ]
  },
  {
   "cell_type": "markdown",
   "metadata": {},
   "source": [
    "当然也可以直接使用上述定义的m_cross_entropy函数进行计算"
   ]
  },
  {
   "cell_type": "code",
   "execution_count": 23,
   "metadata": {},
   "outputs": [
    {
     "data": {
      "text/plain": [
       "tensor(0.7136)"
      ]
     },
     "execution_count": 23,
     "metadata": {},
     "output_type": "execute_result"
    }
   ],
   "source": [
    "m_cross_entropy(f, l.reshape(-1, 1).long())\n",
    "\n",
    "# f要是经过softmax转化的结果\n",
    "# l就在每个类上的概率"
   ]
  },
  {
   "cell_type": "markdown",
   "metadata": {},
   "source": [
    "- 使用`nn.CrossEntropyLoss()`完成交叉熵损失函数的计算\n",
    "  - nn.CrossEntropyLoss()会自动完成softmax过程，\n",
    "  - 调用该函数时，我们只需要输入线性方程计算结果即可"
   ]
  },
  {
   "cell_type": "code",
   "execution_count": 24,
   "metadata": {},
   "outputs": [
    {
     "data": {
      "text/plain": [
       "tensor([[-6.0141, -4.9911,  1.0000],\n",
       "        [-4.6593, -6.7657,  1.0000],\n",
       "        [-5.9395, -5.2347,  1.0000],\n",
       "        [-7.0262, -4.5792,  1.0000],\n",
       "        [-2.3817, -5.1295,  1.0000],\n",
       "        [-0.7093, -5.4693,  1.0000],\n",
       "        [-4.1530, -6.8751,  1.0000],\n",
       "        [-1.9636, -3.3003,  1.0000],\n",
       "        [-6.5046, -6.0710,  1.0000],\n",
       "        [-6.1291, -7.1835,  1.0000]])"
      ]
     },
     "execution_count": 24,
     "metadata": {},
     "output_type": "execute_result"
    },
    {
     "data": {
      "text/plain": [
       "tensor([[0],\n",
       "        [0],\n",
       "        [0],\n",
       "        [0],\n",
       "        [0],\n",
       "        [0],\n",
       "        [0],\n",
       "        [0],\n",
       "        [0],\n",
       "        [0]])"
      ]
     },
     "execution_count": 24,
     "metadata": {},
     "output_type": "execute_result"
    },
    {
     "data": {
      "text/plain": [
       "tensor([[0., 1., 2.],\n",
       "        [3., 4., 5.],\n",
       "        [6., 7., 8.]])"
      ]
     },
     "execution_count": 24,
     "metadata": {},
     "output_type": "execute_result"
    }
   ],
   "source": [
    "f = features[: 10]\n",
    "l = labels[: 10]\n",
    "w = torch.arange(9).reshape(3, 3).float()\n",
    "f\n",
    "l\n",
    "w"
   ]
  },
  {
   "cell_type": "code",
   "execution_count": null,
   "metadata": {},
   "outputs": [],
   "source": [
    "# 实例化\n",
    "criterion = nn.CrossEntropyLoss()\n",
    "criterion(torch.mm(f, w), l.flatten())\n",
    "\n",
    "# 参数1：线性回归的结果"
   ]
  },
  {
   "cell_type": "code",
   "execution_count": 25,
   "metadata": {},
   "outputs": [
    {
     "data": {
      "text/plain": [
       "tensor(0.0021)"
      ]
     },
     "execution_count": 25,
     "metadata": {},
     "output_type": "execute_result"
    }
   ],
   "source": [
    "m_cross_entropy(softmax(f, w), l)"
   ]
  },
  {
   "cell_type": "markdown",
   "metadata": {},
   "source": [
    "- Stage 3.定义优化算法"
   ]
  },
  {
   "cell_type": "code",
   "execution_count": 27,
   "metadata": {},
   "outputs": [],
   "source": [
    "def m_accuracy(soft_z,y):\n",
    "    acc_bool = torch.argmax(soft_z,1).flatten() == y.flatten()\n",
    "    acc = torch.mean(acc_bool.float())\n",
    "    return(acc)"
   ]
  },
  {
   "cell_type": "markdown",
   "metadata": {},
   "source": [
    "上述函数的soft_z是经过softmax转化之后模型整体输出结果。其中argmax返回最大值的索引值"
   ]
  },
  {
   "cell_type": "code",
   "execution_count": 28,
   "metadata": {},
   "outputs": [
    {
     "data": {
      "text/plain": [
       "tensor(1)"
      ]
     },
     "execution_count": 28,
     "metadata": {},
     "output_type": "execute_result"
    }
   ],
   "source": [
    "torch.argmax(torch.tensor([1, 2]))\n",
    "\n",
    "# 最大值的索引为1"
   ]
  },
  {
   "cell_type": "markdown",
   "metadata": {},
   "source": [
    "而对于从0开始进行计数的类别来说，以及softmax函数的输出结果——每一行代表每一条数据在各类别上的softmax取值，我们对softmax的输出结果进行逐行的最大值索引值的计算，即可直接得出每一条数据在当前模型计算结果下所属类别的判别结果。"
   ]
  },
  {
   "cell_type": "code",
   "execution_count": 29,
   "metadata": {},
   "outputs": [
    {
     "data": {
      "text/plain": [
       "tensor([[9.9995e-01, 4.5163e-05, 2.0398e-09],\n",
       "        [9.9997e-01, 2.9681e-05, 8.8098e-10],\n",
       "        [9.9996e-01, 3.8138e-05, 1.4546e-09],\n",
       "        [9.9998e-01, 2.4781e-05, 6.1412e-10],\n",
       "        [9.9851e-01, 1.4845e-03, 2.2070e-06],\n",
       "        [9.9436e-01, 5.6040e-03, 3.1583e-05],\n",
       "        [9.9996e-01, 4.4139e-05, 1.9484e-09],\n",
       "        [9.8594e-01, 1.3869e-02, 1.9509e-04],\n",
       "        [9.9999e-01, 9.3923e-06, 8.8216e-11],\n",
       "        [1.0000e+00, 4.4946e-06, 2.0202e-11]])"
      ]
     },
     "execution_count": 29,
     "metadata": {},
     "output_type": "execute_result"
    },
    {
     "data": {
      "text/plain": [
       "tensor([0, 0, 0, 0, 0, 0, 0, 0, 0, 0])"
      ]
     },
     "execution_count": 29,
     "metadata": {},
     "output_type": "execute_result"
    }
   ],
   "source": [
    "softmax(f, w)\n",
    "torch.argmax(softmax(f, w), 1)\n",
    "\n",
    "# 每一个行中的最大元素都在第0类"
   ]
  },
  {
   "cell_type": "code",
   "execution_count": 30,
   "metadata": {},
   "outputs": [],
   "source": [
    "# 梯度调整的函数继续沿用sgd函数\n",
    "\n",
    "def sgd(params, lr):\n",
    "    params.data -= lr * params.grad \n",
    "    params.grad.zero_()"
   ]
  },
  {
   "cell_type": "markdown",
   "metadata": {},
   "source": [
    "- Stage.4 训练模型\n"
   ]
  },
  {
   "cell_type": "code",
   "execution_count": 31,
   "metadata": {},
   "outputs": [
    {
     "data": {
      "text/plain": [
       "<torch._C.Generator at 0x1cf92aa1450>"
      ]
     },
     "execution_count": 31,
     "metadata": {},
     "output_type": "execute_result"
    },
    {
     "data": {
      "text/plain": [
       "<matplotlib.collections.PathCollection at 0x1cf97155ed0>"
      ]
     },
     "execution_count": 31,
     "metadata": {},
     "output_type": "execute_result"
    },
    {
     "data": {
      "image/png": "[encoded data removed]",
      "text/plain": [
       "<Figure size 432x288 with 1 Axes>"
      ]
     },
     "metadata": {
      "needs_background": "light"
     },
     "output_type": "display_data"
    }
   ],
   "source": [
    "# 设置随机数种子\n",
    "torch.manual_seed(420)   \n",
    "\n",
    "# 数值创建\n",
    "features, labels = tensorGenCla(bias = True, deg_dispersion = [6, 2])\n",
    "plt.scatter(features[:, 0], features[:, 1], c = labels)"
   ]
  },
  {
   "cell_type": "code",
   "execution_count": 32,
   "metadata": {},
   "outputs": [
    {
     "data": {
      "text/plain": [
       "<torch._C.Generator at 0x1cf92aa1450>"
      ]
     },
     "execution_count": 32,
     "metadata": {},
     "output_type": "execute_result"
    },
    {
     "name": "stdout",
     "output_type": "stream",
     "text": [
      "epoch 1, acc 0.824667\n",
      "epoch 2, acc 0.938667\n",
      "epoch 3, acc 0.954667\n"
     ]
    }
   ],
   "source": [
    "# 设置随机数种子\n",
    "torch.manual_seed(420)  \n",
    "\n",
    "# 初始化核心参数\n",
    "batch_size = 10                                # 每一个小批的数量\n",
    "lr = 0.03                                      # 学习率\n",
    "num_epochs = 3                                 # 训练过程遍历几次数据\n",
    "w = torch.randn(3, 3, requires_grad = True)    # 随机设置初始权重\n",
    "\n",
    "# 参与训练的模型方程\n",
    "net = softmax                                     # 使用回归方程\n",
    "loss = m_cross_entropy                            # 交叉熵损失函数\n",
    "\n",
    "train_acc = []\n",
    "\n",
    "# 模型训练过程\n",
    "for epoch in range(num_epochs):\n",
    "    for X, y in data_iter(batch_size, features, labels):\n",
    "        l = loss(net(X, w), y)\n",
    "        l.backward()\n",
    "        sgd(w, lr)\n",
    "    train_acc = m_accuracy(net(features, w), labels)\n",
    "    print('epoch %d, acc %f' % (epoch + 1, train_acc))"
   ]
  },
  {
   "cell_type": "code",
   "execution_count": 33,
   "metadata": {},
   "outputs": [
    {
     "data": {
      "text/plain": [
       "tensor([[-0.8224, -0.3235,  0.1638],\n",
       "        [-0.0686,  0.3762,  0.8428],\n",
       "        [-0.3366,  1.6309, -0.6424]], requires_grad=True)"
      ]
     },
     "execution_count": 33,
     "metadata": {},
     "output_type": "execute_result"
    }
   ],
   "source": [
    "# 查看模型结果\n",
    "w"
   ]
  },
  {
   "cell_type": "markdown",
   "metadata": {},
   "source": [
    "- 模型调试\n",
    "\n",
    "首先，先尝试多迭代几轮，观察模型收敛速度"
   ]
  },
  {
   "cell_type": "code",
   "execution_count": 35,
   "metadata": {},
   "outputs": [
    {
     "data": {
      "text/plain": [
       "<torch._C.Generator at 0x1cf92aa1450>"
      ]
     },
     "execution_count": 35,
     "metadata": {},
     "output_type": "execute_result"
    },
    {
     "data": {
      "text/plain": [
       "[<matplotlib.lines.Line2D at 0x1cf972a0790>]"
      ]
     },
     "execution_count": 35,
     "metadata": {},
     "output_type": "execute_result"
    },
    {
     "data": {
      "image/png": "[encoded data removed]",
      "text/plain": [
       "<Figure size 432x288 with 1 Axes>"
      ]
     },
     "metadata": {
      "needs_background": "light"
     },
     "output_type": "display_data"
    }
   ],
   "source": [
    "#————————————————————————————多迭代几轮————————————————————————————\n",
    "# 设置随机数种子\n",
    "torch.manual_seed(420)   \n",
    "\n",
    "# 迭代轮数\n",
    "num_epochs = 20\n",
    "\n",
    "# 设置初始权重\n",
    "w = torch.randn(3, 3, requires_grad = True)   \n",
    "\n",
    "# 设置列表容器\n",
    "train_acc = []\n",
    "\n",
    "# 执行迭代\n",
    "for i in range(num_epochs):\n",
    "    for epoch in range(i):\n",
    "        for X, y in data_iter(batch_size, features, labels):\n",
    "            l = loss(net(X, w), y)\n",
    "            l.backward()\n",
    "            sgd(w, lr)\n",
    "    train_acc.append(m_accuracy(net(features, w), labels))\n",
    "    \n",
    "# 绘制图像查看准确率变化情况\n",
    "plt.plot(list(range(num_epochs)), train_acc)"
   ]
  },
  {
   "cell_type": "markdown",
   "metadata": {},
   "source": [
    "和此前的逻辑回归实验结果类似，在数据内部离散程度较低的情况下，模型收敛速度较快。\n",
    "\n",
    "当然，这里我们可以进行简单拓展，那就是当每一轮epoch时w都进行不同的随机取值，会不会影响模型的收敛速度。"
   ]
  },
  {
   "cell_type": "code",
   "execution_count": 36,
   "metadata": {},
   "outputs": [
    {
     "data": {
      "text/plain": [
       "[<matplotlib.lines.Line2D at 0x1cf972df940>]"
      ]
     },
     "execution_count": 36,
     "metadata": {},
     "output_type": "execute_result"
    },
    {
     "data": {
      "text/plain": [
       "[<matplotlib.lines.Line2D at 0x1cf972dfd00>]"
      ]
     },
     "execution_count": 36,
     "metadata": {},
     "output_type": "execute_result"
    },
    {
     "data": {
      "text/plain": [
       "[<matplotlib.lines.Line2D at 0x1cf972dffd0>]"
      ]
     },
     "execution_count": 36,
     "metadata": {},
     "output_type": "execute_result"
    },
    {
     "data": {
      "text/plain": [
       "[<matplotlib.lines.Line2D at 0x1cf973102e0>]"
      ]
     },
     "execution_count": 36,
     "metadata": {},
     "output_type": "execute_result"
    },
    {
     "data": {
      "text/plain": [
       "[<matplotlib.lines.Line2D at 0x1cf973105b0>]"
      ]
     },
     "execution_count": 36,
     "metadata": {},
     "output_type": "execute_result"
    },
    {
     "data": {
      "text/plain": [
       "[<matplotlib.lines.Line2D at 0x1cf97310880>]"
      ]
     },
     "execution_count": 36,
     "metadata": {},
     "output_type": "execute_result"
    },
    {
     "data": {
      "text/plain": [
       "[<matplotlib.lines.Line2D at 0x1cf97310b50>]"
      ]
     },
     "execution_count": 36,
     "metadata": {},
     "output_type": "execute_result"
    },
    {
     "data": {
      "text/plain": [
       "[<matplotlib.lines.Line2D at 0x1cf97310e20>]"
      ]
     },
     "execution_count": 36,
     "metadata": {},
     "output_type": "execute_result"
    },
    {
     "data": {
      "text/plain": [
       "[<matplotlib.lines.Line2D at 0x1cf973110f0>]"
      ]
     },
     "execution_count": 36,
     "metadata": {},
     "output_type": "execute_result"
    },
    {
     "data": {
      "text/plain": [
       "[<matplotlib.lines.Line2D at 0x1cf973113c0>]"
      ]
     },
     "execution_count": 36,
     "metadata": {},
     "output_type": "execute_result"
    },
    {
     "data": {
      "image/png": "[encoded data removed]",
      "text/plain": [
       "<Figure size 432x288 with 1 Axes>"
      ]
     },
     "metadata": {
      "needs_background": "light"
     },
     "output_type": "display_data"
    }
   ],
   "source": [
    "# 取10组不同的w，在迭代10轮的情况下观察其收敛速度\n",
    "\n",
    "for i in range(10):\n",
    "    # torch.manual_seed(420) \n",
    "    w = torch.randn(3, 3, requires_grad = True)\n",
    "    train_acc = []\n",
    "    for epoch in range(10):\n",
    "        for X, y in data_iter(batch_size, features, labels):\n",
    "            l = loss(net(X, w), y)\n",
    "            l.backward()\n",
    "            sgd(w, lr)\n",
    "        train_acc.append(m_accuracy(net(features, w), labels))\n",
    "    plt.plot(list(range(10)), train_acc)"
   ]
  },
  {
   "cell_type": "markdown",
   "metadata": {},
   "source": [
    "能够发现，尽管初始w的随机取值会影响前期模型的准确率，但在整体收敛速度较快的情况下，基本在5轮左右模型都能达到较高的准确率。\n",
    "\n",
    "也就是说，损失函数的初始值点各不相同，但通过一轮轮梯度下降算法的迭代，都能够找到（逼近）最小值点。此处即验证了梯度下降算法本身的有效性，同时也说明对于该数据集来说，找到（逼近）损失函数的最小值点并不困难。"
   ]
  },
  {
   "cell_type": "markdown",
   "metadata": {},
   "source": [
    "## 二、softmax回归的快速实现\n",
    "\n",
    "&emsp;&emsp;接下来，尝试通过调库快速sofrmax回归。\n",
    "\n",
    "1. 定义核心参数和模型\n",
    "```\n",
    "class softmaxR(nn.Module):\n",
    "    def __init__(self,in_features=2,out_features=3,bias=True) -> None:\n",
    "        super(softmaxR,self).__init__()\n",
    "        self.linear = nn.Linear(in_features,out_features)\n",
    "\n",
    "    def forward(self, x):                                    \n",
    "        out = self.linear(x)             \n",
    "        return out\n",
    "\n",
    "# 实例化\n",
    "softmax_model = softmaxR()\n",
    "```\n",
    "2. 定义损失函数 nn.CrossEntropyLoss()\n",
    "3. 定义优化目标 optim.SGD(softmax_model.parameters(),lr=lr)\n",
    "4. 训练模型\n",
    "   ```\n",
    "   def fit(net, criterion, optimizer, batchdata, epochs):\n",
    "    for epoch in range(epochs):\n",
    "        for X, y in batchdata:\n",
    "            zhat = net.forward(X)\n",
    "            y = y.flatten().long()       # 损失函数计算要求转化为整数\n",
    "            loss = criterion(zhat, y)\n",
    "            optimizer.zero_grad()\n",
    "            loss.backward()\n",
    "            optimizer.step()\n",
    "\n",
    "    fit()\n",
    "   ```"
   ]
  },
  {
   "cell_type": "code",
   "execution_count": 37,
   "metadata": {},
   "outputs": [],
   "source": [
    "batch_size = 10                                # 每一个小批的数量\n",
    "lr = 0.03                                      # 学习率\n",
    "num_epochs = 3                                 # 训练过程遍历几次数据"
   ]
  },
  {
   "cell_type": "code",
   "execution_count": 38,
   "metadata": {},
   "outputs": [
    {
     "data": {
      "text/plain": [
       "<torch._C.Generator at 0x1cf92aa1450>"
      ]
     },
     "execution_count": 38,
     "metadata": {},
     "output_type": "execute_result"
    }
   ],
   "source": [
    "#————————————————————————————准备数据————————————————————————————\n",
    "# 设置随机数种子\n",
    "torch.manual_seed(420)   \n",
    "\n",
    "# 创建数据集\n",
    "features, labels = tensorGenCla(deg_dispersion = [6, 2])\n",
    "labels = labels.float()                           # 损失函数要求标签也必须是浮点型\n",
    "data = TensorDataset(features, labels)            \n",
    "batchData = DataLoader(data, batch_size = batch_size, shuffle = True)"
   ]
  },
  {
   "cell_type": "code",
   "execution_count": 45,
   "metadata": {},
   "outputs": [],
   "source": [
    "#————————————————————————————Stage1 定义模型————————————————————————————\n",
    "class softmaxR(nn.Module):\n",
    "    def __init__(self,in_features=2,out_features=3,bias=True) -> None:\n",
    "        super(softmaxR,self).__init__()\n",
    "        self.linear = nn.Linear(in_features,out_features)\n",
    "\n",
    "    def forward(self, x):                                    # 定义模型的正向传播规则\n",
    "        out = self.linear(x)             \n",
    "        return out\n",
    "\n",
    "# 实例化\n",
    "softmax_model = softmaxR()"
   ]
  },
  {
   "cell_type": "markdown",
   "metadata": {},
   "source": [
    "> 由于我们所采用的`CrossEntropyLoss`类进行的损失函数求解，该类会自动对输入对象进行softmax转化，因此上述过程仍然只是构建了模型基本架构。"
   ]
  },
  {
   "cell_type": "code",
   "execution_count": 46,
   "metadata": {},
   "outputs": [],
   "source": [
    "#————————————————————————————Stage2 定义损失函数————————————————————————————\n",
    "criterion = nn.CrossEntropyLoss()"
   ]
  },
  {
   "cell_type": "code",
   "execution_count": 47,
   "metadata": {},
   "outputs": [],
   "source": [
    "#————————————————————————————Stage3. 定义优化方法————————————————————————————\n",
    "optimizer = optim.SGD(softmax_model.parameters(),lr=lr)\n"
   ]
  },
  {
   "cell_type": "code",
   "execution_count": 48,
   "metadata": {},
   "outputs": [],
   "source": [
    "#————————————————————————————Stage4.模型训练————————————————————————————\n",
    "def fit(net, criterion, optimizer, batchdata, epochs):\n",
    "    for epoch in range(epochs):\n",
    "        for X, y in batchdata:\n",
    "            zhat = net.forward(X)\n",
    "            y = y.flatten().long()       # 损失函数计算要求转化为整数\n",
    "            loss = criterion(zhat, y)\n",
    "            optimizer.zero_grad()\n",
    "            loss.backward()\n",
    "            optimizer.step()"
   ]
  },
  {
   "cell_type": "code",
   "execution_count": 49,
   "metadata": {},
   "outputs": [],
   "source": [
    "fit(net = softmax_model, \n",
    "    criterion = criterion, \n",
    "    optimizer = optimizer, \n",
    "    batchdata = batchData, \n",
    "    epochs = num_epochs)"
   ]
  },
  {
   "cell_type": "code",
   "execution_count": 50,
   "metadata": {},
   "outputs": [
    {
     "data": {
      "text/plain": [
       "softmaxR(\n",
       "  (linear): Linear(in_features=2, out_features=3, bias=True)\n",
       ")"
      ]
     },
     "execution_count": 50,
     "metadata": {},
     "output_type": "execute_result"
    }
   ],
   "source": [
    "#  训练结果\n",
    "\n",
    "softmax_model"
   ]
  },
  {
   "cell_type": "code",
   "execution_count": 51,
   "metadata": {},
   "outputs": [
    {
     "name": "stdout",
     "output_type": "stream",
     "text": [
      "[Parameter containing:\n",
      "tensor([[-0.8463, -0.5115],\n",
      "        [-0.3023, -0.0237],\n",
      "        [ 0.1540,  0.4283]], requires_grad=True), Parameter containing:\n",
      "tensor([-0.9035,  1.5806, -0.3878], requires_grad=True)]\n"
     ]
    }
   ],
   "source": [
    "# 查看模型参数\n",
    "print(list(softmax_model.parameters()))\n",
    "\n",
    "# 单独计算截距"
   ]
  },
  {
   "cell_type": "code",
   "execution_count": 52,
   "metadata": {},
   "outputs": [
    {
     "data": {
      "text/plain": [
       "tensor(0.1779, grad_fn=<NllLossBackward0>)"
      ]
     },
     "execution_count": 52,
     "metadata": {},
     "output_type": "execute_result"
    }
   ],
   "source": [
    "# 计算交叉熵损失\n",
    "criterion(softmax_model(features), labels.flatten().long())"
   ]
  },
  {
   "cell_type": "code",
   "execution_count": 53,
   "metadata": {},
   "outputs": [
    {
     "data": {
      "text/plain": [
       "tensor(0.9573)"
      ]
     },
     "execution_count": 53,
     "metadata": {},
     "output_type": "execute_result"
    }
   ],
   "source": [
    "# 借助F.softmax函数，计算准确率\n",
    "m_accuracy(F.softmax(softmax_model(features), 1), labels)"
   ]
  },
  {
   "cell_type": "code",
   "execution_count": 54,
   "metadata": {},
   "outputs": [
    {
     "data": {
      "text/plain": [
       "tensor([[9.6163e-01, 3.8337e-02, 3.6071e-05],\n",
       "        [9.6610e-01, 3.3870e-02, 2.6515e-05],\n",
       "        [9.6442e-01, 3.5553e-02, 3.1001e-05],\n",
       "        ...,\n",
       "        [1.7960e-05, 5.4580e-02, 9.4540e-01],\n",
       "        [3.3178e-07, 8.0571e-03, 9.9194e-01],\n",
       "        [1.8604e-04, 1.5292e-01, 8.4689e-01]], grad_fn=<SoftmaxBackward0>)"
      ]
     },
     "execution_count": 54,
     "metadata": {},
     "output_type": "execute_result"
    }
   ],
   "source": [
    "F.softmax(softmax_model(features), 1)"
   ]
  },
  {
   "cell_type": "markdown",
   "metadata": {},
   "source": [
    "### 2.模型调试\n",
    "\n",
    "首先，上述结果能否在多迭代几轮的情况下逐步提升"
   ]
  },
  {
   "cell_type": "code",
   "execution_count": 55,
   "metadata": {},
   "outputs": [
    {
     "data": {
      "text/plain": [
       "<torch._C.Generator at 0x1cf92aa1450>"
      ]
     },
     "execution_count": 55,
     "metadata": {},
     "output_type": "execute_result"
    }
   ],
   "source": [
    "#————————————————————————————生成数据————————————————————————————\n",
    "# 设置随机数种子\n",
    "torch.manual_seed(420)   \n",
    "\n",
    "# 创建数据集\n",
    "features, labels = tensorGenCla(deg_dispersion = [6, 2])\n",
    "labels = labels.float()                           # 损失函数要求标签也必须是浮点型\n",
    "data = TensorDataset(features, labels)            \n",
    "batchData = DataLoader(data, batch_size = batch_size, shuffle = True)"
   ]
  },
  {
   "cell_type": "code",
   "execution_count": 56,
   "metadata": {},
   "outputs": [
    {
     "data": {
      "text/plain": [
       "<torch._C.Generator at 0x1cf92aa1450>"
      ]
     },
     "execution_count": 56,
     "metadata": {},
     "output_type": "execute_result"
    },
    {
     "data": {
      "text/plain": [
       "[<matplotlib.lines.Line2D at 0x1cf973d92d0>]"
      ]
     },
     "execution_count": 56,
     "metadata": {},
     "output_type": "execute_result"
    },
    {
     "data": {
      "image/png": "[encoded data removed]",
      "text/plain": [
       "<Figure size 432x288 with 1 Axes>"
      ]
     },
     "metadata": {
      "needs_background": "light"
     },
     "output_type": "display_data"
    }
   ],
   "source": [
    "#————————————————————————————多迭代几轮————————————————————————————\n",
    "# 设置随机数种子\n",
    "torch.manual_seed(420)  \n",
    "\n",
    "# 初始化核心参数\n",
    "num_epochs = 20\n",
    "SF1 = softmaxR()\n",
    "cr1 = nn.CrossEntropyLoss()\n",
    "op1 = optim.SGD(SF1.parameters(), lr = lr)\n",
    "\n",
    "# 创建列表容器\n",
    "train_acc = []\n",
    "\n",
    "# 执行建模\n",
    "for epochs in range(num_epochs):\n",
    "    fit(net = SF1, \n",
    "        criterion = cr1, \n",
    "        optimizer = op1, \n",
    "        batchdata = batchData, \n",
    "        epochs = epochs)\n",
    "    epoch_acc = m_accuracy(F.softmax(SF1(features), 1), labels)\n",
    "    train_acc.append(epoch_acc)\n",
    "\n",
    "# 绘制图像查看准确率变化情况\n",
    "plt.plot(list(range(num_epochs)), train_acc)"
   ]
  },
  {
   "cell_type": "markdown",
   "metadata": {},
   "source": [
    "和手动实现相同，此处模型也展示了非常快的收敛速度。当然需要再次强调，当num_epochs=20时，SF1参数已经训练了(19+18+...+1)次了。\n",
    "\n",
    "然后考虑增加数据集分类难度"
   ]
  },
  {
   "cell_type": "code",
   "execution_count": 58,
   "metadata": {},
   "outputs": [
    {
     "data": {
      "text/plain": [
       "<torch._C.Generator at 0x1cf92aa1450>"
      ]
     },
     "execution_count": 58,
     "metadata": {},
     "output_type": "execute_result"
    },
    {
     "data": {
      "text/plain": [
       "<matplotlib.collections.PathCollection at 0x1cf973da290>"
      ]
     },
     "execution_count": 58,
     "metadata": {},
     "output_type": "execute_result"
    },
    {
     "data": {
      "image/png": "[encoded data removed]",
      "text/plain": [
       "<Figure size 432x288 with 1 Axes>"
      ]
     },
     "metadata": {
      "needs_background": "light"
     },
     "output_type": "display_data"
    }
   ],
   "source": [
    "#————————————————————————————增加数据的离散程度————————————————————————————\n",
    "# 设置随机数种子\n",
    "torch.manual_seed(420)   \n",
    "\n",
    "# 创建数据集\n",
    "features, labels = tensorGenCla(deg_dispersion = [6, 4])\n",
    "labels = labels.float()                           # 损失函数要求标签也必须是浮点型\n",
    "data = TensorDataset(features, labels)            \n",
    "batchData = DataLoader(data, batch_size = batch_size, shuffle = True)\n",
    "\n",
    "plt.scatter(features[:, 0], features[:, 1], c = labels)"
   ]
  },
  {
   "cell_type": "code",
   "execution_count": 59,
   "metadata": {},
   "outputs": [
    {
     "data": {
      "text/plain": [
       "<torch._C.Generator at 0x1cf92aa1450>"
      ]
     },
     "execution_count": 59,
     "metadata": {},
     "output_type": "execute_result"
    },
    {
     "data": {
      "text/plain": [
       "[<matplotlib.lines.Line2D at 0x1cf974acfa0>]"
      ]
     },
     "execution_count": 59,
     "metadata": {},
     "output_type": "execute_result"
    },
    {
     "data": {
      "image/png": "[encoded data removed]",
      "text/plain": [
       "<Figure size 432x288 with 1 Axes>"
      ]
     },
     "metadata": {
      "needs_background": "light"
     },
     "output_type": "display_data"
    }
   ],
   "source": [
    "#————————————————————————————增加数据的离散程度————————————————————————————\n",
    "\n",
    "# 设置随机数种子\n",
    "torch.manual_seed(420)  \n",
    "\n",
    "# 初始化核心参数\n",
    "num_epochs = 20\n",
    "SF1 = softmaxR()\n",
    "cr1 = nn.CrossEntropyLoss()\n",
    "op1 = optim.SGD(SF1.parameters(), lr = lr)\n",
    "\n",
    "# 创建列表容器\n",
    "train_acc = []\n",
    "\n",
    "# 执行建模\n",
    "for epochs in range(num_epochs):\n",
    "    fit(net = SF1, \n",
    "        criterion = cr1, \n",
    "        optimizer = op1, \n",
    "        batchdata = batchData, \n",
    "        epochs = epochs)\n",
    "    epoch_acc = m_accuracy(F.softmax(SF1(features), 1), labels)\n",
    "    train_acc.append(epoch_acc)\n",
    "\n",
    "# 绘制图像查看准确率变化情况\n",
    "plt.plot(list(range(num_epochs)), train_acc)"
   ]
  },
  {
   "cell_type": "markdown",
   "metadata": {},
   "source": [
    "我们发现，收敛速度仍然很快，模型很快就到达了比较稳定的状态。\n",
    "\n",
    "但和此前的逻辑回归实验相同，模型结果虽然比较稳定，但受到数据集分类难度提升影响，模型准确率却不高，基本维持在80%左右。\n",
    "\n",
    "一般来说，此时就代表模型抵达了判别效力上界，此时模型已经无法有效捕捉数据集中规律。"
   ]
  },
  {
   "cell_type": "markdown",
   "metadata": {},
   "source": [
    "- **模型判别效力上界**   \n",
    "从根本上来说就是模型已经到达（逼近）损失函数的最小值点，但模型的评估指标却无法继续提升。\n",
    "\n",
    "首先，我们可以初始选择多个w来观察损失函数是否已经逼近最小值点而不是落在了局部最小值点附近。"
   ]
  },
  {
   "cell_type": "code",
   "execution_count": 60,
   "metadata": {},
   "outputs": [],
   "source": [
    "#————————————————————————————随机选取多个初始点————————————————————————————\n",
    "# 初始化核心参数\n",
    "cr1 = nn.CrossEntropyLoss()\n",
    "\n",
    "# 创建列表容器\n",
    "train_acc = []\n",
    "\n",
    "# 执行建模\n",
    "# 每次运行建模 初始化都不同的\n",
    "\n",
    "for i in range(10):\n",
    "    SF1 = softmaxR()\n",
    "    op1 = optim.SGD(SF1.parameters(), lr = lr)\n",
    "    fit(net = SF1, \n",
    "        criterion = cr1, \n",
    "        optimizer = op1, \n",
    "        batchdata = batchData, \n",
    "        epochs = 10)\n",
    "    epoch_acc = m_accuracy(F.softmax(SF1(features), 1), labels)\n",
    "    train_acc.append(epoch_acc)"
   ]
  },
  {
   "cell_type": "code",
   "execution_count": 61,
   "metadata": {},
   "outputs": [
    {
     "data": {
      "text/plain": [
       "[tensor(0.7973),\n",
       " tensor(0.7960),\n",
       " tensor(0.8000),\n",
       " tensor(0.7967),\n",
       " tensor(0.7913),\n",
       " tensor(0.7900),\n",
       " tensor(0.7980),\n",
       " tensor(0.7900),\n",
       " tensor(0.8020),\n",
       " tensor(0.8053)]"
      ]
     },
     "execution_count": 61,
     "metadata": {},
     "output_type": "execute_result"
    }
   ],
   "source": [
    "train_acc"
   ]
  },
  {
   "cell_type": "markdown",
   "metadata": {},
   "source": [
    "初始化不同的w发现最终模型准确率仍然是80%左右，也从侧面印证迭代过程没有问题，模型已经到达（逼近）最小值点。"
   ]
  }
 ],
 "metadata": {
  "kernelspec": {
   "display_name": "Python 3.10.0 64-bit",
   "language": "python",
   "name": "python3"
  },
  "language_info": {
   "codemirror_mode": {
    "name": "ipython",
    "version": 3
   },
   "file_extension": ".py",
   "mimetype": "text/x-python",
   "name": "python",
   "nbconvert_exporter": "python",
   "pygments_lexer": "ipython3",
   "version": "3.10.0"
  },
  "orig_nbformat": 4,
  "vscode": {
   "interpreter": {
    "hash": "3296471c9107718e6db2104fe506aa09d2e74f3fa2347eed57e489ba84541490"
   }
  }
 },
 "nbformat": 4,
 "nbformat_minor": 2
}
