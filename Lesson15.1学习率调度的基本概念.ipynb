{
 "cells": [
  {
   "cell_type": "markdown",
   "metadata": {},
   "source": [
    "# Lesson 15.1 学习率调度基本概念与手动实现方法\n",
    "\n",
    "学习率调整的场景：\n",
    "\n",
    "- 缓解Dead ReLU Problem      \n",
    "&emsp;&emsp;在ReLU激活函数叠加的神经网络中，由于ReLU本身负值归零的特性，可能会出现Dead ReLU Problem，我们可以通过减小学习率来降低模型落入活性失效陷进的概率。不过降低学习率也代表模型收敛速度更慢\n",
    "\n",
    "- 提升模型表现      \n",
    "&emsp;&emsp;学习率绝对数值的调整过程中，学习率对模型性能的影响整体呈现U型特征，即学习率过大或者过小都不好，学习过大可能会导致模型无法穿越狭窄的通道最终抵达最小值点，而学习率太小则容易在最小值点附近停止收敛，因此在进行模型训练时，我们需要找到一个适中的准确率取值\n",
    "\n",
    "**学习率的设置**\n",
    "- 模型学习率设置太大\n",
    "  - 虽然前期收敛速度较快\n",
    "  - 但容易出现收敛过程不稳定、收敛结果不佳、或者神经元活性失效等问题\n",
    "- 学习率设置太小\n",
    "  - 虽然收敛过程将相对平稳，并且能够有效规避神经元活性坏死的问题\n",
    "  - 但容易出现收敛速度慢、收敛结果不佳等问题。"
   ]
  },
  {
   "cell_type": "markdown",
   "metadata": {},
   "source": [
    "### 一、学习率对模型训练影响\n",
    "\n",
    "- 学习率较大的模型收敛速度较快，但效果却不一定最好\n",
    "- 学习率非常小的模型不仅收敛速度较慢，并且效果也不尽如人意\n",
    "- `A.extend(B)` 用于在列表A末尾一次性追加另一个序列B中的多个值"
   ]
  },
  {
   "cell_type": "code",
   "execution_count": 1,
   "metadata": {},
   "outputs": [
    {
     "data": {
      "text/plain": [
       "<torch._C.Generator at 0x1f474e7ef30>"
      ]
     },
     "execution_count": 1,
     "metadata": {},
     "output_type": "execute_result"
    }
   ],
   "source": [
    "# 设置随机数种子\n",
    "torch.manual_seed(420)  \n",
    "\n",
    "# 创建最高项为2的多项式回归数据集\n",
    "features, labels = tensorGenReg(w=[2, -1, 3, 1, 2], bias=False, deg=2)\n",
    "\n",
    "# 进行数据集切分与加载\n",
    "train_loader, test_loader = split_loader(features, labels, batch_size=50)"
   ]
  },
  {
   "cell_type": "code",
   "execution_count": 2,
   "metadata": {},
   "outputs": [
    {
     "data": {
      "text/plain": [
       "<torch._C.Generator at 0x1f474e7ef30>"
      ]
     },
     "execution_count": 2,
     "metadata": {},
     "output_type": "execute_result"
    }
   ],
   "source": [
    "# 设置随机数种子\n",
    "torch.manual_seed(24)  \n",
    "\n",
    "# 关键参数\n",
    "num_epochs = 20\n",
    "\n",
    "# 实例化模型  tanh为激活函数\n",
    "tanh_model1 = net_class2(act_fun = torch.tanh, in_features=5, BN_model='pre')\n",
    "tanh_model2 = net_class2(act_fun = torch.tanh, in_features=5, BN_model='pre')\n",
    "tanh_model3 = net_class2(act_fun = torch.tanh, in_features=5, BN_model='pre')\n",
    "tanh_model4 = net_class2(act_fun = torch.tanh, in_features=5, BN_model='pre')"
   ]
  },
  {
   "cell_type": "code",
   "execution_count": 3,
   "metadata": {},
   "outputs": [],
   "source": [
    "#————————————————————————4组模型只有学习率不同————————————————————————\n",
    "# tanh_model进行模型训练\n",
    "train_l1, test_l1 = model_train_test(tanh_model1, \n",
    "                                     train_loader,\n",
    "                                     test_loader,\n",
    "                                     num_epochs = num_epochs, \n",
    "                                     criterion = nn.MSELoss(), \n",
    "                                     optimizer = optim.SGD, \n",
    "                                     lr = 0.03, \n",
    "                                     cla = False, \n",
    "                                     eva = mse_cal)\n",
    "\n",
    "train_l2, test_l2 = model_train_test(tanh_model2, \n",
    "                                     train_loader,\n",
    "                                     test_loader,\n",
    "                                     num_epochs = num_epochs, \n",
    "                                     criterion = nn.MSELoss(), \n",
    "                                     optimizer = optim.SGD, \n",
    "                                     lr = 0.01, \n",
    "                                     cla = False, \n",
    "                                     eva = mse_cal)\n",
    "\n",
    "train_l3, test_l3 = model_train_test(tanh_model3, \n",
    "                                     train_loader,\n",
    "                                     test_loader,\n",
    "                                     num_epochs = num_epochs, \n",
    "                                     criterion = nn.MSELoss(), \n",
    "                                     optimizer = optim.SGD, \n",
    "                                     lr = 0.005, \n",
    "                                     cla = False, \n",
    "                                     eva = mse_cal)\n",
    "\n",
    "train_l4, test_l4 = model_train_test(tanh_model4, \n",
    "                                     train_loader,\n",
    "                                     test_loader,\n",
    "                                     num_epochs = num_epochs, \n",
    "                                     criterion = nn.MSELoss(), \n",
    "                                     optimizer = optim.SGD, \n",
    "                                     lr = 0.001, \n",
    "                                     cla = False, \n",
    "                                     eva = mse_cal)"
   ]
  },
  {
   "cell_type": "code",
   "execution_count": 4,
   "metadata": {},
   "outputs": [
    {
     "data": {
      "text/plain": [
       "[<matplotlib.lines.Line2D at 0x1f403a8ee00>]"
      ]
     },
     "execution_count": 4,
     "metadata": {},
     "output_type": "execute_result"
    },
    {
     "data": {
      "text/plain": [
       "[<matplotlib.lines.Line2D at 0x1f403a8ef50>]"
      ]
     },
     "execution_count": 4,
     "metadata": {},
     "output_type": "execute_result"
    },
    {
     "data": {
      "text/plain": [
       "[<matplotlib.lines.Line2D at 0x1f403a8f340>]"
      ]
     },
     "execution_count": 4,
     "metadata": {},
     "output_type": "execute_result"
    },
    {
     "data": {
      "text/plain": [
       "[<matplotlib.lines.Line2D at 0x1f403a8f6a0>]"
      ]
     },
     "execution_count": 4,
     "metadata": {},
     "output_type": "execute_result"
    },
    {
     "data": {
      "text/plain": [
       "<matplotlib.legend.Legend at 0x1f403a8f220>"
      ]
     },
     "execution_count": 4,
     "metadata": {},
     "output_type": "execute_result"
    },
    {
     "data": {
      "image/png": "[encoded data removed]",
      "text/plain": [
       "<Figure size 432x288 with 1 Axes>"
      ]
     },
     "metadata": {
      "needs_background": "light"
     },
     "output_type": "display_data"
    }
   ],
   "source": [
    "plt.plot(list(range(num_epochs)), train_l1, label='train_mse_0.03')\n",
    "plt.plot(list(range(num_epochs)), train_l2, label='train_mse_0.01')\n",
    "plt.plot(list(range(num_epochs)), train_l3, label='train_mse_0.005')\n",
    "plt.plot(list(range(num_epochs)), train_l4, label='train_mse_0.001')\n",
    "plt.legend(loc = 1)\n",
    "\n",
    "# 学习率较大的模型收敛速度较快，但效果却不一定最好\n",
    "# 而学习率非常小的模型不仅收敛速度较慢，并且效果也不尽如人意。"
   ]
  },
  {
   "cell_type": "markdown",
   "metadata": {},
   "source": [
    "在实际生产生活中，训练一个模型已经是非常耗费时间的了，为了一个超参数同时训练多组模型并不划算。而要通过学习率数值调整来让模型“又好又快”的收敛，就需要采用一种名为学习率调度的优化算法。"
   ]
  },
  {
   "cell_type": "markdown",
   "metadata": {},
   "source": [
    "## 二、学习率调度基本概念与手动实现方法\n",
    "\n",
    "### 1.学习率调度基本概念\n",
    "\n",
    "先让学习率取得较大数值，从而能够让模型在最开始能够以较快的速度收敛；然后在经过一段时间迭代之后，将学习率调小，从而能够让收敛过程穿过损失函数的“隘口”，抵达更小的解。\n",
    "\n",
    "### 2.手动实现学习率调度\n",
    "\n",
    "- 利用input函数输入epoch,lr\n",
    "\n",
    "#### 2.1 本地实现方法\n",
    "\n",
    "我们可以借助Python中的input函数来手动实现学习率伴随迭代epoch次数的动态调整，具体操作方法如下："
   ]
  },
  {
   "cell_type": "code",
   "execution_count": 5,
   "metadata": {},
   "outputs": [
    {
     "data": {
      "text/plain": [
       "<torch._C.Generator at 0x1f474e7ef30>"
      ]
     },
     "execution_count": 5,
     "metadata": {},
     "output_type": "execute_result"
    }
   ],
   "source": [
    "# 实例化模型\n",
    "# 设置随机数种子\n",
    "torch.manual_seed(24)  \n",
    "\n",
    "# 实例化模型  \n",
    "tanh_model = net_class2(act_fun=torch.tanh, in_features=5, BN_model='pre')"
   ]
  },
  {
   "cell_type": "markdown",
   "metadata": {},
   "source": [
    "- 更新fit函数  \n",
    "&emsp;&emsp;接下来我们对fit函数进行更新，在原有fit函数基础上加上每一轮迭代后模型评估结果的记录功能。"
   ]
  },
  {
   "cell_type": "code",
   "execution_count": 6,
   "metadata": {},
   "outputs": [],
   "source": [
    "def fit_rec(net, \n",
    "            criterion, \n",
    "            optimizer, \n",
    "            train_data,\n",
    "            test_data,\n",
    "            epochs = 3, \n",
    "            cla = False, \n",
    "            eva = mse_cal):\n",
    "    \"\"\"模型训练函数（记录每一次遍历后模型评估指标）\n",
    "    \n",
    "    :param net：待训练的模型 \n",
    "    :param criterion: 损失函数\n",
    "    :param optimizer：优化算法\n",
    "    :param train_data：训练数据\n",
    "    :param test_data: 测试数据 \n",
    "    :param epochs: 遍历数据次数\n",
    "    :param cla: 是否是分类问题\n",
    "    :param eva: 模型评估方法\n",
    "    :return：模型评估结果\n",
    "    \"\"\"\n",
    "    train_l = []\n",
    "    test_l = []\n",
    "    \n",
    "    for epoch  in range(epochs):\n",
    "        net.train()\n",
    "        for X, y in train_data:\n",
    "            if cla == True:\n",
    "                y = y.flatten().long()          # 如果是分类问题，需要对y进行整数转化\n",
    "            yhat = net.forward(X)\n",
    "            loss = criterion(yhat, y)\n",
    "            optimizer.zero_grad()\n",
    "            loss.backward()\n",
    "            optimizer.step()\n",
    "        net.eval()\n",
    "        train_l.append(eva(train_data, net).detach())\n",
    "        test_l.append(eva(test_data, net).detach())\n",
    "        # 返回每epoch的训练误差和测试误差\n",
    "    return train_l, test_l"
   ]
  },
  {
   "cell_type": "code",
   "execution_count": 7,
   "metadata": {},
   "outputs": [
    {
     "data": {
      "text/plain": [
       "([tensor(37.9793), tensor(32.4801), tensor(30.2007)],\n",
       " [tensor(37.7321), tensor(33.3702), tensor(32.1592)])"
      ]
     },
     "execution_count": 7,
     "metadata": {},
     "output_type": "execute_result"
    }
   ],
   "source": [
    "#——————————————————————————测试函数性能——————————————————————————\n",
    "fit_rec(net = tanh_model, \n",
    "        criterion = nn.MSELoss(), \n",
    "        optimizer = optim.SGD(tanh_model.parameters(), lr = 0.03), \n",
    "        train_data = train_loader,\n",
    "        test_data = test_loader,\n",
    "        epochs = 3, \n",
    "        cla = False, \n",
    "        eva = mse_cal)"
   ]
  },
  {
   "cell_type": "markdown",
   "metadata": {},
   "source": [
    "- 手动动态调整过程\n",
    "\n",
    "&emsp;&emsp;接下来，我们尝试借助Python中的input函数功能，来执行手动动态调整模型训练过程中的学习率。"
   ]
  },
  {
   "cell_type": "code",
   "execution_count": 8,
   "metadata": {},
   "outputs": [
    {
     "data": {
      "text/plain": [
       "<torch._C.Generator at 0x1f474e7ef30>"
      ]
     },
     "execution_count": 8,
     "metadata": {},
     "output_type": "execute_result"
    }
   ],
   "source": [
    "# 设置随机数种子\n",
    "torch.manual_seed(24)  \n",
    "\n",
    "# 实例化模型  \n",
    "tanh_model = net_class2(act_fun=torch.tanh, in_features=5, BN_model='pre')"
   ]
  },
  {
   "cell_type": "code",
   "execution_count": 9,
   "metadata": {},
   "outputs": [],
   "source": [
    "#———————————————————————————第一个模型————————————————————————————\n",
    "# 创建用于保存记录结果的空列表容器\n",
    "train_mse = []\n",
    "test_mse = []\n",
    "\n",
    "# 创建可以捕捉手动输入数据的模型训练流程\n",
    "while input(\"Do you want to continue the iteration? [y/n]\") == \"y\":    # 询问是否继续迭代\n",
    "    epochs = int(input(\"Number of epochs:\"))                           # 下一轮迭代遍历几次数据\n",
    "    lr = float(input(\"Update learning rate：\"))                        # 设置下一轮迭代的学习率\n",
    "    train_l, test_l = fit_rec(net = tanh_model, \n",
    "                              criterion = nn.MSELoss(), \n",
    "                              optimizer = optim.SGD(tanh_model.parameters(), lr = lr), \n",
    "                              train_data = train_loader,\n",
    "                              test_data = test_loader,\n",
    "                              epochs = epochs, \n",
    "                              cla = False, \n",
    "                              eva = mse_cal)\n",
    "    train_mse.extend(train_l)\n",
    "    test_mse.extend(test_l)\n",
    "    \n",
    "# `A.extend(B)` 用于在列表A末尾一次性追加另一个序列B中的多个值\n",
    "\n",
    "# 每次输入 是否迭代 -> num_epochs -> lr\n",
    "#  y  -> 30 -> 0.03 -> y -> 30 -> 0.01 -> n"
   ]
  },
  {
   "cell_type": "code",
   "execution_count": 10,
   "metadata": {},
   "outputs": [
    {
     "data": {
      "text/plain": [
       "[<matplotlib.lines.Line2D at 0x1f40326c040>]"
      ]
     },
     "execution_count": 10,
     "metadata": {},
     "output_type": "execute_result"
    },
    {
     "data": {
      "text/plain": [
       "<matplotlib.legend.Legend at 0x1f403b41f60>"
      ]
     },
     "execution_count": 10,
     "metadata": {},
     "output_type": "execute_result"
    },
    {
     "data": {
      "image/png": "[encoded data removed]",
      "text/plain": [
       "<Figure size 432x288 with 1 Axes>"
      ]
     },
     "metadata": {
      "needs_background": "light"
     },
     "output_type": "display_data"
    }
   ],
   "source": [
    "# 查看模型训练结果\n",
    "plt.plot(train_mse, label='train_mse')\n",
    "plt.legend(loc = 1)"
   ]
  },
  {
   "cell_type": "code",
   "execution_count": 11,
   "metadata": {},
   "outputs": [
    {
     "data": {
      "text/plain": [
       "<torch._C.Generator at 0x1f474e7ef30>"
      ]
     },
     "execution_count": 11,
     "metadata": {},
     "output_type": "execute_result"
    }
   ],
   "source": [
    "# 以0.03作为学习率迭代60个epochs，对比模型训练效果\n",
    "# 设置随机数种子\n",
    "torch.manual_seed(24)  \n",
    "\n",
    "# 实例化模型  \n",
    "tanh_model = net_class2(act_fun=torch.tanh, in_features=5, BN_model='pre')"
   ]
  },
  {
   "cell_type": "code",
   "execution_count": 12,
   "metadata": {},
   "outputs": [],
   "source": [
    "#———————————————————————————第二个模型- 以0.03作为学习率迭代60个epochs———————————————————————————\n",
    "# 创建用于保存记录结果的空列表容器\n",
    "train_msel = []\n",
    "test_msel = []\n",
    "\n",
    "# 创建可以捕捉手动输入数据的模型训练流程\n",
    "while input(\"Do you want to continue the iteration? [y/n]\") == \"y\":    # 询问是否继续迭代\n",
    "    epochs = int(input(\"Number of epochs:\"))                           # 下一轮迭代遍历几次数据\n",
    "    lr = float(input(\"Update learning rate：\"))                        # 设置下一轮迭代的学习率\n",
    "    train_l, test_l = fit_rec(net = tanh_model, \n",
    "                              criterion = nn.MSELoss(), \n",
    "                              optimizer = optim.SGD(tanh_model.parameters(), lr = lr), \n",
    "                              train_data = train_loader,\n",
    "                              test_data = test_loader,\n",
    "                              epochs = epochs, \n",
    "                              cla = False, \n",
    "                              eva = mse_cal)\n",
    "    train_msel.extend(train_l)\n",
    "    test_msel.extend(test_l)\n",
    "\n",
    "    # y 60 0.03 n"
   ]
  },
  {
   "cell_type": "code",
   "execution_count": 13,
   "metadata": {},
   "outputs": [
    {
     "data": {
      "text/plain": [
       "[<matplotlib.lines.Line2D at 0x1f403151960>]"
      ]
     },
     "execution_count": 13,
     "metadata": {},
     "output_type": "execute_result"
    },
    {
     "data": {
      "text/plain": [
       "[<matplotlib.lines.Line2D at 0x1f403151780>]"
      ]
     },
     "execution_count": 13,
     "metadata": {},
     "output_type": "execute_result"
    },
    {
     "data": {
      "text/plain": [
       "Text(0.5, 0, 'epochs')"
      ]
     },
     "execution_count": 13,
     "metadata": {},
     "output_type": "execute_result"
    },
    {
     "data": {
      "text/plain": [
       "Text(0, 0.5, 'MSE')"
      ]
     },
     "execution_count": 13,
     "metadata": {},
     "output_type": "execute_result"
    },
    {
     "data": {
      "text/plain": [
       "<matplotlib.legend.Legend at 0x1f4031517b0>"
      ]
     },
     "execution_count": 13,
     "metadata": {},
     "output_type": "execute_result"
    },
    {
     "data": {
      "image/png": "[encoded data removed]",
      "text/plain": [
       "<Figure size 432x288 with 1 Axes>"
      ]
     },
     "metadata": {
      "needs_background": "light"
     },
     "output_type": "display_data"
    }
   ],
   "source": [
    "plt.plot(train_mse, label='train_mse')\n",
    "plt.plot(train_msel, label='train_msel')\n",
    "plt.xlabel('epochs')\n",
    "plt.ylabel('MSE')\n",
    "plt.legend(loc = 1)\n",
    "\n",
    "# 手动调整模型学习率的第一个模型在最终模型表现上比第二个模型更好\n",
    "# 在同样遍历了60次的情况下，模型一能够收敛至一个更小的MSE。"
   ]
  },
  {
   "cell_type": "code",
   "execution_count": 14,
   "metadata": {},
   "outputs": [
    {
     "data": {
      "text/plain": [
       "<torch._C.Generator at 0x1f474e7ef30>"
      ]
     },
     "execution_count": 14,
     "metadata": {},
     "output_type": "execute_result"
    }
   ],
   "source": [
    "#———————————————————————————学习率为0.01———————————————————————————\n",
    "# 设置随机数种子\n",
    "torch.manual_seed(24)  \n",
    "\n",
    "# 实例化模型  \n",
    "tanh_model = net_class2(act_fun=torch.tanh, in_features=5, BN_model='pre')\n"
   ]
  },
  {
   "cell_type": "code",
   "execution_count": 15,
   "metadata": {},
   "outputs": [],
   "source": [
    "# 创建用于保存记录结果的空列表容器\n",
    "train_mses = []\n",
    "test_mses = []\n",
    "\n",
    "# 创建可以捕捉手动输入数据的模型训练流程\n",
    "while input(\"Do you want to continue the iteration? [y/n]\") == \"y\":    # 询问是否继续迭代\n",
    "    epochs = int(input(\"Number of epochs:\"))                           # 下一轮迭代遍历几次数据\n",
    "    lr = float(input(\"Update learning rate：\"))                        # 设置下一轮迭代的学习率\n",
    "    train_l, test_l = fit_rec(net = tanh_model, \n",
    "                              criterion = nn.MSELoss(), \n",
    "                              optimizer = optim.SGD(tanh_model.parameters(), lr = lr), \n",
    "                              train_data = train_loader,\n",
    "                              test_data = test_loader,\n",
    "                              epochs = epochs, \n",
    "                              cla = False, \n",
    "                              eva = mse_cal)\n",
    "    train_mses.extend(train_l)\n",
    "    test_mses.extend(test_l)"
   ]
  },
  {
   "cell_type": "code",
   "execution_count": 16,
   "metadata": {},
   "outputs": [
    {
     "data": {
      "text/plain": [
       "[<matplotlib.lines.Line2D at 0x1f403302260>]"
      ]
     },
     "execution_count": 16,
     "metadata": {},
     "output_type": "execute_result"
    },
    {
     "data": {
      "text/plain": [
       "[<matplotlib.lines.Line2D at 0x1f403302080>]"
      ]
     },
     "execution_count": 16,
     "metadata": {},
     "output_type": "execute_result"
    },
    {
     "data": {
      "text/plain": [
       "Text(0.5, 0, 'epochs')"
      ]
     },
     "execution_count": 16,
     "metadata": {},
     "output_type": "execute_result"
    },
    {
     "data": {
      "text/plain": [
       "Text(0, 0.5, 'MSE')"
      ]
     },
     "execution_count": 16,
     "metadata": {},
     "output_type": "execute_result"
    },
    {
     "data": {
      "text/plain": [
       "<matplotlib.legend.Legend at 0x1f4033026e0>"
      ]
     },
     "execution_count": 16,
     "metadata": {},
     "output_type": "execute_result"
    },
    {
     "data": {
      "image/png": "[encoded data removed]",
      "text/plain": [
       "<Figure size 432x288 with 1 Axes>"
      ]
     },
     "metadata": {
      "needs_background": "light"
     },
     "output_type": "display_data"
    }
   ],
   "source": [
    "plt.plot(train_mse, label='train_mse')\n",
    "plt.plot(train_mses, label='train_mses')\n",
    "plt.xlabel('epochs')\n",
    "plt.ylabel('MSE')\n",
    "plt.legend(loc = 1)\n",
    "\n",
    "# 我们能够发现，第一个模型收敛速度明显快于第二个模型，\n",
    "# 据此也能说明手动调整模型学习率的有效性。"
   ]
  },
  {
   "cell_type": "markdown",
   "metadata": {},
   "source": [
    "#### 2.2 配合tensorboard实现方法\n",
    "\n",
    "\n",
    "tensorboard中writer对象却能够即时记录模型中间结果，并且同步呈现在tensorboard的操作面板上。借此功能，我们便能将在某个cell尚未运行结束之前看到当前阶段的运行结果。要完成该过程，则需要在此前代码基础之上进行修改。\n",
    "\n",
    "- `writer = SummaryWriter(log_dir='l3')`  实例化 \n",
    "  - log_dir (string): Save directory location\n",
    "- `writer.add_scalar('变量名', y, x)`  添加数据\n",
    "  - "
   ]
  },
  {
   "cell_type": "code",
   "execution_count": 24,
   "metadata": {},
   "outputs": [
    {
     "name": "stdout",
     "output_type": "stream",
     "text": [
      "\u001b[1;31mInit signature:\u001b[0m\n",
      "\u001b[0mSummaryWriter\u001b[0m\u001b[1;33m(\u001b[0m\u001b[1;33m\n",
      "\u001b[0m    \u001b[0mlog_dir\u001b[0m\u001b[1;33m=\u001b[0m\u001b[1;32mNone\u001b[0m\u001b[1;33m,\u001b[0m\u001b[1;33m\n",
      "\u001b[0m    \u001b[0mcomment\u001b[0m\u001b[1;33m=\u001b[0m\u001b[1;34m''\u001b[0m\u001b[1;33m,\u001b[0m\u001b[1;33m\n",
      "\u001b[0m    \u001b[0mpurge_step\u001b[0m\u001b[1;33m=\u001b[0m\u001b[1;32mNone\u001b[0m\u001b[1;33m,\u001b[0m\u001b[1;33m\n",
      "\u001b[0m    \u001b[0mmax_queue\u001b[0m\u001b[1;33m=\u001b[0m\u001b[1;36m10\u001b[0m\u001b[1;33m,\u001b[0m\u001b[1;33m\n",
      "\u001b[0m    \u001b[0mflush_secs\u001b[0m\u001b[1;33m=\u001b[0m\u001b[1;36m120\u001b[0m\u001b[1;33m,\u001b[0m\u001b[1;33m\n",
      "\u001b[0m    \u001b[0mfilename_suffix\u001b[0m\u001b[1;33m=\u001b[0m\u001b[1;34m''\u001b[0m\u001b[1;33m,\u001b[0m\u001b[1;33m\n",
      "\u001b[0m\u001b[1;33m)\u001b[0m\u001b[1;33m\u001b[0m\u001b[1;33m\u001b[0m\u001b[0m\n",
      "\u001b[1;31mDocstring:\u001b[0m     \n",
      "Writes entries directly to event files in the log_dir to be\n",
      "consumed by TensorBoard.\n",
      "\n",
      "The `SummaryWriter` class provides a high-level API to create an event file\n",
      "in a given directory and add summaries and events to it. The class updates the\n",
      "file contents asynchronously. This allows a training program to call methods\n",
      "to add data to the file directly from the training loop, without slowing down\n",
      "training.\n",
      "\u001b[1;31mInit docstring:\u001b[0m\n",
      "Creates a `SummaryWriter` that will write out events and summaries\n",
      "to the event file.\n",
      "\n",
      "Args:\n",
      "    log_dir (string): Save directory location. Default is\n",
      "      runs/**CURRENT_DATETIME_HOSTNAME**, which changes after each run.\n",
      "      Use hierarchical folder structure to compare\n",
      "      between runs easily. e.g. pass in 'runs/exp1', 'runs/exp2', etc.\n",
      "      for each new experiment to compare across them.\n",
      "    comment (string): Comment log_dir suffix appended to the default\n",
      "      ``log_dir``. If ``log_dir`` is assigned, this argument has no effect.\n",
      "    purge_step (int):\n",
      "      When logging crashes at step :math:`T+X` and restarts at step :math:`T`,\n",
      "      any events whose global_step larger or equal to :math:`T` will be\n",
      "      purged and hidden from TensorBoard.\n",
      "      Note that crashed and resumed experiments should have the same ``log_dir``.\n",
      "    max_queue (int): Size of the queue for pending events and\n",
      "      summaries before one of the 'add' calls forces a flush to disk.\n",
      "      Default is ten items.\n",
      "    flush_secs (int): How often, in seconds, to flush the\n",
      "      pending events and summaries to disk. Default is every two minutes.\n",
      "    filename_suffix (string): Suffix added to all event filenames in\n",
      "      the log_dir directory. More details on filename construction in\n",
      "      tensorboard.summary.writer.event_file_writer.EventFileWriter.\n",
      "\n",
      "Examples::\n",
      "\n",
      "    from torch.utils.tensorboard import SummaryWriter\n",
      "\n",
      "    # create a summary writer with automatically generated folder name.\n",
      "    writer = SummaryWriter()\n",
      "    # folder location: runs/May04_22-14-54_s-MacBook-Pro.local/\n",
      "\n",
      "    # create a summary writer using the specified folder name.\n",
      "    writer = SummaryWriter(\"my_experiment\")\n",
      "    # folder location: my_experiment\n",
      "\n",
      "    # create a summary writer with comment appended.\n",
      "    writer = SummaryWriter(comment=\"LR_0.1_BATCH_16\")\n",
      "    # folder location: runs/May04_22-14-54_s-MacBook-Pro.localLR_0.1_BATCH_16/\n",
      "\u001b[1;31mFile:\u001b[0m           c:\\users\\hp\\python\\python310\\lib\\site-packages\\torch\\utils\\tensorboard\\writer.py\n",
      "\u001b[1;31mType:\u001b[0m           type\n",
      "\u001b[1;31mSubclasses:\u001b[0m     \n"
     ]
    }
   ],
   "source": [
    "SummaryWriter?"
   ]
  },
  {
   "cell_type": "code",
   "execution_count": 17,
   "metadata": {},
   "outputs": [
    {
     "data": {
      "text/plain": [
       "[0, 1, 2, 3, 4, 5, 6, 7, 8, 9]"
      ]
     },
     "execution_count": 17,
     "metadata": {},
     "output_type": "execute_result"
    },
    {
     "data": {
      "text/plain": [
       "[3, 4]"
      ]
     },
     "execution_count": 17,
     "metadata": {},
     "output_type": "execute_result"
    },
    {
     "data": {
      "text/plain": [
       "[1, 2]"
      ]
     },
     "execution_count": 17,
     "metadata": {},
     "output_type": "execute_result"
    },
    {
     "name": "stdout",
     "output_type": "stream",
     "text": [
      "1 3\n",
      "2 4\n"
     ]
    }
   ],
   "source": [
    "#———————————————————————zip函数————————————————————————\n",
    "l1 = list(range(10))\n",
    "l1\n",
    "\n",
    "l1[3:5]\n",
    "\n",
    "l2 = list(range(1, 3))\n",
    "l2\n",
    "\n",
    "for i, j in zip(l2, l1[3:5]):\n",
    "    print(i, j)"
   ]
  },
  {
   "cell_type": "code",
   "execution_count": 18,
   "metadata": {},
   "outputs": [
    {
     "data": {
      "text/plain": [
       "<torch._C.Generator at 0x1f474e7ef30>"
      ]
     },
     "execution_count": 18,
     "metadata": {},
     "output_type": "execute_result"
    }
   ],
   "source": [
    "# 设置随机数种子\n",
    "torch.manual_seed(24)  \n",
    "\n",
    "# 实例化模型  \n",
    "tanh_model = net_class2(act_fun= torch.tanh, in_features=5, BN_model='pre')"
   ]
  },
  {
   "cell_type": "code",
   "execution_count": 19,
   "metadata": {},
   "outputs": [],
   "source": [
    "# 实例化writer对象\n",
    "writer = SummaryWriter(log_dir='l3')\n",
    "\n",
    "# 创建空列表容器\n",
    "train_mse = []\n",
    "test_mse = []\n",
    "\n",
    "# 创建总遍历次数计数器\n",
    "num_epochs = 0"
   ]
  },
  {
   "cell_type": "markdown",
   "metadata": {},
   "source": [
    "提前打开tensorboard服务，在命令行中输入\n",
    "```shell\n",
    "F:\n",
    "cd \"F:\\Code File\\PyTorch实战\\\"\n",
    "tensorboard --logdir=\"l3\"\n",
    "```"
   ]
  },
  {
   "cell_type": "code",
   "execution_count": 20,
   "metadata": {},
   "outputs": [],
   "source": [
    "while input(\"Do you want to continue the iteration? [y/n]\") == \"y\":\n",
    "    epochs = int(input(\"Number of epochs:\"))\n",
    "    lr = float(input(\"Update learning rate：\"))\n",
    "    train_l, test_l = fit_rec(net = tanh_model, \n",
    "                              criterion = nn.MSELoss(), \n",
    "                              optimizer = optim.SGD(tanh_model.parameters(), lr = lr), \n",
    "                              train_data = train_loader,\n",
    "                              test_data = test_loader,\n",
    "                              epochs = epochs, \n",
    "                              cla = False, \n",
    "                              eva = mse_cal)\n",
    "    train_mse.extend(train_l)\n",
    "    test_mse.extend(test_l)\n",
    "    for i, j in zip(list(range(num_epochs, num_epochs+epochs)), train_mse[num_epochs: num_epochs+epochs]):\n",
    "        writer.add_scalar('train_mse', j, i)\n",
    "    for i, j in zip(list(range(num_epochs, num_epochs+epochs)), test_mse[num_epochs: num_epochs+epochs]):\n",
    "        writer.add_scalar('test_mse', j, i)\n",
    "    num_epochs += epochs\n",
    "\n",
    "# y 30 0.03 y 30 0.01 n"
   ]
  },
  {
   "cell_type": "markdown",
   "metadata": {},
   "source": [
    "当我们执行完第一阶段的30次遍历之后，我们即可打开浏览器输入`localhost:6006`查看当前记录的模型MSE情况。\n"
   ]
  },
  {
   "cell_type": "markdown",
   "metadata": {},
   "source": [
    "--- "
   ]
  },
  {
   "cell_type": "markdown",
   "metadata": {},
   "source": [
    "值得注意的是，当我们在使用add_scalar进行数据记录时，绘制折线图的横纵坐标都是必须的，如果缺失了横坐标，tensorboard中图像绘制的最终结果将呈现一条竖线。"
   ]
  },
  {
   "cell_type": "code",
   "execution_count": 21,
   "metadata": {},
   "outputs": [],
   "source": [
    "for i in range(10):\n",
    "    writer.add_scalar('i',i)\n",
    "\n",
    "# 图i中，缺失横坐标"
   ]
  },
  {
   "cell_type": "markdown",
   "metadata": {},
   "source": [
    "---"
   ]
  },
  {
   "cell_type": "code",
   "execution_count": 22,
   "metadata": {},
   "outputs": [
    {
     "data": {
      "text/plain": [
       "0"
      ]
     },
     "execution_count": 22,
     "metadata": {},
     "output_type": "execute_result"
    }
   ],
   "source": [
    "num_epochs          # 上一轮循环截止时总共遍历多少次数据"
   ]
  },
  {
   "cell_type": "markdown",
   "metadata": {},
   "source": [
    "我们再遍历30次数据，并设置学习率为0.005进行模型训练，测试代码性能与模型效果"
   ]
  },
  {
   "cell_type": "code",
   "execution_count": 23,
   "metadata": {},
   "outputs": [],
   "source": [
    "#—————————————————遍历30次数据 学习率为0.005————————————————\n",
    "\n",
    "while input(\"Do you want to continue the iteration? [y/n]\") == \"y\":\n",
    "    epochs = int(input(\"Number of epochs:\"))\n",
    "    lr = float(input(\"Update learning rate：\"))\n",
    "    train_l, test_l = fit_rec(net = tanh_model, \n",
    "                              criterion = nn.MSELoss(), \n",
    "                              optimizer = optim.SGD(tanh_model.parameters(), lr = lr), \n",
    "                              train_data = train_loader,\n",
    "                              test_data = test_loader,\n",
    "                              epochs = epochs, \n",
    "                              cla = False, \n",
    "                              eva = mse_cal)\n",
    "    train_mse.extend(train_l)\n",
    "    test_mse.extend(test_l)\n",
    "    for i, j in zip(list(range(num_epochs, num_epochs+epochs)), train_mse[num_epochs: num_epochs+epochs]):\n",
    "        writer.add_scalar('train_mse', j, i)\n",
    "    for i, j in zip(list(range(num_epochs, num_epochs+epochs)), test_mse[num_epochs: num_epochs+epochs]):\n",
    "        writer.add_scalar('test_mse', j, i)\n",
    "    num_epochs += epochs\n",
    "\n",
    "# y 30 0.005 n\n",
    "# 在tensorboard页面中查看总共90轮epochs的训练结果"
   ]
  },
  {
   "cell_type": "markdown",
   "metadata": {},
   "source": [
    "\n",
    "至此，我们就完成了学习率手动调度实验。在上述操作流程中，我们不仅可以即时调整每一次训练遍历数据集的次数、同时灵活设置该训练过程的学习率，并且能够借助tensorboard即时呈现模型训练结果。"
   ]
  },
  {
   "cell_type": "markdown",
   "metadata": {},
   "source": [
    "### 3.常用学习率调度思路\n",
    "\n",
    "伴随模型遍历数据集次数增加、学习率逐渐降低，能够使得模型整体性能有所提升。\n",
    "\n",
    "- 幂调度：        \n",
    "&emsp;&emsp;随着迭代次数增加，学习率呈现幂律变化，\n",
    "  - 例如，$lr$为初始（第一轮）学习率，第二轮迭代时学习率调整为$lr/2$，第三轮迭代时学习率调整为$lr/3$等；\n",
    "\n",
    "- 指数调度：      \n",
    "&emsp;&emsp;随着迭代次数增加，学习率呈现指数变化，\n",
    "  - 例如，$lr$为初始（第一轮）学习率，第二轮迭代时学习率调整为$lr/10^1$，第三轮迭代时学习率调整为$lr/10^2 = lr/100$等\n",
    "\n",
    "- 分段恒定调度：      \n",
    "&emsp;&emsp;即每隔几轮迭代调整一次学习率，\n",
    "  - 例如1-10轮学习率为$lr$，10-20轮时学习率为$lr/100$等，不难发现此前我们所做的实验就是一种特殊的分段恒定调度策略； \n",
    "\n",
    "- 性能调度：      \n",
    "&emsp;&emsp;即每隔一段时间观察误差变化情况，如果误差基本不变，则降低学习率继续迭代；\n",
    "\n",
    "- 周期调度：      \n",
    "&emsp;&emsp;和前面几种学习率调度策略一味将学习率递减有所不同，周期调度允许学习率在一个周期内进行先递增后递减的变化"
   ]
  }
 ],
 "metadata": {
  "kernelspec": {
   "display_name": "Python 3.10.0 64-bit",
   "language": "python",
   "name": "python3"
  },
  "language_info": {
   "codemirror_mode": {
    "name": "ipython",
    "version": 3
   },
   "file_extension": ".py",
   "mimetype": "text/x-python",
   "name": "python",
   "nbconvert_exporter": "python",
   "pygments_lexer": "ipython3",
   "version": "3.10.0"
  },
  "orig_nbformat": 4,
  "vscode": {
   "interpreter": {
    "hash": "3296471c9107718e6db2104fe506aa09d2e74f3fa2347eed57e489ba84541490"
   }
  }
 },
 "nbformat": 4,
 "nbformat_minor": 2
}
